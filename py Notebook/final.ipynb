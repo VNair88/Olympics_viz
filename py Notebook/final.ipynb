{
 "cells": [
  {
   "cell_type": "code",
   "execution_count": 1,
   "metadata": {
    "extensions": {
     "jupyter_dashboards": {
      "version": 1,
      "views": {
       "grid_default": {
        "hidden": true
       },
       "report_default": {}
      }
     }
    }
   },
   "outputs": [],
   "source": [
    "import pandas as pd \n",
    "import seaborn as sns\n",
    "import matplotlib.pyplot as plt\n",
    "import matplotlib.ticker as tick\n",
    "import plotly\n",
    "from plotly import tools\n",
    "import plotly.plotly as py\n",
    "import plotly.figure_factory as ff\n",
    "import plotly.graph_objs as go\n",
    "from plotly.offline import download_plotlyjs, init_notebook_mode, plot, iplot\n",
    "from ipywidgets import widgets, interactive\n",
    "% matplotlib inline"
   ]
  },
  {
   "cell_type": "code",
   "execution_count": 2,
   "metadata": {
    "extensions": {
     "jupyter_dashboards": {
      "version": 1,
      "views": {
       "grid_default": {
        "hidden": true
       },
       "report_default": {}
      }
     }
    }
   },
   "outputs": [],
   "source": [
    "import warnings\n",
    "warnings.filterwarnings(\"ignore\", category=DeprecationWarning) "
   ]
  },
  {
   "cell_type": "code",
   "execution_count": 3,
   "metadata": {
    "extensions": {
     "jupyter_dashboards": {
      "version": 1,
      "views": {
       "grid_default": {
        "hidden": true
       },
       "report_default": {}
      }
     }
    }
   },
   "outputs": [],
   "source": [
    "pd.set_option('display.max_rows', 500)"
   ]
  },
  {
   "cell_type": "code",
   "execution_count": 4,
   "metadata": {
    "extensions": {
     "jupyter_dashboards": {
      "version": 1,
      "views": {
       "grid_default": {
        "hidden": true
       },
       "report_default": {}
      }
     }
    }
   },
   "outputs": [],
   "source": [
    "sns.set_context('talk')\n",
    "sns.set_style(style='darkgrid')"
   ]
  },
  {
   "cell_type": "markdown",
   "metadata": {
    "extensions": {
     "jupyter_dashboards": {
      "version": 1,
      "views": {
       "grid_default": {
        "col": 0,
        "height": 8,
        "hidden": false,
        "row": 0,
        "width": 12
       },
       "report_default": {}
      }
     }
    }
   },
   "source": [
    "## Background \n",
    "The Olympics are considered to be the world's biggest sports competition. The Olympics consist of Winter and Summer games. \n",
    "These seasonal events vary greatly and the following analysis hopes to uncover similarities and differences between the two. The topics analyzed are : \n",
    "1. How participation in these events has changed over time. \n",
    "2. Best performers in Summer and Winter games. \n",
    "3. How does representation of female athletes across countries differ in Summer and Winter games.\n",
    "4. How do athletes who participate in Summer games differ physically from those who participate in Winter games. "
   ]
  },
  {
   "cell_type": "markdown",
   "metadata": {
    "extensions": {
     "jupyter_dashboards": {
      "version": 1,
      "views": {
       "grid_default": {
        "col": 0,
        "height": 4,
        "hidden": false,
        "row": 8,
        "width": 4
       },
       "report_default": {}
      }
     }
    }
   },
   "source": [
    "## Table of contents"
   ]
  },
  {
   "cell_type": "markdown",
   "metadata": {
    "extensions": {
     "jupyter_dashboards": {
      "version": 1,
      "views": {
       "grid_default": {
        "col": 0,
        "height": 6,
        "hidden": false,
        "row": 12,
        "width": 12
       },
       "report_default": {}
      }
     }
    }
   },
   "source": [
    "1. [Data cleaning](#Data-loading-and-cleaning)<br>\n",
    "2. [Analysis](#Analysis)<br>\n",
    "    2.1 [Participation in Summer and Winter Olympics](#Analysis-1:-Participation-over-years-in-Summer-and-Winter-Olympics)<br>\n",
    "    2.2 [Top performers in Summer and Winter Olympics](#Analysis-2:-Top-performers-measured-by-total-tally-of-medals-and-by-average-medals-won-per-year)<br>\n",
    "    2.3 [Representation of female athletes in Summer and Winter Olympics](#Analysis-3:-Representation-in-national-teams-in-Summer-&-Winter-Olympics)<br>\n",
    "    2.4 [Height & Weight distribution of athletes in Summer and Winter Olympics](#Analysis-4:-Height-&-Weight-distribution-by-sporting-events-in-Summer-&-Winter-games)<br>"
   ]
  },
  {
   "cell_type": "markdown",
   "metadata": {
    "extensions": {
     "jupyter_dashboards": {
      "version": 1,
      "views": {
       "grid_default": {
        "col": 4,
        "height": 4,
        "hidden": false,
        "row": 8,
        "width": 4
       },
       "report_default": {}
      }
     }
    }
   },
   "source": [
    "## Data loading and cleaning"
   ]
  },
  {
   "cell_type": "markdown",
   "metadata": {
    "extensions": {
     "jupyter_dashboards": {
      "version": 1,
      "views": {
       "grid_default": {
        "col": 0,
        "height": 5,
        "hidden": false,
        "row": 18,
        "width": 12
       },
       "report_default": {}
      }
     }
    }
   },
   "source": [
    "Dataset read - \n",
    "- athlete_csv : A dataset containing information about athletes from various national teams by Year. Dataset also contains information like Sex, Age, Summer/Winter game, Sport, Medal etc.\n",
    "- noc.csv - A dataset that connects NOCs (National Olympic Committees) to Countries"
   ]
  },
  {
   "cell_type": "code",
   "execution_count": 5,
   "metadata": {
    "extensions": {
     "jupyter_dashboards": {
      "version": 1,
      "views": {
       "grid_default": {
        "hidden": true
       },
       "report_default": {}
      }
     }
    }
   },
   "outputs": [],
   "source": [
    "athletes = pd.read_csv('athlete_events.csv')\n",
    "noc = pd.read_csv('noc_regions.csv')"
   ]
  },
  {
   "cell_type": "markdown",
   "metadata": {
    "extensions": {
     "jupyter_dashboards": {
      "version": 1,
      "views": {
       "grid_default": {
        "col": 8,
        "height": 4,
        "hidden": false,
        "row": 8,
        "width": 4
       },
       "report_default": {}
      }
     }
    }
   },
   "source": [
    "Merge the two datasets."
   ]
  },
  {
   "cell_type": "code",
   "execution_count": 6,
   "metadata": {
    "extensions": {
     "jupyter_dashboards": {
      "version": 1,
      "views": {
       "grid_default": {
        "hidden": true
       },
       "report_default": {}
      }
     }
    }
   },
   "outputs": [],
   "source": [
    "df = athletes.merge(noc, on='NOC')"
   ]
  },
  {
   "cell_type": "code",
   "execution_count": 7,
   "metadata": {
    "extensions": {
     "jupyter_dashboards": {
      "version": 1,
      "views": {
       "grid_default": {
        "col": 0,
        "height": 8,
        "hidden": false,
        "row": 23,
        "width": 10
       },
       "report_default": {}
      }
     }
    }
   },
   "outputs": [
    {
     "data": {
      "text/html": [
       "<div>\n",
       "<style scoped>\n",
       "    .dataframe tbody tr th:only-of-type {\n",
       "        vertical-align: middle;\n",
       "    }\n",
       "\n",
       "    .dataframe tbody tr th {\n",
       "        vertical-align: top;\n",
       "    }\n",
       "\n",
       "    .dataframe thead th {\n",
       "        text-align: right;\n",
       "    }\n",
       "</style>\n",
       "<table border=\"1\" class=\"dataframe\">\n",
       "  <thead>\n",
       "    <tr style=\"text-align: right;\">\n",
       "      <th></th>\n",
       "      <th>ID</th>\n",
       "      <th>Name</th>\n",
       "      <th>Sex</th>\n",
       "      <th>Age</th>\n",
       "      <th>Height</th>\n",
       "      <th>Weight</th>\n",
       "      <th>Team</th>\n",
       "      <th>NOC</th>\n",
       "      <th>Games</th>\n",
       "      <th>Year</th>\n",
       "      <th>Season</th>\n",
       "      <th>City</th>\n",
       "      <th>Sport</th>\n",
       "      <th>Event</th>\n",
       "      <th>Medal</th>\n",
       "      <th>region</th>\n",
       "      <th>notes</th>\n",
       "    </tr>\n",
       "  </thead>\n",
       "  <tbody>\n",
       "    <tr>\n",
       "      <th>0</th>\n",
       "      <td>1</td>\n",
       "      <td>A Dijiang</td>\n",
       "      <td>M</td>\n",
       "      <td>24.0</td>\n",
       "      <td>180.0</td>\n",
       "      <td>80.0</td>\n",
       "      <td>China</td>\n",
       "      <td>CHN</td>\n",
       "      <td>1992 Summer</td>\n",
       "      <td>1992</td>\n",
       "      <td>Summer</td>\n",
       "      <td>Barcelona</td>\n",
       "      <td>Basketball</td>\n",
       "      <td>Basketball Men's Basketball</td>\n",
       "      <td>NaN</td>\n",
       "      <td>China</td>\n",
       "      <td>NaN</td>\n",
       "    </tr>\n",
       "    <tr>\n",
       "      <th>1</th>\n",
       "      <td>2</td>\n",
       "      <td>A Lamusi</td>\n",
       "      <td>M</td>\n",
       "      <td>23.0</td>\n",
       "      <td>170.0</td>\n",
       "      <td>60.0</td>\n",
       "      <td>China</td>\n",
       "      <td>CHN</td>\n",
       "      <td>2012 Summer</td>\n",
       "      <td>2012</td>\n",
       "      <td>Summer</td>\n",
       "      <td>London</td>\n",
       "      <td>Judo</td>\n",
       "      <td>Judo Men's Extra-Lightweight</td>\n",
       "      <td>NaN</td>\n",
       "      <td>China</td>\n",
       "      <td>NaN</td>\n",
       "    </tr>\n",
       "    <tr>\n",
       "      <th>2</th>\n",
       "      <td>602</td>\n",
       "      <td>Abudoureheman</td>\n",
       "      <td>M</td>\n",
       "      <td>22.0</td>\n",
       "      <td>182.0</td>\n",
       "      <td>75.0</td>\n",
       "      <td>China</td>\n",
       "      <td>CHN</td>\n",
       "      <td>2000 Summer</td>\n",
       "      <td>2000</td>\n",
       "      <td>Summer</td>\n",
       "      <td>Sydney</td>\n",
       "      <td>Boxing</td>\n",
       "      <td>Boxing Men's Middleweight</td>\n",
       "      <td>NaN</td>\n",
       "      <td>China</td>\n",
       "      <td>NaN</td>\n",
       "    </tr>\n",
       "  </tbody>\n",
       "</table>\n",
       "</div>"
      ],
      "text/plain": [
       "    ID           Name Sex   Age  Height  Weight   Team  NOC        Games  \\\n",
       "0    1      A Dijiang   M  24.0   180.0    80.0  China  CHN  1992 Summer   \n",
       "1    2       A Lamusi   M  23.0   170.0    60.0  China  CHN  2012 Summer   \n",
       "2  602  Abudoureheman   M  22.0   182.0    75.0  China  CHN  2000 Summer   \n",
       "\n",
       "   Year  Season       City       Sport                         Event Medal  \\\n",
       "0  1992  Summer  Barcelona  Basketball   Basketball Men's Basketball   NaN   \n",
       "1  2012  Summer     London        Judo  Judo Men's Extra-Lightweight   NaN   \n",
       "2  2000  Summer     Sydney      Boxing     Boxing Men's Middleweight   NaN   \n",
       "\n",
       "  region notes  \n",
       "0  China   NaN  \n",
       "1  China   NaN  \n",
       "2  China   NaN  "
      ]
     },
     "execution_count": 7,
     "metadata": {},
     "output_type": "execute_result"
    }
   ],
   "source": [
    "df.head(3)"
   ]
  },
  {
   "cell_type": "markdown",
   "metadata": {
    "extensions": {
     "jupyter_dashboards": {
      "version": 1,
      "views": {
       "grid_default": {
        "col": 0,
        "height": 4,
        "hidden": false,
        "row": 31,
        "width": 4
       },
       "report_default": {}
      }
     }
    }
   },
   "source": [
    "## Analysis"
   ]
  },
  {
   "cell_type": "markdown",
   "metadata": {
    "extensions": {
     "jupyter_dashboards": {
      "version": 1,
      "views": {
       "grid_default": {
        "col": 4,
        "height": 4,
        "hidden": false,
        "row": 31,
        "width": 4
       },
       "report_default": {}
      }
     }
    }
   },
   "source": [
    "### Analysis 1: Participation over years in Summer and Winter Olympics"
   ]
  },
  {
   "cell_type": "markdown",
   "metadata": {
    "extensions": {
     "jupyter_dashboards": {
      "version": 1,
      "views": {
       "grid_default": {
        "col": 8,
        "height": 4,
        "hidden": false,
        "row": 31,
        "width": 4
       },
       "report_default": {}
      }
     }
    }
   },
   "source": [
    "Function to return unique number of participating countries per Olympic year."
   ]
  },
  {
   "cell_type": "code",
   "execution_count": 8,
   "metadata": {
    "extensions": {
     "jupyter_dashboards": {
      "version": 1,
      "views": {
       "grid_default": {
        "hidden": true
       },
       "report_default": {}
      }
     }
    }
   },
   "outputs": [],
   "source": [
    "def NOC(x):\n",
    "    NOC_list = x.NOC.unique()\n",
    "    return(len(NOC_list))"
   ]
  },
  {
   "cell_type": "markdown",
   "metadata": {
    "extensions": {
     "jupyter_dashboards": {
      "version": 1,
      "views": {
       "grid_default": {
        "col": 0,
        "height": 4,
        "hidden": false,
        "row": 35,
        "width": 4
       },
       "report_default": {}
      }
     }
    }
   },
   "source": [
    "Generate dataframe with number of participating countries for each year Summer Olympics was held."
   ]
  },
  {
   "cell_type": "code",
   "execution_count": 9,
   "metadata": {
    "extensions": {
     "jupyter_dashboards": {
      "version": 1,
      "views": {
       "grid_default": {
        "hidden": true
       },
       "report_default": {}
      }
     }
    }
   },
   "outputs": [],
   "source": [
    "df2 = df[(df.Season == 'Summer')].groupby('Year').apply(lambda x: NOC(x)).reset_index().rename(columns={0:'NOC'})\n",
    "\n",
    "dataformat = {'x':[1896, 1904, 1948, 1952, 1976, 1980, 2016], 'y':[12, 15, 58, 68, 91, 80, 206], \n",
    "                         'text':['1896<br>12 participting teams', '1904<br>Absent:<br>Russia<br>Japan', \n",
    "                                 '1948<br>Debut:<br>Iran<br>Venezuela<br><br>Absent:<br>Germany<br>Japan', \n",
    "                                 '1952<br>Debut:<br>USSR', '1976<br>Absent:<br>Egypt<br>Nigeria<br>Kenya',\n",
    "                                 '1980<br>Absent:<br>United States<br>Japan<br>Canada', \n",
    "                                 '2016<br>206 participating teams']}\n",
    "df_format = pd.DataFrame(data = dataformat)\n",
    "\n",
    "df3 = df2.merge(df_format, how='left', left_on='Year', right_on='x')\n",
    "df3.drop(columns=['x', 'y'], inplace=True)\n",
    "df3.loc[df3.text.isna(), 'text'] = ''"
   ]
  },
  {
   "cell_type": "markdown",
   "metadata": {
    "extensions": {
     "jupyter_dashboards": {
      "version": 1,
      "views": {
       "grid_default": {
        "col": 4,
        "height": 4,
        "hidden": false,
        "row": 35,
        "width": 4
       },
       "report_default": {}
      }
     }
    }
   },
   "source": [
    "Generate dataframe with number of participating countries for each year Winter Olympics was held."
   ]
  },
  {
   "cell_type": "code",
   "execution_count": 10,
   "metadata": {
    "extensions": {
     "jupyter_dashboards": {
      "version": 1,
      "views": {
       "grid_default": {
        "hidden": true
       },
       "report_default": {}
      }
     }
    }
   },
   "outputs": [],
   "source": [
    "df4 = df[(df.Season == 'Winter')].groupby('Year').apply(lambda x: NOC(x)).reset_index().rename(columns ={0:'NOC'})\n",
    "\n",
    "dataformat2 = {'x':[1924, 1948, 1952, 1956, 2014], 'y':[19, 28, 30, 32, 89], \n",
    "                         'text':['1924<br>19 participting teams',  \n",
    "                                 '1948<br>Debut:<br>Denmark<br>Korea<br><br>Absent:<br>Germany<br>Japan', \n",
    "                                 '1952<br>Debut:<br>Portugal<br>New Zealand', '1956<br>Debut:<br>USSR',\n",
    "                                 '2014<br>89 participating teams']}\n",
    "df_format2 = pd.DataFrame(data = dataformat2)\n",
    "\n",
    "df5 = df4.merge(df_format2, how='left', left_on='Year', right_on='x')\n",
    "df5.drop(columns=['x', 'y'], inplace=True)\n",
    "df5.loc[df5.text.isna(), 'text'] = ''"
   ]
  },
  {
   "cell_type": "code",
   "execution_count": 11,
   "metadata": {
    "extensions": {
     "jupyter_dashboards": {
      "version": 1,
      "views": {
       "grid_default": {
        "col": 8,
        "height": 18,
        "hidden": false,
        "row": 35,
        "width": null
       },
       "report_default": {}
      }
     }
    }
   },
   "outputs": [
    {
     "data": {
      "text/html": [
       "<script>requirejs.config({paths: { 'plotly': ['https://cdn.plot.ly/plotly-latest.min']},});if(!window.Plotly) {{require(['plotly'],function(plotly) {window.Plotly=plotly;});}}</script>"
      ],
      "text/vnd.plotly.v1+html": [
       "<script>requirejs.config({paths: { 'plotly': ['https://cdn.plot.ly/plotly-latest.min']},});if(!window.Plotly) {{require(['plotly'],function(plotly) {window.Plotly=plotly;});}}</script>"
      ]
     },
     "metadata": {},
     "output_type": "display_data"
    },
    {
     "data": {
      "application/vnd.plotly.v1+json": {
       "data": [
        {
         "hoverinfo": "text",
         "marker": {
          "color": "#ff8000"
         },
         "name": "Summer",
         "showlegend": false,
         "text": [
          "1896<br>12 participting teams",
          "",
          "1904<br>Absent:<br>Russia<br>Japan",
          "",
          "",
          "",
          "",
          "",
          "",
          "",
          "",
          "1948<br>Debut:<br>Iran<br>Venezuela<br><br>Absent:<br>Germany<br>Japan",
          "1952<br>Debut:<br>USSR",
          "",
          "",
          "",
          "",
          "",
          "1976<br>Absent:<br>Egypt<br>Nigeria<br>Kenya",
          "1980<br>Absent:<br>United States<br>Japan<br>Canada",
          "",
          "",
          "",
          "",
          "",
          "",
          "",
          "",
          "2016<br>206 participating teams"
         ],
         "type": "bar",
         "uid": "5120655c-abc7-11e8-8d08-d0577b2f97ce",
         "x": [
          1896,
          1900,
          1904,
          1906,
          1908,
          1912,
          1920,
          1924,
          1928,
          1932,
          1936,
          1948,
          1952,
          1956,
          1960,
          1964,
          1968,
          1972,
          1976,
          1980,
          1984,
          1988,
          1992,
          1996,
          2000,
          2004,
          2008,
          2012,
          2016
         ],
         "y": [
          12,
          31,
          15,
          21,
          22,
          29,
          29,
          45,
          46,
          47,
          49,
          58,
          68,
          71,
          83,
          93,
          111,
          120,
          91,
          80,
          139,
          158,
          168,
          196,
          199,
          200,
          203,
          204,
          206
         ]
        },
        {
         "hoverinfo": "text",
         "marker": {
          "color": "#3399ff"
         },
         "name": "Winter",
         "showlegend": false,
         "text": [
          "1924<br>19 participting teams",
          "",
          "",
          "",
          "1948<br>Debut:<br>Denmark<br>Korea<br><br>Absent:<br>Germany<br>Japan",
          "1952<br>Debut:<br>Portugal<br>New Zealand",
          "1956<br>Debut:<br>USSR",
          "",
          "",
          "",
          "",
          "",
          "",
          "",
          "",
          "",
          "",
          "",
          "",
          "",
          "",
          "2014<br>89 participating teams"
         ],
         "type": "bar",
         "uid": "5120655d-abc7-11e8-8aee-d0577b2f97ce",
         "x": [
          1924,
          1928,
          1932,
          1936,
          1948,
          1952,
          1956,
          1960,
          1964,
          1968,
          1972,
          1976,
          1980,
          1984,
          1988,
          1992,
          1994,
          1998,
          2002,
          2006,
          2010,
          2014
         ],
         "y": [
          19,
          25,
          17,
          28,
          28,
          30,
          32,
          30,
          36,
          37,
          35,
          37,
          37,
          49,
          57,
          64,
          67,
          72,
          77,
          79,
          82,
          89
         ]
        }
       ],
       "layout": {
        "height": 500,
        "showlegend": false,
        "updatemenus": [
         {
          "active": -1,
          "buttons": [
           {
            "args": [
             {
              "visible": [
               true,
               false
              ]
             },
             {
              "annotations": [
               {
                "align": "center",
                "arrowwidth": 2,
                "ax": 1,
                "ay": -200,
                "bgcolor": "#fbfcfc",
                "bordercolor": "red",
                "borderpad": 0,
                "borderwidth": 0,
                "font": {
                 "color": "#34495e",
                 "size": 15
                },
                "opacity": 0.8,
                "text": "Russo-Japanese War",
                "x": 1904,
                "xref": "x",
                "y": 15,
                "yref": "y"
               },
               {
                "align": "center",
                "arrowwidth": 2,
                "ax": 1,
                "ay": -180,
                "bgcolor": "#fbfcfc",
                "bordercolor": "red",
                "borderpad": 0,
                "borderwidth": 0,
                "font": {
                 "color": "#34495e",
                 "size": 15
                },
                "opacity": 0.8,
                "text": "World War I",
                "x": 1914,
                "xref": "x",
                "y": 0,
                "yref": "y"
               },
               {
                "align": "center",
                "arrowwidth": 2,
                "ax": 1,
                "ay": -180,
                "bgcolor": "#fbfcfc",
                "bordercolor": "red",
                "borderpad": 0,
                "borderwidth": 0,
                "font": {
                 "color": "#34495e",
                 "size": 15
                },
                "opacity": 0.8,
                "text": "World War II",
                "x": 1940,
                "xref": "x",
                "y": 0,
                "yref": "y"
               },
               {
                "align": "center",
                "arrowwidth": 2,
                "ax": 1,
                "ay": -200,
                "bgcolor": "#fbfcfc",
                "bordercolor": "red",
                "borderpad": 0,
                "borderwidth": 0,
                "font": {
                 "color": "#34495e",
                 "size": 15
                },
                "opacity": 0.8,
                "text": "Soviet invasion of Afghanistan",
                "x": 1980,
                "xref": "x",
                "y": 80,
                "yref": "y"
               }
              ],
              "title": "Participation in Summer Olympics",
              "titlefont": {
               "size": 20
              }
             }
            ],
            "label": "Summer",
            "method": "update"
           },
           {
            "args": [
             {
              "visible": [
               false,
               true
              ]
             },
             {
              "annotations": [
               {
                "align": "center",
                "arrowwidth": 2,
                "ax": 1,
                "ay": -180,
                "bgcolor": "#fbfcfc",
                "bordercolor": "blue",
                "borderpad": 0,
                "borderwidth": 0,
                "font": {
                 "color": "#34495e",
                 "size": 15
                },
                "opacity": 0.8,
                "text": "World War II",
                "x": 1940,
                "xref": "x",
                "y": 0,
                "yref": "y"
               },
               {
                "align": "center",
                "arrowwidth": 2,
                "ax": 1,
                "ay": -200,
                "bgcolor": "#fbfcfc",
                "bordercolor": "blue",
                "borderpad": 0,
                "borderwidth": 0,
                "font": {
                 "color": "#34495e",
                 "size": 15
                },
                "opacity": 0.8,
                "text": "Summer and Winter games seperated",
                "x": 1994,
                "xref": "x",
                "y": 67,
                "yref": "y"
               }
              ],
              "title": "Participation in Winter Olympics",
              "titlefont": {
               "size": 20
              }
             }
            ],
            "label": "Winter",
            "method": "update"
           }
          ]
         }
        ],
        "width": 1000,
        "xaxis": {
         "dtick": 4,
         "showticklabels": true,
         "tickfont": {
          "color": "black",
          "size": 15
         },
         "title": "Year",
         "titlefont": {
          "size": 18
         }
        },
        "yaxis": {
         "showticklabels": true,
         "tickfont": {
          "color": "black",
          "size": 15
         },
         "title": "Count of countries",
         "titlefont": {
          "size": 18
         }
        }
       }
      },
      "text/html": [
       "<div id=\"c80e3f00-ea04-4dbc-9cf5-92c6cd613039\" style=\"height: 500px; width: 1000px;\" class=\"plotly-graph-div\"></div><script type=\"text/javascript\">require([\"plotly\"], function(Plotly) { window.PLOTLYENV=window.PLOTLYENV || {};window.PLOTLYENV.BASE_URL=\"https://plot.ly\";\n",
       "        Plotly.plot(\n",
       "            'c80e3f00-ea04-4dbc-9cf5-92c6cd613039',\n",
       "            [{\"hoverinfo\": \"text\", \"marker\": {\"color\": \"#ff8000\"}, \"name\": \"Summer\", \"showlegend\": false, \"text\": [\"1896<br>12 participting teams\", \"\", \"1904<br>Absent:<br>Russia<br>Japan\", \"\", \"\", \"\", \"\", \"\", \"\", \"\", \"\", \"1948<br>Debut:<br>Iran<br>Venezuela<br><br>Absent:<br>Germany<br>Japan\", \"1952<br>Debut:<br>USSR\", \"\", \"\", \"\", \"\", \"\", \"1976<br>Absent:<br>Egypt<br>Nigeria<br>Kenya\", \"1980<br>Absent:<br>United States<br>Japan<br>Canada\", \"\", \"\", \"\", \"\", \"\", \"\", \"\", \"\", \"2016<br>206 participating teams\"], \"x\": [1896.0, 1900.0, 1904.0, 1906.0, 1908.0, 1912.0, 1920.0, 1924.0, 1928.0, 1932.0, 1936.0, 1948.0, 1952.0, 1956.0, 1960.0, 1964.0, 1968.0, 1972.0, 1976.0, 1980.0, 1984.0, 1988.0, 1992.0, 1996.0, 2000.0, 2004.0, 2008.0, 2012.0, 2016.0], \"y\": [12.0, 31.0, 15.0, 21.0, 22.0, 29.0, 29.0, 45.0, 46.0, 47.0, 49.0, 58.0, 68.0, 71.0, 83.0, 93.0, 111.0, 120.0, 91.0, 80.0, 139.0, 158.0, 168.0, 196.0, 199.0, 200.0, 203.0, 204.0, 206.0], \"type\": \"bar\", \"uid\": \"5120655c-abc7-11e8-8d08-d0577b2f97ce\"}, {\"hoverinfo\": \"text\", \"marker\": {\"color\": \"#3399ff\"}, \"name\": \"Winter\", \"showlegend\": false, \"text\": [\"1924<br>19 participting teams\", \"\", \"\", \"\", \"1948<br>Debut:<br>Denmark<br>Korea<br><br>Absent:<br>Germany<br>Japan\", \"1952<br>Debut:<br>Portugal<br>New Zealand\", \"1956<br>Debut:<br>USSR\", \"\", \"\", \"\", \"\", \"\", \"\", \"\", \"\", \"\", \"\", \"\", \"\", \"\", \"\", \"2014<br>89 participating teams\"], \"x\": [1924.0, 1928.0, 1932.0, 1936.0, 1948.0, 1952.0, 1956.0, 1960.0, 1964.0, 1968.0, 1972.0, 1976.0, 1980.0, 1984.0, 1988.0, 1992.0, 1994.0, 1998.0, 2002.0, 2006.0, 2010.0, 2014.0], \"y\": [19.0, 25.0, 17.0, 28.0, 28.0, 30.0, 32.0, 30.0, 36.0, 37.0, 35.0, 37.0, 37.0, 49.0, 57.0, 64.0, 67.0, 72.0, 77.0, 79.0, 82.0, 89.0], \"type\": \"bar\", \"uid\": \"5120655d-abc7-11e8-8aee-d0577b2f97ce\"}],\n",
       "            {\"height\": 500, \"showlegend\": false, \"updatemenus\": [{\"active\": -1, \"buttons\": [{\"args\": [{\"visible\": [true, false]}, {\"title\": \"Participation in Summer Olympics\", \"annotations\": [{\"x\": 1904, \"y\": 15, \"xref\": \"x\", \"yref\": \"y\", \"text\": \"Russo-Japanese War\", \"ax\": 1, \"ay\": -200, \"font\": {\"size\": 15, \"color\": \"#34495e\"}, \"align\": \"center\", \"arrowwidth\": 2, \"bordercolor\": \"red\", \"borderwidth\": 0, \"borderpad\": 0, \"bgcolor\": \"#fbfcfc\", \"opacity\": 0.8}, {\"x\": 1914, \"y\": 0, \"xref\": \"x\", \"yref\": \"y\", \"text\": \"World War I\", \"ax\": 1, \"ay\": -180, \"font\": {\"size\": 15, \"color\": \"#34495e\"}, \"align\": \"center\", \"arrowwidth\": 2, \"bordercolor\": \"red\", \"borderwidth\": 0, \"borderpad\": 0, \"bgcolor\": \"#fbfcfc\", \"opacity\": 0.8}, {\"x\": 1940, \"y\": 0, \"xref\": \"x\", \"yref\": \"y\", \"text\": \"World War II\", \"ax\": 1, \"ay\": -180, \"font\": {\"size\": 15, \"color\": \"#34495e\"}, \"align\": \"center\", \"arrowwidth\": 2, \"bordercolor\": \"red\", \"borderwidth\": 0, \"borderpad\": 0, \"bgcolor\": \"#fbfcfc\", \"opacity\": 0.8}, {\"x\": 1980, \"y\": 80, \"xref\": \"x\", \"yref\": \"y\", \"text\": \"Soviet invasion of Afghanistan\", \"ax\": 1, \"ay\": -200, \"font\": {\"size\": 15, \"color\": \"#34495e\"}, \"align\": \"center\", \"arrowwidth\": 2, \"bordercolor\": \"red\", \"borderwidth\": 0, \"borderpad\": 0, \"bgcolor\": \"#fbfcfc\", \"opacity\": 0.8}], \"titlefont\": {\"size\": 20}}], \"label\": \"Summer\", \"method\": \"update\"}, {\"args\": [{\"visible\": [false, true]}, {\"title\": \"Participation in Winter Olympics\", \"annotations\": [{\"x\": 1940, \"y\": 0, \"xref\": \"x\", \"yref\": \"y\", \"text\": \"World War II\", \"ax\": 1, \"ay\": -180, \"font\": {\"size\": 15, \"color\": \"#34495e\"}, \"align\": \"center\", \"arrowwidth\": 2, \"bordercolor\": \"blue\", \"borderwidth\": 0, \"borderpad\": 0, \"bgcolor\": \"#fbfcfc\", \"opacity\": 0.8}, {\"x\": 1994, \"y\": 67, \"xref\": \"x\", \"yref\": \"y\", \"text\": \"Summer and Winter games seperated\", \"ax\": 1, \"ay\": -200, \"font\": {\"size\": 15, \"color\": \"#34495e\"}, \"align\": \"center\", \"arrowwidth\": 2, \"bordercolor\": \"blue\", \"borderwidth\": 0, \"borderpad\": 0, \"bgcolor\": \"#fbfcfc\", \"opacity\": 0.8}], \"titlefont\": {\"size\": 20}}], \"label\": \"Winter\", \"method\": \"update\"}]}], \"width\": 1000, \"xaxis\": {\"dtick\": 4, \"showticklabels\": true, \"tickfont\": {\"color\": \"black\", \"size\": 15}, \"title\": \"Year\", \"titlefont\": {\"size\": 18}}, \"yaxis\": {\"showticklabels\": true, \"tickfont\": {\"color\": \"black\", \"size\": 15}, \"title\": \"Count of countries\", \"titlefont\": {\"size\": 18}}},\n",
       "            {\"showLink\": true, \"linkText\": \"Export to plot.ly\"}\n",
       "        ).then(function () {return Plotly.addFrames('c80e3f00-ea04-4dbc-9cf5-92c6cd613039',{});}).then(function(){Plotly.animate('c80e3f00-ea04-4dbc-9cf5-92c6cd613039');})\n",
       "        });</script>"
      ],
      "text/vnd.plotly.v1+html": [
       "<div id=\"c80e3f00-ea04-4dbc-9cf5-92c6cd613039\" style=\"height: 500px; width: 1000px;\" class=\"plotly-graph-div\"></div><script type=\"text/javascript\">require([\"plotly\"], function(Plotly) { window.PLOTLYENV=window.PLOTLYENV || {};window.PLOTLYENV.BASE_URL=\"https://plot.ly\";\n",
       "        Plotly.plot(\n",
       "            'c80e3f00-ea04-4dbc-9cf5-92c6cd613039',\n",
       "            [{\"hoverinfo\": \"text\", \"marker\": {\"color\": \"#ff8000\"}, \"name\": \"Summer\", \"showlegend\": false, \"text\": [\"1896<br>12 participting teams\", \"\", \"1904<br>Absent:<br>Russia<br>Japan\", \"\", \"\", \"\", \"\", \"\", \"\", \"\", \"\", \"1948<br>Debut:<br>Iran<br>Venezuela<br><br>Absent:<br>Germany<br>Japan\", \"1952<br>Debut:<br>USSR\", \"\", \"\", \"\", \"\", \"\", \"1976<br>Absent:<br>Egypt<br>Nigeria<br>Kenya\", \"1980<br>Absent:<br>United States<br>Japan<br>Canada\", \"\", \"\", \"\", \"\", \"\", \"\", \"\", \"\", \"2016<br>206 participating teams\"], \"x\": [1896.0, 1900.0, 1904.0, 1906.0, 1908.0, 1912.0, 1920.0, 1924.0, 1928.0, 1932.0, 1936.0, 1948.0, 1952.0, 1956.0, 1960.0, 1964.0, 1968.0, 1972.0, 1976.0, 1980.0, 1984.0, 1988.0, 1992.0, 1996.0, 2000.0, 2004.0, 2008.0, 2012.0, 2016.0], \"y\": [12.0, 31.0, 15.0, 21.0, 22.0, 29.0, 29.0, 45.0, 46.0, 47.0, 49.0, 58.0, 68.0, 71.0, 83.0, 93.0, 111.0, 120.0, 91.0, 80.0, 139.0, 158.0, 168.0, 196.0, 199.0, 200.0, 203.0, 204.0, 206.0], \"type\": \"bar\", \"uid\": \"5120655c-abc7-11e8-8d08-d0577b2f97ce\"}, {\"hoverinfo\": \"text\", \"marker\": {\"color\": \"#3399ff\"}, \"name\": \"Winter\", \"showlegend\": false, \"text\": [\"1924<br>19 participting teams\", \"\", \"\", \"\", \"1948<br>Debut:<br>Denmark<br>Korea<br><br>Absent:<br>Germany<br>Japan\", \"1952<br>Debut:<br>Portugal<br>New Zealand\", \"1956<br>Debut:<br>USSR\", \"\", \"\", \"\", \"\", \"\", \"\", \"\", \"\", \"\", \"\", \"\", \"\", \"\", \"\", \"2014<br>89 participating teams\"], \"x\": [1924.0, 1928.0, 1932.0, 1936.0, 1948.0, 1952.0, 1956.0, 1960.0, 1964.0, 1968.0, 1972.0, 1976.0, 1980.0, 1984.0, 1988.0, 1992.0, 1994.0, 1998.0, 2002.0, 2006.0, 2010.0, 2014.0], \"y\": [19.0, 25.0, 17.0, 28.0, 28.0, 30.0, 32.0, 30.0, 36.0, 37.0, 35.0, 37.0, 37.0, 49.0, 57.0, 64.0, 67.0, 72.0, 77.0, 79.0, 82.0, 89.0], \"type\": \"bar\", \"uid\": \"5120655d-abc7-11e8-8aee-d0577b2f97ce\"}],\n",
       "            {\"height\": 500, \"showlegend\": false, \"updatemenus\": [{\"active\": -1, \"buttons\": [{\"args\": [{\"visible\": [true, false]}, {\"title\": \"Participation in Summer Olympics\", \"annotations\": [{\"x\": 1904, \"y\": 15, \"xref\": \"x\", \"yref\": \"y\", \"text\": \"Russo-Japanese War\", \"ax\": 1, \"ay\": -200, \"font\": {\"size\": 15, \"color\": \"#34495e\"}, \"align\": \"center\", \"arrowwidth\": 2, \"bordercolor\": \"red\", \"borderwidth\": 0, \"borderpad\": 0, \"bgcolor\": \"#fbfcfc\", \"opacity\": 0.8}, {\"x\": 1914, \"y\": 0, \"xref\": \"x\", \"yref\": \"y\", \"text\": \"World War I\", \"ax\": 1, \"ay\": -180, \"font\": {\"size\": 15, \"color\": \"#34495e\"}, \"align\": \"center\", \"arrowwidth\": 2, \"bordercolor\": \"red\", \"borderwidth\": 0, \"borderpad\": 0, \"bgcolor\": \"#fbfcfc\", \"opacity\": 0.8}, {\"x\": 1940, \"y\": 0, \"xref\": \"x\", \"yref\": \"y\", \"text\": \"World War II\", \"ax\": 1, \"ay\": -180, \"font\": {\"size\": 15, \"color\": \"#34495e\"}, \"align\": \"center\", \"arrowwidth\": 2, \"bordercolor\": \"red\", \"borderwidth\": 0, \"borderpad\": 0, \"bgcolor\": \"#fbfcfc\", \"opacity\": 0.8}, {\"x\": 1980, \"y\": 80, \"xref\": \"x\", \"yref\": \"y\", \"text\": \"Soviet invasion of Afghanistan\", \"ax\": 1, \"ay\": -200, \"font\": {\"size\": 15, \"color\": \"#34495e\"}, \"align\": \"center\", \"arrowwidth\": 2, \"bordercolor\": \"red\", \"borderwidth\": 0, \"borderpad\": 0, \"bgcolor\": \"#fbfcfc\", \"opacity\": 0.8}], \"titlefont\": {\"size\": 20}}], \"label\": \"Summer\", \"method\": \"update\"}, {\"args\": [{\"visible\": [false, true]}, {\"title\": \"Participation in Winter Olympics\", \"annotations\": [{\"x\": 1940, \"y\": 0, \"xref\": \"x\", \"yref\": \"y\", \"text\": \"World War II\", \"ax\": 1, \"ay\": -180, \"font\": {\"size\": 15, \"color\": \"#34495e\"}, \"align\": \"center\", \"arrowwidth\": 2, \"bordercolor\": \"blue\", \"borderwidth\": 0, \"borderpad\": 0, \"bgcolor\": \"#fbfcfc\", \"opacity\": 0.8}, {\"x\": 1994, \"y\": 67, \"xref\": \"x\", \"yref\": \"y\", \"text\": \"Summer and Winter games seperated\", \"ax\": 1, \"ay\": -200, \"font\": {\"size\": 15, \"color\": \"#34495e\"}, \"align\": \"center\", \"arrowwidth\": 2, \"bordercolor\": \"blue\", \"borderwidth\": 0, \"borderpad\": 0, \"bgcolor\": \"#fbfcfc\", \"opacity\": 0.8}], \"titlefont\": {\"size\": 20}}], \"label\": \"Winter\", \"method\": \"update\"}]}], \"width\": 1000, \"xaxis\": {\"dtick\": 4, \"showticklabels\": true, \"tickfont\": {\"color\": \"black\", \"size\": 15}, \"title\": \"Year\", \"titlefont\": {\"size\": 18}}, \"yaxis\": {\"showticklabels\": true, \"tickfont\": {\"color\": \"black\", \"size\": 15}, \"title\": \"Count of countries\", \"titlefont\": {\"size\": 18}}},\n",
       "            {\"showLink\": true, \"linkText\": \"Export to plot.ly\"}\n",
       "        ).then(function () {return Plotly.addFrames('c80e3f00-ea04-4dbc-9cf5-92c6cd613039',{});}).then(function(){Plotly.animate('c80e3f00-ea04-4dbc-9cf5-92c6cd613039');})\n",
       "        });</script>"
      ]
     },
     "metadata": {},
     "output_type": "display_data"
    }
   ],
   "source": [
    "init_notebook_mode(connected=True)\n",
    "\n",
    "years = df2.Year.values.tolist()\n",
    "years_txt = [str(y) for y in years]\n",
    "data1 = go.Bar(x=df3.Year, y=df3.NOC, text=df3.text, hoverinfo='text', marker=dict(color='#ff8000'), name='Summer', \n",
    "               showlegend=False)\n",
    "\n",
    "years2 = df4.Year.values.tolist()\n",
    "years2_txt = [str(y) for y in years2]\n",
    "data2 = go.Bar(x=df5.Year, y=df5.NOC, text=df5.text, hoverinfo='text', marker=dict(color='#3399ff'), name='Winter', \n",
    "               showlegend=False)\n",
    "\n",
    "data = [data1, data2]\n",
    "\n",
    "annotations1 = [dict(x=1904, y=15, xref='x', yref='y', text='Russo-Japanese War', ax=1, ay=-200,\n",
    "                    font=dict(size=15, color='#34495e'), align='center', arrowwidth=2, bordercolor='red', \n",
    "                    borderwidth=0, borderpad=0, bgcolor='#fbfcfc', opacity=0.8), \n",
    "               dict(x=1914, y=0, xref='x', yref='y', text='World War I', ax=1, ay=-180, \n",
    "                    font=dict(size=15, color='#34495e'), align='center', arrowwidth=2, bordercolor='red',\n",
    "                    borderwidth=0, borderpad=0, bgcolor='#fbfcfc', opacity=0.8), \n",
    "               dict(x=1940, y=0, xref='x', yref='y', text='World War II', ax=1, ay=-180, \n",
    "                    font=dict(size=15, color='#34495e'), align='center', arrowwidth=2, bordercolor='red',\n",
    "                    borderwidth=0, borderpad=0, bgcolor='#fbfcfc', opacity=0.8), \n",
    "               dict(x=1980, y=80, xref='x', yref='y', text='Soviet invasion of Afghanistan', ax=1, ay=-200,\n",
    "                    font=dict(size=15, color='#34495e'), align='center', arrowwidth=2, bordercolor='red', \n",
    "                    borderwidth=0, borderpad=0, bgcolor='#fbfcfc', opacity=0.8)]\n",
    "annotations2 = [dict(x=1940, y=0, xref='x', yref='y', text='World War II', ax=1, ay=-180, \n",
    "                    font=dict(size=15, color='#34495e'), align='center', arrowwidth=2, bordercolor='blue',\n",
    "                    borderwidth=0, borderpad=0, bgcolor='#fbfcfc', opacity=0.8), \n",
    "               dict(x=1994, y=67, xref='x', yref='y', text='Summer and Winter games seperated', ax=1, ay=-200,\n",
    "                    font=dict(size=15, color='#34495e'), align='center', arrowwidth=2, bordercolor='blue', \n",
    "                    borderwidth=0, borderpad=0, bgcolor='#fbfcfc', opacity=0.8)]\n",
    "                    \n",
    "updatemenus = list([dict(active=-1, buttons=list([   \n",
    "            dict(label='Summer', method='update',\n",
    "                 args = [{'visible': [True, False]}, {'title': 'Participation in Summer Olympics', \n",
    "                                                      'annotations': annotations1, 'titlefont': dict(size=20)}]),\n",
    "            dict(label='Winter', method='update',\n",
    "                 args = [{'visible': [False, True]}, {'title': 'Participation in Winter Olympics', \n",
    "                                                      'annotations': annotations2, 'titlefont': dict(size=20)}])\n",
    "            ]))])\n",
    "\n",
    "layout1 = dict(showlegend=False, updatemenus=updatemenus, height=500, width=1000, \n",
    "              xaxis=dict(title='Year', titlefont=dict(size=18), showticklabels=True, tickfont=dict(size=15, color='black'), \n",
    "                        dtick=4), \n",
    "               yaxis=dict(title='Count of countries', titlefont=dict(size=18), showticklabels=True, \n",
    "                               tickfont=dict(size=15, color='black')))\n",
    "\n",
    "fig1 = go.Figure(data, layout=layout1)\n",
    "plotly.offline.iplot(fig1, filename='Olympics1')"
   ]
  },
  {
   "cell_type": "markdown",
   "metadata": {
    "extensions": {
     "jupyter_dashboards": {
      "version": 1,
      "views": {
       "grid_default": {
        "col": 0,
        "height": 6,
        "hidden": false,
        "row": 53,
        "width": 12
       },
       "report_default": {}
      }
     }
    }
   },
   "source": [
    "The first <b>Summer games</b> were held in 1896, more than a 100 years ago. As you can see the games were cancelled during the first and second world war. Certain years such as 1904 and 1980 saw a dip in participation due to conflicts between countries. For eg. around 66 countries boycotted the Summer Olympics in 1980 to protest the Soviet invasion of Afghanistan. Participation has increased in certain years, again due to certain political and social developments. For eg. A lot of countries made their debut in 1948. Korea, Iran, Venezuela participated in the Olympics for the first time in 1948. Also Germany and Japan were not allowed to participate that year due to their involvement in WWII. <br>\n",
    "\n",
    "The <b>Winter games</b> were first held in 1924. These games were also suspended during the 2nd World War. An interesting point to note is that till the year 1992, Summer and Winter games were held in the same year. Ever since then they are held 2 years apart.  "
   ]
  },
  {
   "cell_type": "markdown",
   "metadata": {
    "extensions": {
     "jupyter_dashboards": {
      "version": 1,
      "views": {
       "grid_default": {
        "col": 0,
        "height": 4,
        "hidden": false,
        "row": 39,
        "width": 4
       },
       "report_default": {}
      }
     }
    }
   },
   "source": [
    "### Analysis 2: Top performers measured by total tally of medals and by average medals won per year"
   ]
  },
  {
   "cell_type": "markdown",
   "metadata": {
    "extensions": {
     "jupyter_dashboards": {
      "version": 1,
      "views": {
       "grid_default": {
        "col": 4,
        "height": 4,
        "hidden": false,
        "row": 39,
        "width": 4
       },
       "report_default": {}
      }
     }
    }
   },
   "source": [
    "Create dataframes that contain top 10 performers in Summer Olympics and Winter Olympics by medal tally."
   ]
  },
  {
   "cell_type": "code",
   "execution_count": 12,
   "metadata": {
    "extensions": {
     "jupyter_dashboards": {
      "version": 1,
      "views": {
       "grid_default": {
        "hidden": true
       },
       "report_default": {}
      }
     }
    }
   },
   "outputs": [],
   "source": [
    "def medals(x):\n",
    "    return((len(x.Medal.unique())))"
   ]
  },
  {
   "cell_type": "code",
   "execution_count": 13,
   "metadata": {
    "extensions": {
     "jupyter_dashboards": {
      "version": 1,
      "views": {
       "grid_default": {
        "hidden": true
       },
       "report_default": {}
      }
     }
    }
   },
   "outputs": [],
   "source": [
    "## Dictionary of NOCs and regions\n",
    "df_NOC_region = df[['NOC', 'region']].drop_duplicates().dropna()"
   ]
  },
  {
   "cell_type": "code",
   "execution_count": 14,
   "metadata": {
    "extensions": {
     "jupyter_dashboards": {
      "version": 1,
      "views": {
       "grid_default": {
        "hidden": true
       },
       "report_default": {}
      }
     }
    },
    "scrolled": true
   },
   "outputs": [],
   "source": [
    "df_event_medals = df[(df.Season == 'Summer')&(df.Medal.notnull())].groupby(['NOC', 'Year', 'Event']).apply(\n",
    "    lambda x: medals(x)).reset_index()\n",
    "df_medals_summer0 = df_event_medals.groupby(['NOC'])[0].sum().sort_values(ascending=False).head(10).reset_index().rename(\n",
    "    columns={0:'medal_tally'})\n",
    "df_medals_summer = df_medals_summer0.merge(df_NOC_region, on='NOC', how='left')\n",
    "df_medals_summer.loc[df_medals_summer.NOC == 'URS', 'region'] = 'Soviet Union'\n",
    "\n",
    "df_event_medals1 = df[(df.Season == 'Winter')&(df.Medal.notnull())].groupby(['NOC', 'Year', 'Event']).apply(\n",
    "    lambda x: medals(x)).reset_index()\n",
    "df_medals_winter0 = df_event_medals1.groupby(['NOC'])[0].sum().sort_values(ascending=False).head(10).reset_index().rename(\n",
    "    columns={0:'medal_tally'})\n",
    "df_medals_winter = df_medals_winter0.merge(df_NOC_region, on='NOC', how='left')\n",
    "df_medals_winter.loc[df_medals_winter.NOC == 'URS', 'region'] = 'Soviet Union'"
   ]
  },
  {
   "cell_type": "markdown",
   "metadata": {
    "extensions": {
     "jupyter_dashboards": {
      "version": 1,
      "views": {
       "grid_default": {
        "col": 0,
        "height": 4,
        "hidden": false,
        "row": 43,
        "width": 4
       },
       "report_default": {}
      }
     }
    }
   },
   "source": [
    "Create dataframes that contain top 10 performers in Summer Olympics and Winter Olympics by avg medals per year."
   ]
  },
  {
   "cell_type": "code",
   "execution_count": 15,
   "metadata": {
    "extensions": {
     "jupyter_dashboards": {
      "version": 1,
      "views": {
       "grid_default": {
        "hidden": true
       },
       "report_default": {}
      }
     }
    }
   },
   "outputs": [],
   "source": [
    "df_summer_games = df_event_medals.groupby(['NOC'])['Year'].apply(lambda x: len(x.unique())).reset_index().rename(columns=\n",
    "    {'Year':'no_of_olympics'})\n",
    "df_avg_summer = df_summer_games.merge(df_medals_summer, on='NOC', how='inner')\n",
    "df_avg_summer['avg_medals'] = (df_avg_summer['medal_tally']) / (df_avg_summer['no_of_olympics'])\n",
    "df_avg_summer.sort_values('avg_medals', ascending=False, inplace=True)\n",
    "df_avg_summer.loc[df_avg_summer.NOC=='URS', 'region'] = 'Soviet Union'\n",
    "\n",
    "df_winter_games = df_event_medals1.groupby(['NOC'])['Year'].apply(lambda x: len(x.unique())).reset_index().rename(columns=\n",
    "    {'Year':'no_of_olympics'})\n",
    "df_avg_winter = df_winter_games.merge(df_medals_winter, on='NOC', how='inner')\n",
    "df_avg_winter['avg_medals'] = (df_avg_winter['medal_tally']) / (df_avg_winter['no_of_olympics'])\n",
    "df_avg_winter.sort_values('avg_medals', ascending=False, inplace=True)\n",
    "df_avg_winter.loc[df_avg_winter.NOC=='URS', 'region'] = 'Soviet Union'"
   ]
  },
  {
   "cell_type": "code",
   "execution_count": 16,
   "metadata": {
    "extensions": {
     "jupyter_dashboards": {
      "version": 1,
      "views": {
       "grid_default": {
        "col": 0,
        "height": 20,
        "hidden": false,
        "row": 59,
        "width": null
       },
       "report_default": {}
      }
     }
    }
   },
   "outputs": [
    {
     "data": {
      "text/html": [
       "<script>requirejs.config({paths: { 'plotly': ['https://cdn.plot.ly/plotly-latest.min']},});if(!window.Plotly) {{require(['plotly'],function(plotly) {window.Plotly=plotly;});}}</script>"
      ],
      "text/vnd.plotly.v1+html": [
       "<script>requirejs.config({paths: { 'plotly': ['https://cdn.plot.ly/plotly-latest.min']},});if(!window.Plotly) {{require(['plotly'],function(plotly) {window.Plotly=plotly;});}}</script>"
      ]
     },
     "metadata": {},
     "output_type": "display_data"
    },
    {
     "name": "stdout",
     "output_type": "stream",
     "text": [
      "This is the format of your plot grid:\n",
      "[ (1,1) x1,y1 ]  [ (1,2) x2,y2 ]\n",
      "\n"
     ]
    },
    {
     "data": {
      "application/vnd.plotly.v1+json": {
       "data": [
        {
         "hoverinfo": "text",
         "marker": {
          "color": "#ff8000"
         },
         "name": "Summer",
         "orientation": "h",
         "text": [
          "2544",
          "1005",
          "892",
          "776",
          "770",
          "608",
          "542",
          "513",
          "506",
          "504"
         ],
         "type": "bar",
         "uid": "5310cb6e-abc7-11e8-b7a9-d0577b2f97ce",
         "x": [
          2544,
          1005,
          892,
          776,
          770,
          608,
          542,
          513,
          506,
          504
         ],
         "xaxis": "x",
         "y": [
          "USA",
          "Soviet Union",
          "UK",
          "Germany",
          "France",
          "Italy",
          "China",
          "Sweden",
          "Australia",
          "Hungary"
         ],
         "yaxis": "y"
        },
        {
         "hoverinfo": "text",
         "marker": {
          "color": "#3399ff"
         },
         "name": "Winter",
         "orientation": "h",
         "text": [
          "319",
          "279",
          "228",
          "218",
          "192",
          "170",
          "161",
          "144",
          "137",
          "124"
         ],
         "type": "bar",
         "uid": "5310cb6f-abc7-11e8-ad3b-d0577b2f97ce",
         "x": [
          319,
          279,
          228,
          218,
          192,
          170,
          161,
          144,
          137,
          124
         ],
         "xaxis": "x",
         "y": [
          "Norway",
          "USA",
          "Germany",
          "Austria",
          "Soviet Union",
          "Canada",
          "Finland",
          "Sweden",
          "Switzerland",
          "Russia"
         ],
         "yaxis": "y"
        },
        {
         "hoverinfo": "text",
         "marker": {
          "color": "#ff8000"
         },
         "name": "Summer",
         "orientation": "h",
         "showlegend": false,
         "text": [
          "111.66666666666667",
          "90.85714285714286",
          "60.22222222222222",
          "38.8",
          "30.75862068965517",
          "26.551724137931036",
          "22.51851851851852",
          "19.0",
          "18.74074074074074",
          "18.666666666666668"
         ],
         "type": "bar",
         "uid": "53132da2-abc7-11e8-828a-d0577b2f97ce",
         "x": [
          111.66666666666667,
          90.85714285714286,
          60.22222222222222,
          38.8,
          30.75862068965517,
          26.551724137931036,
          22.51851851851852,
          19,
          18.74074074074074,
          18.666666666666668
         ],
         "xaxis": "x2",
         "y": [
          "Soviet Union",
          "USA",
          "China",
          "Germany",
          "UK",
          "France",
          "Italy",
          "Sweden",
          "Australia",
          "Hungary"
         ],
         "yaxis": "y2"
        },
        {
         "hoverinfo": "text",
         "marker": {
          "color": "#3399ff"
         },
         "name": "Winter",
         "orientation": "h",
         "showlegend": false,
         "text": [
          "21.333333333333332",
          "20.666666666666668",
          "16.285714285714285",
          "14.5",
          "12.681818181818182",
          "9.909090909090908",
          "7.7272727272727275",
          "7.318181818181818",
          "6.545454545454546",
          "6.523809523809524"
         ],
         "type": "bar",
         "uid": "53158fda-abc7-11e8-aaa0-d0577b2f97ce",
         "x": [
          21.333333333333332,
          20.666666666666668,
          16.285714285714285,
          14.5,
          12.681818181818182,
          9.909090909090908,
          7.7272727272727275,
          7.318181818181818,
          6.545454545454546,
          6.523809523809524
         ],
         "xaxis": "x2",
         "y": [
          "Soviet Union",
          "Russia",
          "Germany",
          "Norway",
          "USA",
          "Austria",
          "Canada",
          "Finland",
          "Sweden",
          "Switzerland"
         ],
         "yaxis": "y2"
        }
       ],
       "layout": {
        "annotations": [
         {
          "font": {
           "size": 16
          },
          "showarrow": false,
          "text": "Top Countries by Medal Tally",
          "x": 0.1875,
          "xanchor": "center",
          "xref": "paper",
          "y": 1,
          "yanchor": "bottom",
          "yref": "paper"
         },
         {
          "font": {
           "size": 16
          },
          "showarrow": false,
          "text": "Top Countries by Avg Medals per Year",
          "x": 0.8125,
          "xanchor": "center",
          "xref": "paper",
          "y": 1,
          "yanchor": "bottom",
          "yref": "paper"
         }
        ],
        "height": 500,
        "showlegend": false,
        "updatemenus": [
         {
          "active": -1,
          "buttons": [
           {
            "args": [
             {
              "visible": [
               true,
               false
              ]
             },
             {
              "title": "Top Performers in Summer Games",
              "titlefont": {
               "size": 20
              }
             }
            ],
            "label": "Summer",
            "method": "update"
           },
           {
            "args": [
             {
              "visible": [
               false,
               true
              ]
             },
             {
              "title": "Top Performers in Winter Games",
              "titlefont": {
               "size": 20
              }
             }
            ],
            "label": "Winter",
            "method": "update"
           }
          ],
          "direction": "down",
          "x": 0.48,
          "xanchor": "center",
          "y": 1.1,
          "yanchor": "top"
         }
        ],
        "width": 1000,
        "xaxis": {
         "anchor": "y",
         "autorange": "reversed",
         "domain": [
          0,
          0.375
         ],
         "tickfont": {
          "size": 15
         },
         "title": "Medal count",
         "titlefont": {
          "size": 18
         }
        },
        "xaxis2": {
         "anchor": "y2",
         "domain": [
          0.625,
          1
         ],
         "tickfont": {
          "size": 15
         },
         "title": "Avg Medal count",
         "titlefont": {
          "size": 18
         }
        },
        "yaxis": {
         "anchor": "x",
         "automargin": true,
         "autorange": "reversed",
         "domain": [
          0,
          1
         ],
         "tickfont": {
          "size": 14
         },
         "tickprefix": "          ",
         "title": "Country",
         "titlefont": {
          "size": 18
         }
        },
        "yaxis2": {
         "anchor": "x2",
         "automargin": true,
         "autorange": "reversed",
         "domain": [
          0,
          1
         ],
         "side": "right",
         "tickfont": {
          "size": 14
         },
         "ticksuffix": "          ",
         "title": "Country",
         "titlefont": {
          "size": 18
         }
        }
       }
      },
      "text/html": [
       "<div id=\"c02be580-e53b-4469-8d20-b6843da6ee75\" style=\"height: 500px; width: 1000px;\" class=\"plotly-graph-div\"></div><script type=\"text/javascript\">require([\"plotly\"], function(Plotly) { window.PLOTLYENV=window.PLOTLYENV || {};window.PLOTLYENV.BASE_URL=\"https://plot.ly\";\n",
       "        Plotly.plot(\n",
       "            'c02be580-e53b-4469-8d20-b6843da6ee75',\n",
       "            [{\"hoverinfo\": \"text\", \"marker\": {\"color\": \"#ff8000\"}, \"name\": \"Summer\", \"orientation\": \"h\", \"text\": [\"2544\", \"1005\", \"892\", \"776\", \"770\", \"608\", \"542\", \"513\", \"506\", \"504\"], \"x\": [2544.0, 1005.0, 892.0, 776.0, 770.0, 608.0, 542.0, 513.0, 506.0, 504.0], \"y\": [\"USA\", \"Soviet Union\", \"UK\", \"Germany\", \"France\", \"Italy\", \"China\", \"Sweden\", \"Australia\", \"Hungary\"], \"type\": \"bar\", \"uid\": \"5310cb6e-abc7-11e8-b7a9-d0577b2f97ce\", \"xaxis\": \"x\", \"yaxis\": \"y\"}, {\"hoverinfo\": \"text\", \"marker\": {\"color\": \"#3399ff\"}, \"name\": \"Winter\", \"orientation\": \"h\", \"text\": [\"319\", \"279\", \"228\", \"218\", \"192\", \"170\", \"161\", \"144\", \"137\", \"124\"], \"x\": [319.0, 279.0, 228.0, 218.0, 192.0, 170.0, 161.0, 144.0, 137.0, 124.0], \"y\": [\"Norway\", \"USA\", \"Germany\", \"Austria\", \"Soviet Union\", \"Canada\", \"Finland\", \"Sweden\", \"Switzerland\", \"Russia\"], \"type\": \"bar\", \"uid\": \"5310cb6f-abc7-11e8-ad3b-d0577b2f97ce\", \"xaxis\": \"x\", \"yaxis\": \"y\"}, {\"hoverinfo\": \"text\", \"marker\": {\"color\": \"#ff8000\"}, \"name\": \"Summer\", \"orientation\": \"h\", \"showlegend\": false, \"text\": [\"111.66666666666667\", \"90.85714285714286\", \"60.22222222222222\", \"38.8\", \"30.75862068965517\", \"26.551724137931036\", \"22.51851851851852\", \"19.0\", \"18.74074074074074\", \"18.666666666666668\"], \"x\": [111.66666666666667, 90.85714285714286, 60.22222222222222, 38.8, 30.75862068965517, 26.551724137931036, 22.51851851851852, 19.0, 18.74074074074074, 18.666666666666668], \"y\": [\"Soviet Union\", \"USA\", \"China\", \"Germany\", \"UK\", \"France\", \"Italy\", \"Sweden\", \"Australia\", \"Hungary\"], \"type\": \"bar\", \"uid\": \"53132da2-abc7-11e8-828a-d0577b2f97ce\", \"xaxis\": \"x2\", \"yaxis\": \"y2\"}, {\"hoverinfo\": \"text\", \"marker\": {\"color\": \"#3399ff\"}, \"name\": \"Winter\", \"orientation\": \"h\", \"showlegend\": false, \"text\": [\"21.333333333333332\", \"20.666666666666668\", \"16.285714285714285\", \"14.5\", \"12.681818181818182\", \"9.909090909090908\", \"7.7272727272727275\", \"7.318181818181818\", \"6.545454545454546\", \"6.523809523809524\"], \"x\": [21.333333333333332, 20.666666666666668, 16.285714285714285, 14.5, 12.681818181818182, 9.909090909090908, 7.7272727272727275, 7.318181818181818, 6.545454545454546, 6.523809523809524], \"y\": [\"Soviet Union\", \"Russia\", \"Germany\", \"Norway\", \"USA\", \"Austria\", \"Canada\", \"Finland\", \"Sweden\", \"Switzerland\"], \"type\": \"bar\", \"uid\": \"53158fda-abc7-11e8-aaa0-d0577b2f97ce\", \"xaxis\": \"x2\", \"yaxis\": \"y2\"}],\n",
       "            {\"annotations\": [{\"font\": {\"size\": 16}, \"showarrow\": false, \"text\": \"Top Countries by Medal Tally\", \"x\": 0.1875, \"xanchor\": \"center\", \"xref\": \"paper\", \"y\": 1.0, \"yanchor\": \"bottom\", \"yref\": \"paper\"}, {\"font\": {\"size\": 16}, \"showarrow\": false, \"text\": \"Top Countries by Avg Medals per Year\", \"x\": 0.8125, \"xanchor\": \"center\", \"xref\": \"paper\", \"y\": 1.0, \"yanchor\": \"bottom\", \"yref\": \"paper\"}], \"xaxis\": {\"anchor\": \"y\", \"domain\": [0.0, 0.375], \"titlefont\": {\"size\": 18}, \"title\": \"Medal count\", \"tickfont\": {\"size\": 15}, \"autorange\": \"reversed\"}, \"yaxis\": {\"anchor\": \"x\", \"domain\": [0.0, 1.0], \"titlefont\": {\"size\": 18}, \"title\": \"Country\", \"automargin\": true, \"tickfont\": {\"size\": 14}, \"autorange\": \"reversed\", \"tickprefix\": \"          \"}, \"xaxis2\": {\"anchor\": \"y2\", \"domain\": [0.625, 1.0], \"titlefont\": {\"size\": 18}, \"title\": \"Avg Medal count\", \"tickfont\": {\"size\": 15}}, \"yaxis2\": {\"anchor\": \"x2\", \"domain\": [0.0, 1.0], \"titlefont\": {\"size\": 18}, \"title\": \"Country\", \"automargin\": true, \"tickfont\": {\"size\": 14}, \"autorange\": \"reversed\", \"side\": \"right\", \"ticksuffix\": \"          \"}, \"updatemenus\": [{\"active\": -1, \"buttons\": [{\"args\": [{\"visible\": [true, false]}, {\"title\": \"Top Performers in Summer Games\", \"titlefont\": {\"size\": 20}}], \"label\": \"Summer\", \"method\": \"update\"}, {\"args\": [{\"visible\": [false, true]}, {\"title\": \"Top Performers in Winter Games\", \"titlefont\": {\"size\": 20}}], \"label\": \"Winter\", \"method\": \"update\"}], \"direction\": \"down\", \"x\": 0.48, \"xanchor\": \"center\", \"y\": 1.1, \"yanchor\": \"top\"}], \"height\": 500, \"width\": 1000, \"showlegend\": false},\n",
       "            {\"showLink\": true, \"linkText\": \"Export to plot.ly\"}\n",
       "        ).then(function () {return Plotly.addFrames('c02be580-e53b-4469-8d20-b6843da6ee75',{});}).then(function(){Plotly.animate('c02be580-e53b-4469-8d20-b6843da6ee75');})\n",
       "        });</script>"
      ],
      "text/vnd.plotly.v1+html": [
       "<div id=\"c02be580-e53b-4469-8d20-b6843da6ee75\" style=\"height: 500px; width: 1000px;\" class=\"plotly-graph-div\"></div><script type=\"text/javascript\">require([\"plotly\"], function(Plotly) { window.PLOTLYENV=window.PLOTLYENV || {};window.PLOTLYENV.BASE_URL=\"https://plot.ly\";\n",
       "        Plotly.plot(\n",
       "            'c02be580-e53b-4469-8d20-b6843da6ee75',\n",
       "            [{\"hoverinfo\": \"text\", \"marker\": {\"color\": \"#ff8000\"}, \"name\": \"Summer\", \"orientation\": \"h\", \"text\": [\"2544\", \"1005\", \"892\", \"776\", \"770\", \"608\", \"542\", \"513\", \"506\", \"504\"], \"x\": [2544.0, 1005.0, 892.0, 776.0, 770.0, 608.0, 542.0, 513.0, 506.0, 504.0], \"y\": [\"USA\", \"Soviet Union\", \"UK\", \"Germany\", \"France\", \"Italy\", \"China\", \"Sweden\", \"Australia\", \"Hungary\"], \"type\": \"bar\", \"uid\": \"5310cb6e-abc7-11e8-b7a9-d0577b2f97ce\", \"xaxis\": \"x\", \"yaxis\": \"y\"}, {\"hoverinfo\": \"text\", \"marker\": {\"color\": \"#3399ff\"}, \"name\": \"Winter\", \"orientation\": \"h\", \"text\": [\"319\", \"279\", \"228\", \"218\", \"192\", \"170\", \"161\", \"144\", \"137\", \"124\"], \"x\": [319.0, 279.0, 228.0, 218.0, 192.0, 170.0, 161.0, 144.0, 137.0, 124.0], \"y\": [\"Norway\", \"USA\", \"Germany\", \"Austria\", \"Soviet Union\", \"Canada\", \"Finland\", \"Sweden\", \"Switzerland\", \"Russia\"], \"type\": \"bar\", \"uid\": \"5310cb6f-abc7-11e8-ad3b-d0577b2f97ce\", \"xaxis\": \"x\", \"yaxis\": \"y\"}, {\"hoverinfo\": \"text\", \"marker\": {\"color\": \"#ff8000\"}, \"name\": \"Summer\", \"orientation\": \"h\", \"showlegend\": false, \"text\": [\"111.66666666666667\", \"90.85714285714286\", \"60.22222222222222\", \"38.8\", \"30.75862068965517\", \"26.551724137931036\", \"22.51851851851852\", \"19.0\", \"18.74074074074074\", \"18.666666666666668\"], \"x\": [111.66666666666667, 90.85714285714286, 60.22222222222222, 38.8, 30.75862068965517, 26.551724137931036, 22.51851851851852, 19.0, 18.74074074074074, 18.666666666666668], \"y\": [\"Soviet Union\", \"USA\", \"China\", \"Germany\", \"UK\", \"France\", \"Italy\", \"Sweden\", \"Australia\", \"Hungary\"], \"type\": \"bar\", \"uid\": \"53132da2-abc7-11e8-828a-d0577b2f97ce\", \"xaxis\": \"x2\", \"yaxis\": \"y2\"}, {\"hoverinfo\": \"text\", \"marker\": {\"color\": \"#3399ff\"}, \"name\": \"Winter\", \"orientation\": \"h\", \"showlegend\": false, \"text\": [\"21.333333333333332\", \"20.666666666666668\", \"16.285714285714285\", \"14.5\", \"12.681818181818182\", \"9.909090909090908\", \"7.7272727272727275\", \"7.318181818181818\", \"6.545454545454546\", \"6.523809523809524\"], \"x\": [21.333333333333332, 20.666666666666668, 16.285714285714285, 14.5, 12.681818181818182, 9.909090909090908, 7.7272727272727275, 7.318181818181818, 6.545454545454546, 6.523809523809524], \"y\": [\"Soviet Union\", \"Russia\", \"Germany\", \"Norway\", \"USA\", \"Austria\", \"Canada\", \"Finland\", \"Sweden\", \"Switzerland\"], \"type\": \"bar\", \"uid\": \"53158fda-abc7-11e8-aaa0-d0577b2f97ce\", \"xaxis\": \"x2\", \"yaxis\": \"y2\"}],\n",
       "            {\"annotations\": [{\"font\": {\"size\": 16}, \"showarrow\": false, \"text\": \"Top Countries by Medal Tally\", \"x\": 0.1875, \"xanchor\": \"center\", \"xref\": \"paper\", \"y\": 1.0, \"yanchor\": \"bottom\", \"yref\": \"paper\"}, {\"font\": {\"size\": 16}, \"showarrow\": false, \"text\": \"Top Countries by Avg Medals per Year\", \"x\": 0.8125, \"xanchor\": \"center\", \"xref\": \"paper\", \"y\": 1.0, \"yanchor\": \"bottom\", \"yref\": \"paper\"}], \"xaxis\": {\"anchor\": \"y\", \"domain\": [0.0, 0.375], \"titlefont\": {\"size\": 18}, \"title\": \"Medal count\", \"tickfont\": {\"size\": 15}, \"autorange\": \"reversed\"}, \"yaxis\": {\"anchor\": \"x\", \"domain\": [0.0, 1.0], \"titlefont\": {\"size\": 18}, \"title\": \"Country\", \"automargin\": true, \"tickfont\": {\"size\": 14}, \"autorange\": \"reversed\", \"tickprefix\": \"          \"}, \"xaxis2\": {\"anchor\": \"y2\", \"domain\": [0.625, 1.0], \"titlefont\": {\"size\": 18}, \"title\": \"Avg Medal count\", \"tickfont\": {\"size\": 15}}, \"yaxis2\": {\"anchor\": \"x2\", \"domain\": [0.0, 1.0], \"titlefont\": {\"size\": 18}, \"title\": \"Country\", \"automargin\": true, \"tickfont\": {\"size\": 14}, \"autorange\": \"reversed\", \"side\": \"right\", \"ticksuffix\": \"          \"}, \"updatemenus\": [{\"active\": -1, \"buttons\": [{\"args\": [{\"visible\": [true, false]}, {\"title\": \"Top Performers in Summer Games\", \"titlefont\": {\"size\": 20}}], \"label\": \"Summer\", \"method\": \"update\"}, {\"args\": [{\"visible\": [false, true]}, {\"title\": \"Top Performers in Winter Games\", \"titlefont\": {\"size\": 20}}], \"label\": \"Winter\", \"method\": \"update\"}], \"direction\": \"down\", \"x\": 0.48, \"xanchor\": \"center\", \"y\": 1.1, \"yanchor\": \"top\"}], \"height\": 500, \"width\": 1000, \"showlegend\": false},\n",
       "            {\"showLink\": true, \"linkText\": \"Export to plot.ly\"}\n",
       "        ).then(function () {return Plotly.addFrames('c02be580-e53b-4469-8d20-b6843da6ee75',{});}).then(function(){Plotly.animate('c02be580-e53b-4469-8d20-b6843da6ee75');})\n",
       "        });</script>"
      ]
     },
     "metadata": {},
     "output_type": "display_data"
    }
   ],
   "source": [
    "init_notebook_mode(connected=True)\n",
    "\n",
    "data3 = go.Bar(y=df_medals_summer.region, x=df_medals_summer.medal_tally, text=df_medals_summer.medal_tally, hoverinfo='text', \n",
    "               name='Summer', marker=dict(color='#ff8000'), orientation='h')\n",
    "data4 = go.Bar(y=df_medals_winter.region, x=df_medals_winter.medal_tally, text=df_medals_winter.medal_tally, hoverinfo='text', \n",
    "               name='Winter', marker=dict(color='#3399ff'), orientation='h')\n",
    "data5 = go.Bar(y=df_avg_summer.region, x=df_avg_summer.avg_medals, text=df_avg_summer.avg_medals, hoverinfo='text', \n",
    "               name='Summer', marker=dict(color='#ff8000'), showlegend=False, orientation='h')\n",
    "data6 = go.Bar(y=df_avg_winter.region, x=df_avg_winter.avg_medals, text=df_avg_winter.avg_medals, hoverinfo='text', \n",
    "               name='Winter', marker=dict(color='#3399ff'), showlegend=False, orientation='h')\n",
    "\n",
    "data = [data3, data4, data5, data6]\n",
    "\n",
    "\n",
    "fig2 = tools.make_subplots(rows=1, cols=2, subplot_titles=('Top Countries by Medal Tally', \n",
    "                                                           'Top Countries by Avg Medals per Year'), \n",
    "                           horizontal_spacing=0.25)\n",
    "\n",
    "fig2.append_trace(data3, 1,1)\n",
    "fig2.append_trace(data4, 1, 1)\n",
    "fig2.append_trace(data5, 1, 2)\n",
    "fig2.append_trace(data6, 1, 2)\n",
    "\n",
    "fig2['layout']['yaxis1'].update(title='Country', titlefont=dict(size=18), automargin=True)\n",
    "fig2['layout']['yaxis2'].update(title='Country', titlefont=dict(size=18), automargin=True)\n",
    "\n",
    "fig2['layout']['xaxis1'].update(title='Medal count', titlefont=dict(size=18))\n",
    "fig2['layout']['xaxis2'].update(title='Avg Medal count', titlefont=dict(size=18))\n",
    "\n",
    "fig2['layout']['updatemenus'] = list([dict(active=-1, buttons=list([   \n",
    "            dict(label='Summer', method='update',\n",
    "                 args = [{'visible': [True, False]}, {'title': 'Top Performers in Summer Games', \n",
    "                                                      'titlefont': dict(size=20)}]),\n",
    "            dict(label='Winter', method='update',\n",
    "                 args = [{'visible': [False, True]}, {'title': 'Top Performers in Winter Games', \n",
    "                                                     'titlefont': dict(size=20)}])\n",
    "            ]), direction='down', x=0.48, xanchor='center', y=1.1, yanchor='top' )])\n",
    "\n",
    "\n",
    "fig2['layout'].update(height=500, width=1000, showlegend=False, \n",
    "                      xaxis=dict(autorange='reversed', tickfont=dict(size=15)),\n",
    "                      xaxis2=dict(tickfont=dict(size=15)),\n",
    "                      yaxis=dict(autorange='reversed', tickfont=dict(size=14), tickprefix=\"          \"), \n",
    "                      yaxis2=dict(autorange='reversed', side='right', tickfont=dict(size=14), ticksuffix=\"          \"))\n",
    "\n",
    "plotly.offline.iplot(fig2, filename='Olympics2')"
   ]
  },
  {
   "cell_type": "markdown",
   "metadata": {
    "extensions": {
     "jupyter_dashboards": {
      "version": 1,
      "views": {
       "grid_default": {
        "col": 0,
        "height": 8,
        "hidden": false,
        "row": 79,
        "width": 12
       },
       "report_default": {}
      }
     }
    }
   },
   "source": [
    "<b>Summer Olympics</b><br>\n",
    "Most medals won by a country - USA (2544) followed by the Soviet Union (1005).\n",
    "However, when we look at average medals won per year it seems the Soviets were most dominant as they averaged more than 100 medals every year. China is third on that list given their outstanding performance in the last few years.\n",
    "\n",
    "<b>Winter Olympics</b><br>\n",
    "Even though the United States does well as far as the overall medal tally is concerned, Scandinavian countries dominate the list. Norway stands first with 319 medals. \n",
    "When it comes to average medals won , the Russians hit it out of the park. The list is headed by the Soviet Union, closely followed by Russia each of whom average more than 20 medals. \n",
    "\n",
    "These plots are a testament to the fact that the Soviets were an undisputed force in the Olympics. "
   ]
  },
  {
   "cell_type": "markdown",
   "metadata": {
    "extensions": {
     "jupyter_dashboards": {
      "version": 1,
      "views": {
       "grid_default": {
        "col": 4,
        "height": 4,
        "hidden": false,
        "row": 43,
        "width": 4
       },
       "report_default": {}
      }
     }
    }
   },
   "source": [
    "### Analysis 3: Representation in national teams in Summer & Winter Olympics"
   ]
  },
  {
   "cell_type": "code",
   "execution_count": 17,
   "metadata": {
    "extensions": {
     "jupyter_dashboards": {
      "version": 1,
      "views": {
       "grid_default": {
        "col": 0,
        "height": 10,
        "hidden": false,
        "row": 87,
        "width": 4
       },
       "report_default": {}
      }
     }
    }
   },
   "outputs": [
    {
     "data": {
      "image/png": "[encoded data removed]",
      "text/plain": [
       "<Figure size 576x432 with 1 Axes>"
      ]
     },
     "metadata": {},
     "output_type": "display_data"
    }
   ],
   "source": [
    "## Subset Sex per Season. Year and Name are considered so that every athlete from each country is only considered once.\n",
    "## Average of annual averages calculated to make the figure as accurate as possible.\n",
    "df_Sex = df[['Season', 'Year', 'Sex', 'Name']].drop_duplicates()\n",
    "df_Sex.drop(columns=['Name'], inplace=True)\n",
    "df_Sex1 = pd.get_dummies(df_Sex, columns=['Sex'])\n",
    "df_Sex2 = df_Sex1.groupby(['Season', 'Year'])[('Sex_F', 'Sex_M')].mean()\n",
    "df_Sex3 = df_Sex2.groupby('Season')[('Sex_F', 'Sex_M')].mean()\n",
    "\n",
    "df_Sex3.plot(kind='bar', figsize=(8, 6), stacked=True)\n",
    "plt.title(\"Gender in Olympic Teams\", fontsize=20, y=1.015)\n",
    "plt.ylabel(\"Proportion\", fontsize=18, labelpad=15);\n",
    "plt.xlabel(\"Olympic Season\", fontsize=18, labelpad=15)\n",
    "plt.xticks(rotation=0)\n",
    "plt.legend(labels=['Female', 'Male'], loc='best', fontsize=14);"
   ]
  },
  {
   "cell_type": "markdown",
   "metadata": {
    "extensions": {
     "jupyter_dashboards": {
      "version": 1,
      "views": {
       "grid_default": {
        "col": 0,
        "height": 4,
        "hidden": false,
        "row": 47,
        "width": 4
       },
       "report_default": {}
      }
     }
    }
   },
   "source": [
    "The proportion of female athletes overall is around 20%. There seems to be more female representation in the Winter games than the Summer games."
   ]
  },
  {
   "cell_type": "markdown",
   "metadata": {
    "extensions": {
     "jupyter_dashboards": {
      "version": 1,
      "views": {
       "grid_default": {
        "col": 4,
        "height": 4,
        "hidden": false,
        "row": 47,
        "width": 4
       },
       "report_default": {}
      }
     }
    }
   },
   "source": [
    "Read in 'geo' dataset. The datast contains country names and Geo codes. To be used for geo plotting later."
   ]
  },
  {
   "cell_type": "code",
   "execution_count": 18,
   "metadata": {
    "extensions": {
     "jupyter_dashboards": {
      "version": 1,
      "views": {
       "grid_default": {
        "col": 4,
        "height": 5,
        "hidden": false,
        "row": 87,
        "width": 4
       },
       "report_default": {}
      }
     }
    }
   },
   "outputs": [
    {
     "data": {
      "text/html": [
       "<div>\n",
       "<style scoped>\n",
       "    .dataframe tbody tr th:only-of-type {\n",
       "        vertical-align: middle;\n",
       "    }\n",
       "\n",
       "    .dataframe tbody tr th {\n",
       "        vertical-align: top;\n",
       "    }\n",
       "\n",
       "    .dataframe thead th {\n",
       "        text-align: right;\n",
       "    }\n",
       "</style>\n",
       "<table border=\"1\" class=\"dataframe\">\n",
       "  <thead>\n",
       "    <tr style=\"text-align: right;\">\n",
       "      <th></th>\n",
       "      <th>COUNTRY</th>\n",
       "      <th>CODE</th>\n",
       "    </tr>\n",
       "  </thead>\n",
       "  <tbody>\n",
       "    <tr>\n",
       "      <th>0</th>\n",
       "      <td>Afghanistan</td>\n",
       "      <td>AFG</td>\n",
       "    </tr>\n",
       "    <tr>\n",
       "      <th>1</th>\n",
       "      <td>Albania</td>\n",
       "      <td>ALB</td>\n",
       "    </tr>\n",
       "    <tr>\n",
       "      <th>2</th>\n",
       "      <td>Algeria</td>\n",
       "      <td>DZA</td>\n",
       "    </tr>\n",
       "  </tbody>\n",
       "</table>\n",
       "</div>"
      ],
      "text/plain": [
       "       COUNTRY CODE\n",
       "0  Afghanistan  AFG\n",
       "1      Albania  ALB\n",
       "2      Algeria  DZA"
      ]
     },
     "execution_count": 18,
     "metadata": {},
     "output_type": "execute_result"
    }
   ],
   "source": [
    "geo = pd.read_csv('geo_codes.csv')\n",
    "geo.head(3)"
   ]
  },
  {
   "cell_type": "markdown",
   "metadata": {
    "extensions": {
     "jupyter_dashboards": {
      "version": 1,
      "views": {
       "grid_default": {
        "col": 8,
        "height": 4,
        "hidden": false,
        "row": 87,
        "width": 4
       },
       "report_default": {}
      }
     }
    }
   },
   "source": [
    "Change certain region names to match the Olympic dataframe with the 'geo' dataframe."
   ]
  },
  {
   "cell_type": "code",
   "execution_count": 19,
   "metadata": {
    "extensions": {
     "jupyter_dashboards": {
      "version": 1,
      "views": {
       "grid_default": {
        "hidden": true
       },
       "report_default": {}
      }
     }
    }
   },
   "outputs": [],
   "source": [
    "df_Gender = df\n",
    "df_Gender.loc[df_Gender.region=='USA', 'region'] = 'United States'\n",
    "df_Gender.loc[df_Gender.region=='UK', 'region'] = 'United Kingdom'\n",
    "df_Gender.loc[df_Gender.region=='Antigua', 'region'] = 'Antigua and Barbuda'\n",
    "df_Gender.loc[df_Gender.region=='Bahamas', 'region'] = 'Bahamas, The'\n",
    "df_Gender.loc[df_Gender.region=='Boliva', 'region'] = 'Bolivia'\n",
    "df_Gender.loc[df_Gender.region=='Cape Verde', 'region'] = 'Cabo Verde'\n",
    "df_Gender.loc[df_Gender.region=='Democratic Republic of the Congo', \n",
    "                      'region'] = 'Congo, Democratic Republic of the'\n",
    "df_Gender.loc[df_Gender.region=='Gambia', 'region'] = 'Gambia, The'\n",
    "df_Gender.loc[df_Gender.region=='Micronesia', 'region'] = 'Micronesia, Federated States of'\n",
    "df_Gender.loc[df_Gender.region=='North Korea', 'region'] = 'Korea, North'\n",
    "df_Gender.loc[df_Gender.region=='Saint Kitts', 'region'] = 'Saint Kitts and Nevis'\n",
    "df_Gender.loc[df_Gender.region=='South Korea', 'region'] = 'Korea, South'\n",
    "df_Gender.loc[df_Gender.region=='Trinidad', 'region'] = 'Trinidad and Tobago'\n",
    "df_Gender.loc[df_Gender.region=='Virgin Islands, British', 'region'] = 'British Virgin Islands'\n",
    "df_Gender.loc[df_Gender.region=='Virgin Islands, US', 'region'] = 'Virgin Islands'"
   ]
  },
  {
   "cell_type": "markdown",
   "metadata": {
    "extensions": {
     "jupyter_dashboards": {
      "version": 1,
      "views": {
       "grid_default": {
        "col": 8,
        "height": 4,
        "hidden": false,
        "row": 91,
        "width": 4
       },
       "report_default": {}
      }
     }
    }
   },
   "source": [
    "To ensure analysis is not skewed by low participation, consider only those countries who have been a part of at least 5 Summer Olympics."
   ]
  },
  {
   "cell_type": "code",
   "execution_count": 20,
   "metadata": {
    "extensions": {
     "jupyter_dashboards": {
      "version": 1,
      "views": {
       "grid_default": {
        "hidden": true
       },
       "report_default": {}
      }
     }
    }
   },
   "outputs": [],
   "source": [
    "dfSummer_Year_count = df_Gender[(df_Gender.Season == 'Summer')].groupby('region')['Year'].apply(\n",
    "    lambda x: len(x.unique())).reset_index().rename(columns={'Year': 'Year_count'})\n",
    "min5yr_summer = dfSummer_Year_count[dfSummer_Year_count['Year_count'] > 4]['region'].values\n",
    "\n",
    "df_Summer_Gender = df_Gender[(df_Gender.Season == 'Summer') & (df_Gender.region.isin(min5yr_summer))][[\n",
    "    'Year', 'region', 'Sex', 'Name']].drop_duplicates()\n",
    "df_Summer_Gender1 = pd.get_dummies(df_Summer_Gender, columns=['Sex'])\n",
    "df_Summer_Gender2 = df_Summer_Gender1.groupby(['region', 'Year'])[('Sex_F', 'Sex_M')].mean()\n",
    "df_Summer_Gender3 = df_Summer_Gender2.groupby('region')[('Sex_F', 'Sex_M')].mean().reset_index()\n",
    "\n",
    "df_Summer_stats = df_Summer_Gender3.set_index('region').join(geo.set_index('COUNTRY')).dropna()\n",
    "df_Summer_stats['Female_ratio'] = round(df_Summer_stats['Sex_F'], 2)\n",
    "df_Summer_stats.drop(columns=['Sex_F', 'Sex_M'], inplace=True)"
   ]
  },
  {
   "cell_type": "code",
   "execution_count": 21,
   "metadata": {
    "extensions": {
     "jupyter_dashboards": {
      "version": 1,
      "views": {
       "grid_default": {
        "col": 4,
        "height": 19,
        "hidden": false,
        "row": 95,
        "width": null
       },
       "report_default": {}
      }
     }
    }
   },
   "outputs": [
    {
     "data": {
      "application/vnd.plotly.v1+json": {
       "data": [
        {
         "autocolorscale": false,
         "colorbar": {
          "autotick": false,
          "title": "Proportion of female athletes",
          "titlefont": {
           "size": 15
          }
         },
         "colorscale": [
          [
           0,
           "rgb(128,0,0)"
          ],
          [
           0.35,
           "rgb(139,0,0)"
          ],
          [
           0.5,
           "rgb(165,42,42)"
          ],
          [
           0.6,
           "rgb(255,0,0)"
          ],
          [
           0.7,
           "rgb(255,99,71)"
          ],
          [
           1,
           "rgb(255,160,122)"
          ]
         ],
         "locations": [
          "AFG",
          "ALB",
          "DZA",
          "ASM",
          "AND",
          "AGO",
          "ATG",
          "ARG",
          "ARM",
          "ABW",
          "AUS",
          "AUT",
          "AZE",
          "BHM",
          "BHR",
          "BGD",
          "BRB",
          "BLR",
          "BEL",
          "BLZ",
          "BEN",
          "BMU",
          "BTN",
          "BOL",
          "BIH",
          "BWA",
          "BRA",
          "VGB",
          "BRN",
          "BGR",
          "BFA",
          "BDI",
          "CPV",
          "KHM",
          "CMR",
          "CAN",
          "CYM",
          "CAF",
          "TCD",
          "CHL",
          "CHN",
          "COL",
          "COM",
          "COD",
          "COK",
          "CRI",
          "HRV",
          "CUB",
          "CUW",
          "CYP",
          "CZE",
          "DNK",
          "DJI",
          "DMA",
          "DOM",
          "ECU",
          "EGY",
          "SLV",
          "GNQ",
          "ERI",
          "EST",
          "ETH",
          "FJI",
          "FIN",
          "FRA",
          "GAB",
          "GMB",
          "GEO",
          "DEU",
          "GHA",
          "GRC",
          "GRD",
          "GUM",
          "GTM",
          "GIN",
          "GNB",
          "GUY",
          "HTI",
          "HND",
          "HUN",
          "ISL",
          "IND",
          "IDN",
          "IRN",
          "IRQ",
          "IRL",
          "ISR",
          "ITA",
          "JAM",
          "JPN",
          "JOR",
          "KAZ",
          "KEN",
          "PRK",
          "KOR",
          "KWT",
          "KGZ",
          "LAO",
          "LVA",
          "LBN",
          "LSO",
          "LBR",
          "LBY",
          "LIE",
          "LTU",
          "LUX",
          "MKD",
          "MDG",
          "MWI",
          "MYS",
          "MDV",
          "MLI",
          "MLT",
          "MRT",
          "MUS",
          "MEX",
          "FSM",
          "MDA",
          "MCO",
          "MNG",
          "MAR",
          "MOZ",
          "NAM",
          "NPL",
          "NLD",
          "NZL",
          "NIC",
          "NER",
          "NGA",
          "NOR",
          "OMN",
          "PAK",
          "PLW",
          "PAN",
          "PNG",
          "PRY",
          "PER",
          "PHL",
          "POL",
          "PRT",
          "PRI",
          "QAT",
          "ROU",
          "RUS",
          "RWA",
          "KNA",
          "LCA",
          "WSM",
          "SMR",
          "STP",
          "SAU",
          "SEN",
          "SRB",
          "SYC",
          "SLE",
          "SVK",
          "SVN",
          "SLB",
          "SOM",
          "ZAF",
          "ESP",
          "LKA",
          "SDN",
          "SUR",
          "SWZ",
          "SWE",
          "CHE",
          "SYR",
          "TWN",
          "TJK",
          "TZA",
          "THA",
          "TGO",
          "TON",
          "TTO",
          "TUN",
          "TUR",
          "TKM",
          "UGA",
          "UKR",
          "ARE",
          "GBR",
          "USA",
          "URY",
          "UZB",
          "VUT",
          "VEN",
          "VNM",
          "VGB",
          "YEM",
          "ZMB",
          "ZWE"
         ],
         "marker": {
          "line": {
           "color": "rgb(180,180,180)",
           "width": 0.5
          }
         },
         "reversescale": true,
         "text": [
          "Afghanistan",
          "Albania",
          "Algeria",
          "American Samoa",
          "Andorra",
          "Angola",
          "Antigua and Barbuda",
          "Argentina",
          "Armenia",
          "Aruba",
          "Australia",
          "Austria",
          "Azerbaijan",
          "Bahamas, The",
          "Bahrain",
          "Bangladesh",
          "Barbados",
          "Belarus",
          "Belgium",
          "Belize",
          "Benin",
          "Bermuda",
          "Bhutan",
          "Bolivia",
          "Bosnia and Herzegovina",
          "Botswana",
          "Brazil",
          "British Virgin Islands",
          "Brunei",
          "Bulgaria",
          "Burkina Faso",
          "Burundi",
          "Cabo Verde",
          "Cambodia",
          "Cameroon",
          "Canada",
          "Cayman Islands",
          "Central African Republic",
          "Chad",
          "Chile",
          "China",
          "Colombia",
          "Comoros",
          "Congo, Democratic Republic of the",
          "Cook Islands",
          "Costa Rica",
          "Croatia",
          "Cuba",
          "Curacao",
          "Cyprus",
          "Czech Republic",
          "Denmark",
          "Djibouti",
          "Dominica",
          "Dominican Republic",
          "Ecuador",
          "Egypt",
          "El Salvador",
          "Equatorial Guinea",
          "Eritrea",
          "Estonia",
          "Ethiopia",
          "Fiji",
          "Finland",
          "France",
          "Gabon",
          "Gambia, The",
          "Georgia",
          "Germany",
          "Ghana",
          "Greece",
          "Grenada",
          "Guam",
          "Guatemala",
          "Guinea",
          "Guinea-Bissau",
          "Guyana",
          "Haiti",
          "Honduras",
          "Hungary",
          "Iceland",
          "India",
          "Indonesia",
          "Iran",
          "Iraq",
          "Ireland",
          "Israel",
          "Italy",
          "Jamaica",
          "Japan",
          "Jordan",
          "Kazakhstan",
          "Kenya",
          "Korea, North",
          "Korea, South",
          "Kuwait",
          "Kyrgyzstan",
          "Laos",
          "Latvia",
          "Lebanon",
          "Lesotho",
          "Liberia",
          "Libya",
          "Liechtenstein",
          "Lithuania",
          "Luxembourg",
          "Macedonia",
          "Madagascar",
          "Malawi",
          "Malaysia",
          "Maldives",
          "Mali",
          "Malta",
          "Mauritania",
          "Mauritius",
          "Mexico",
          "Micronesia, Federated States of",
          "Moldova",
          "Monaco",
          "Mongolia",
          "Morocco",
          "Mozambique",
          "Namibia",
          "Nepal",
          "Netherlands",
          "New Zealand",
          "Nicaragua",
          "Niger",
          "Nigeria",
          "Norway",
          "Oman",
          "Pakistan",
          "Palau",
          "Panama",
          "Papua New Guinea",
          "Paraguay",
          "Peru",
          "Philippines",
          "Poland",
          "Portugal",
          "Puerto Rico",
          "Qatar",
          "Romania",
          "Russia",
          "Rwanda",
          "Saint Kitts and Nevis",
          "Saint Lucia",
          "Samoa",
          "San Marino",
          "Sao Tome and Principe",
          "Saudi Arabia",
          "Senegal",
          "Serbia",
          "Seychelles",
          "Sierra Leone",
          "Slovakia",
          "Slovenia",
          "Solomon Islands",
          "Somalia",
          "South Africa",
          "Spain",
          "Sri Lanka",
          "Sudan",
          "Suriname",
          "Swaziland",
          "Sweden",
          "Switzerland",
          "Syria",
          "Taiwan",
          "Tajikistan",
          "Tanzania",
          "Thailand",
          "Togo",
          "Tonga",
          "Trinidad and Tobago",
          "Tunisia",
          "Turkey",
          "Turkmenistan",
          "Uganda",
          "Ukraine",
          "United Arab Emirates",
          "United Kingdom",
          "United States",
          "Uruguay",
          "Uzbekistan",
          "Vanuatu",
          "Venezuela",
          "Vietnam",
          "Virgin Islands",
          "Yemen",
          "Zambia",
          "Zimbabwe"
         ],
         "type": "choropleth",
         "z": [
          0.08,
          0.38,
          0.13,
          0.22,
          0.21,
          0.45,
          0.29,
          0.12,
          0.12,
          0.27,
          0.21,
          0.18,
          0.22,
          0.19,
          0.23,
          0.26,
          0.16,
          0.47,
          0.17,
          0.22,
          0.22,
          0.2,
          0.56,
          0.22,
          0.28,
          0.08,
          0.17,
          0.19,
          0.13,
          0.23,
          0.3,
          0.4,
          0.49,
          0.35,
          0.26,
          0.23,
          0.21,
          0.3,
          0.33,
          0.12,
          0.28,
          0.15,
          0.43,
          0.29,
          0.34,
          0.2,
          0.21,
          0.16,
          0.13,
          0.26,
          0.19,
          0.17,
          0.21,
          0.39,
          0.19,
          0.2,
          0.07,
          0.3,
          0.29,
          0.19,
          0.13,
          0.24,
          0.23,
          0.15,
          0.16,
          0.31,
          0.31,
          0.22,
          0.22,
          0.16,
          0.11,
          0.29,
          0.3,
          0.2,
          0.27,
          0.37,
          0.19,
          0.19,
          0.17,
          0.19,
          0.18,
          0.12,
          0.28,
          0.03,
          0.08,
          0.17,
          0.27,
          0.14,
          0.37,
          0.24,
          0.32,
          0.39,
          0.2,
          0.46,
          0.27,
          0.02,
          0.25,
          0.29,
          0.22,
          0.21,
          0.22,
          0.23,
          0.1,
          0.24,
          0.24,
          0.19,
          0.4,
          0.34,
          0.3,
          0.17,
          0.34,
          0.26,
          0.23,
          0.28,
          0.38,
          0.17,
          0.43,
          0.26,
          0.09,
          0.26,
          0.11,
          0.33,
          0.31,
          0.3,
          0.24,
          0.22,
          0.25,
          0.19,
          0.24,
          0.18,
          0.12,
          0.05,
          0.5,
          0.2,
          0.31,
          0.21,
          0.32,
          0.15,
          0.21,
          0.11,
          0.14,
          0.04,
          0.29,
          0.28,
          0.35,
          0.42,
          0.53,
          0.2,
          0.19,
          0.44,
          0.04,
          0.22,
          0.13,
          0.21,
          0.27,
          0.31,
          0.33,
          0.34,
          0.28,
          0.17,
          0.14,
          0.2,
          0.14,
          0.25,
          0.22,
          0.19,
          0.13,
          0.13,
          0.33,
          0.31,
          0.13,
          0.24,
          0.18,
          0.23,
          0.16,
          0.13,
          0.11,
          0.42,
          0.15,
          0.46,
          0.06,
          0.22,
          0.22,
          0.09,
          0.26,
          0.34,
          0.15,
          0.3,
          0.2,
          0.14,
          0.15,
          0.31
         ]
        }
       ],
       "layout": {
        "geo": {
         "projection": {
          "type": "Mercator"
         },
         "showcoastlines": false,
         "showframe": false
        },
        "title": "Proportion of Female Athletes in Summer Olympics",
        "titlefont": {
         "size": 20
        }
       }
      },
      "text/html": [
       "<div id=\"51ee6f83-2d2f-4226-9f6f-17ec6af6f923\" style=\"height: 525px; width: 100%;\" class=\"plotly-graph-div\"></div><script type=\"text/javascript\">require([\"plotly\"], function(Plotly) { window.PLOTLYENV=window.PLOTLYENV || {};window.PLOTLYENV.BASE_URL=\"https://plot.ly\";Plotly.newPlot(\"51ee6f83-2d2f-4226-9f6f-17ec6af6f923\", [{\"type\": \"choropleth\", \"locations\": [\"AFG\", \"ALB\", \"DZA\", \"ASM\", \"AND\", \"AGO\", \"ATG\", \"ARG\", \"ARM\", \"ABW\", \"AUS\", \"AUT\", \"AZE\", \"BHM\", \"BHR\", \"BGD\", \"BRB\", \"BLR\", \"BEL\", \"BLZ\", \"BEN\", \"BMU\", \"BTN\", \"BOL\", \"BIH\", \"BWA\", \"BRA\", \"VGB\", \"BRN\", \"BGR\", \"BFA\", \"BDI\", \"CPV\", \"KHM\", \"CMR\", \"CAN\", \"CYM\", \"CAF\", \"TCD\", \"CHL\", \"CHN\", \"COL\", \"COM\", \"COD\", \"COK\", \"CRI\", \"HRV\", \"CUB\", \"CUW\", \"CYP\", \"CZE\", \"DNK\", \"DJI\", \"DMA\", \"DOM\", \"ECU\", \"EGY\", \"SLV\", \"GNQ\", \"ERI\", \"EST\", \"ETH\", \"FJI\", \"FIN\", \"FRA\", \"GAB\", \"GMB\", \"GEO\", \"DEU\", \"GHA\", \"GRC\", \"GRD\", \"GUM\", \"GTM\", \"GIN\", \"GNB\", \"GUY\", \"HTI\", \"HND\", \"HUN\", \"ISL\", \"IND\", \"IDN\", \"IRN\", \"IRQ\", \"IRL\", \"ISR\", \"ITA\", \"JAM\", \"JPN\", \"JOR\", \"KAZ\", \"KEN\", \"PRK\", \"KOR\", \"KWT\", \"KGZ\", \"LAO\", \"LVA\", \"LBN\", \"LSO\", \"LBR\", \"LBY\", \"LIE\", \"LTU\", \"LUX\", \"MKD\", \"MDG\", \"MWI\", \"MYS\", \"MDV\", \"MLI\", \"MLT\", \"MRT\", \"MUS\", \"MEX\", \"FSM\", \"MDA\", \"MCO\", \"MNG\", \"MAR\", \"MOZ\", \"NAM\", \"NPL\", \"NLD\", \"NZL\", \"NIC\", \"NER\", \"NGA\", \"NOR\", \"OMN\", \"PAK\", \"PLW\", \"PAN\", \"PNG\", \"PRY\", \"PER\", \"PHL\", \"POL\", \"PRT\", \"PRI\", \"QAT\", \"ROU\", \"RUS\", \"RWA\", \"KNA\", \"LCA\", \"WSM\", \"SMR\", \"STP\", \"SAU\", \"SEN\", \"SRB\", \"SYC\", \"SLE\", \"SVK\", \"SVN\", \"SLB\", \"SOM\", \"ZAF\", \"ESP\", \"LKA\", \"SDN\", \"SUR\", \"SWZ\", \"SWE\", \"CHE\", \"SYR\", \"TWN\", \"TJK\", \"TZA\", \"THA\", \"TGO\", \"TON\", \"TTO\", \"TUN\", \"TUR\", \"TKM\", \"UGA\", \"UKR\", \"ARE\", \"GBR\", \"USA\", \"URY\", \"UZB\", \"VUT\", \"VEN\", \"VNM\", \"VGB\", \"YEM\", \"ZMB\", \"ZWE\"], \"z\": [0.08, 0.38, 0.13, 0.22, 0.21, 0.45, 0.29, 0.12, 0.12, 0.27, 0.21, 0.18, 0.22, 0.19, 0.23, 0.26, 0.16, 0.47, 0.17, 0.22, 0.22, 0.2, 0.56, 0.22, 0.28, 0.08, 0.17, 0.19, 0.13, 0.23, 0.3, 0.4, 0.49, 0.35, 0.26, 0.23, 0.21, 0.3, 0.33, 0.12, 0.28, 0.15, 0.43, 0.29, 0.34, 0.2, 0.21, 0.16, 0.13, 0.26, 0.19, 0.17, 0.21, 0.39, 0.19, 0.2, 0.07, 0.3, 0.29, 0.19, 0.13, 0.24, 0.23, 0.15, 0.16, 0.31, 0.31, 0.22, 0.22, 0.16, 0.11, 0.29, 0.3, 0.2, 0.27, 0.37, 0.19, 0.19, 0.17, 0.19, 0.18, 0.12, 0.28, 0.03, 0.08, 0.17, 0.27, 0.14, 0.37, 0.24, 0.32, 0.39, 0.2, 0.46, 0.27, 0.02, 0.25, 0.29, 0.22, 0.21, 0.22, 0.23, 0.1, 0.24, 0.24, 0.19, 0.4, 0.34, 0.3, 0.17, 0.34, 0.26, 0.23, 0.28, 0.38, 0.17, 0.43, 0.26, 0.09, 0.26, 0.11, 0.33, 0.31, 0.3, 0.24, 0.22, 0.25, 0.19, 0.24, 0.18, 0.12, 0.05, 0.5, 0.2, 0.31, 0.21, 0.32, 0.15, 0.21, 0.11, 0.14, 0.04, 0.29, 0.28, 0.35, 0.42, 0.53, 0.2, 0.19, 0.44, 0.04, 0.22, 0.13, 0.21, 0.27, 0.31, 0.33, 0.34, 0.28, 0.17, 0.14, 0.2, 0.14, 0.25, 0.22, 0.19, 0.13, 0.13, 0.33, 0.31, 0.13, 0.24, 0.18, 0.23, 0.16, 0.13, 0.11, 0.42, 0.15, 0.46, 0.06, 0.22, 0.22, 0.09, 0.26, 0.34, 0.15, 0.3, 0.2, 0.14, 0.15, 0.31], \"text\": [\"Afghanistan\", \"Albania\", \"Algeria\", \"American Samoa\", \"Andorra\", \"Angola\", \"Antigua and Barbuda\", \"Argentina\", \"Armenia\", \"Aruba\", \"Australia\", \"Austria\", \"Azerbaijan\", \"Bahamas, The\", \"Bahrain\", \"Bangladesh\", \"Barbados\", \"Belarus\", \"Belgium\", \"Belize\", \"Benin\", \"Bermuda\", \"Bhutan\", \"Bolivia\", \"Bosnia and Herzegovina\", \"Botswana\", \"Brazil\", \"British Virgin Islands\", \"Brunei\", \"Bulgaria\", \"Burkina Faso\", \"Burundi\", \"Cabo Verde\", \"Cambodia\", \"Cameroon\", \"Canada\", \"Cayman Islands\", \"Central African Republic\", \"Chad\", \"Chile\", \"China\", \"Colombia\", \"Comoros\", \"Congo, Democratic Republic of the\", \"Cook Islands\", \"Costa Rica\", \"Croatia\", \"Cuba\", \"Curacao\", \"Cyprus\", \"Czech Republic\", \"Denmark\", \"Djibouti\", \"Dominica\", \"Dominican Republic\", \"Ecuador\", \"Egypt\", \"El Salvador\", \"Equatorial Guinea\", \"Eritrea\", \"Estonia\", \"Ethiopia\", \"Fiji\", \"Finland\", \"France\", \"Gabon\", \"Gambia, The\", \"Georgia\", \"Germany\", \"Ghana\", \"Greece\", \"Grenada\", \"Guam\", \"Guatemala\", \"Guinea\", \"Guinea-Bissau\", \"Guyana\", \"Haiti\", \"Honduras\", \"Hungary\", \"Iceland\", \"India\", \"Indonesia\", \"Iran\", \"Iraq\", \"Ireland\", \"Israel\", \"Italy\", \"Jamaica\", \"Japan\", \"Jordan\", \"Kazakhstan\", \"Kenya\", \"Korea, North\", \"Korea, South\", \"Kuwait\", \"Kyrgyzstan\", \"Laos\", \"Latvia\", \"Lebanon\", \"Lesotho\", \"Liberia\", \"Libya\", \"Liechtenstein\", \"Lithuania\", \"Luxembourg\", \"Macedonia\", \"Madagascar\", \"Malawi\", \"Malaysia\", \"Maldives\", \"Mali\", \"Malta\", \"Mauritania\", \"Mauritius\", \"Mexico\", \"Micronesia, Federated States of\", \"Moldova\", \"Monaco\", \"Mongolia\", \"Morocco\", \"Mozambique\", \"Namibia\", \"Nepal\", \"Netherlands\", \"New Zealand\", \"Nicaragua\", \"Niger\", \"Nigeria\", \"Norway\", \"Oman\", \"Pakistan\", \"Palau\", \"Panama\", \"Papua New Guinea\", \"Paraguay\", \"Peru\", \"Philippines\", \"Poland\", \"Portugal\", \"Puerto Rico\", \"Qatar\", \"Romania\", \"Russia\", \"Rwanda\", \"Saint Kitts and Nevis\", \"Saint Lucia\", \"Samoa\", \"San Marino\", \"Sao Tome and Principe\", \"Saudi Arabia\", \"Senegal\", \"Serbia\", \"Seychelles\", \"Sierra Leone\", \"Slovakia\", \"Slovenia\", \"Solomon Islands\", \"Somalia\", \"South Africa\", \"Spain\", \"Sri Lanka\", \"Sudan\", \"Suriname\", \"Swaziland\", \"Sweden\", \"Switzerland\", \"Syria\", \"Taiwan\", \"Tajikistan\", \"Tanzania\", \"Thailand\", \"Togo\", \"Tonga\", \"Trinidad and Tobago\", \"Tunisia\", \"Turkey\", \"Turkmenistan\", \"Uganda\", \"Ukraine\", \"United Arab Emirates\", \"United Kingdom\", \"United States\", \"Uruguay\", \"Uzbekistan\", \"Vanuatu\", \"Venezuela\", \"Vietnam\", \"Virgin Islands\", \"Yemen\", \"Zambia\", \"Zimbabwe\"], \"colorscale\": [[0, \"rgb(128,0,0)\"], [0.35, \"rgb(139,0,0)\"], [0.5, \"rgb(165,42,42)\"], [0.6, \"rgb(255,0,0)\"], [0.7, \"rgb(255,99,71)\"], [1, \"rgb(255,160,122)\"]], \"autocolorscale\": false, \"reversescale\": true, \"marker\": {\"line\": {\"color\": \"rgb(180,180,180)\", \"width\": 0.5}}, \"colorbar\": {\"autotick\": false, \"title\": \"Proportion of female athletes\", \"titlefont\": {\"size\": 15}}}], {\"title\": \"Proportion of Female Athletes in Summer Olympics\", \"titlefont\": {\"size\": 20}, \"geo\": {\"showframe\": false, \"showcoastlines\": false, \"projection\": {\"type\": \"Mercator\"}}}, {\"showLink\": true, \"linkText\": \"Export to plot.ly\"})});</script>"
      ],
      "text/vnd.plotly.v1+html": [
       "<div id=\"51ee6f83-2d2f-4226-9f6f-17ec6af6f923\" style=\"height: 525px; width: 100%;\" class=\"plotly-graph-div\"></div><script type=\"text/javascript\">require([\"plotly\"], function(Plotly) { window.PLOTLYENV=window.PLOTLYENV || {};window.PLOTLYENV.BASE_URL=\"https://plot.ly\";Plotly.newPlot(\"51ee6f83-2d2f-4226-9f6f-17ec6af6f923\", [{\"type\": \"choropleth\", \"locations\": [\"AFG\", \"ALB\", \"DZA\", \"ASM\", \"AND\", \"AGO\", \"ATG\", \"ARG\", \"ARM\", \"ABW\", \"AUS\", \"AUT\", \"AZE\", \"BHM\", \"BHR\", \"BGD\", \"BRB\", \"BLR\", \"BEL\", \"BLZ\", \"BEN\", \"BMU\", \"BTN\", \"BOL\", \"BIH\", \"BWA\", \"BRA\", \"VGB\", \"BRN\", \"BGR\", \"BFA\", \"BDI\", \"CPV\", \"KHM\", \"CMR\", \"CAN\", \"CYM\", \"CAF\", \"TCD\", \"CHL\", \"CHN\", \"COL\", \"COM\", \"COD\", \"COK\", \"CRI\", \"HRV\", \"CUB\", \"CUW\", \"CYP\", \"CZE\", \"DNK\", \"DJI\", \"DMA\", \"DOM\", \"ECU\", \"EGY\", \"SLV\", \"GNQ\", \"ERI\", \"EST\", \"ETH\", \"FJI\", \"FIN\", \"FRA\", \"GAB\", \"GMB\", \"GEO\", \"DEU\", \"GHA\", \"GRC\", \"GRD\", \"GUM\", \"GTM\", \"GIN\", \"GNB\", \"GUY\", \"HTI\", \"HND\", \"HUN\", \"ISL\", \"IND\", \"IDN\", \"IRN\", \"IRQ\", \"IRL\", \"ISR\", \"ITA\", \"JAM\", \"JPN\", \"JOR\", \"KAZ\", \"KEN\", \"PRK\", \"KOR\", \"KWT\", \"KGZ\", \"LAO\", \"LVA\", \"LBN\", \"LSO\", \"LBR\", \"LBY\", \"LIE\", \"LTU\", \"LUX\", \"MKD\", \"MDG\", \"MWI\", \"MYS\", \"MDV\", \"MLI\", \"MLT\", \"MRT\", \"MUS\", \"MEX\", \"FSM\", \"MDA\", \"MCO\", \"MNG\", \"MAR\", \"MOZ\", \"NAM\", \"NPL\", \"NLD\", \"NZL\", \"NIC\", \"NER\", \"NGA\", \"NOR\", \"OMN\", \"PAK\", \"PLW\", \"PAN\", \"PNG\", \"PRY\", \"PER\", \"PHL\", \"POL\", \"PRT\", \"PRI\", \"QAT\", \"ROU\", \"RUS\", \"RWA\", \"KNA\", \"LCA\", \"WSM\", \"SMR\", \"STP\", \"SAU\", \"SEN\", \"SRB\", \"SYC\", \"SLE\", \"SVK\", \"SVN\", \"SLB\", \"SOM\", \"ZAF\", \"ESP\", \"LKA\", \"SDN\", \"SUR\", \"SWZ\", \"SWE\", \"CHE\", \"SYR\", \"TWN\", \"TJK\", \"TZA\", \"THA\", \"TGO\", \"TON\", \"TTO\", \"TUN\", \"TUR\", \"TKM\", \"UGA\", \"UKR\", \"ARE\", \"GBR\", \"USA\", \"URY\", \"UZB\", \"VUT\", \"VEN\", \"VNM\", \"VGB\", \"YEM\", \"ZMB\", \"ZWE\"], \"z\": [0.08, 0.38, 0.13, 0.22, 0.21, 0.45, 0.29, 0.12, 0.12, 0.27, 0.21, 0.18, 0.22, 0.19, 0.23, 0.26, 0.16, 0.47, 0.17, 0.22, 0.22, 0.2, 0.56, 0.22, 0.28, 0.08, 0.17, 0.19, 0.13, 0.23, 0.3, 0.4, 0.49, 0.35, 0.26, 0.23, 0.21, 0.3, 0.33, 0.12, 0.28, 0.15, 0.43, 0.29, 0.34, 0.2, 0.21, 0.16, 0.13, 0.26, 0.19, 0.17, 0.21, 0.39, 0.19, 0.2, 0.07, 0.3, 0.29, 0.19, 0.13, 0.24, 0.23, 0.15, 0.16, 0.31, 0.31, 0.22, 0.22, 0.16, 0.11, 0.29, 0.3, 0.2, 0.27, 0.37, 0.19, 0.19, 0.17, 0.19, 0.18, 0.12, 0.28, 0.03, 0.08, 0.17, 0.27, 0.14, 0.37, 0.24, 0.32, 0.39, 0.2, 0.46, 0.27, 0.02, 0.25, 0.29, 0.22, 0.21, 0.22, 0.23, 0.1, 0.24, 0.24, 0.19, 0.4, 0.34, 0.3, 0.17, 0.34, 0.26, 0.23, 0.28, 0.38, 0.17, 0.43, 0.26, 0.09, 0.26, 0.11, 0.33, 0.31, 0.3, 0.24, 0.22, 0.25, 0.19, 0.24, 0.18, 0.12, 0.05, 0.5, 0.2, 0.31, 0.21, 0.32, 0.15, 0.21, 0.11, 0.14, 0.04, 0.29, 0.28, 0.35, 0.42, 0.53, 0.2, 0.19, 0.44, 0.04, 0.22, 0.13, 0.21, 0.27, 0.31, 0.33, 0.34, 0.28, 0.17, 0.14, 0.2, 0.14, 0.25, 0.22, 0.19, 0.13, 0.13, 0.33, 0.31, 0.13, 0.24, 0.18, 0.23, 0.16, 0.13, 0.11, 0.42, 0.15, 0.46, 0.06, 0.22, 0.22, 0.09, 0.26, 0.34, 0.15, 0.3, 0.2, 0.14, 0.15, 0.31], \"text\": [\"Afghanistan\", \"Albania\", \"Algeria\", \"American Samoa\", \"Andorra\", \"Angola\", \"Antigua and Barbuda\", \"Argentina\", \"Armenia\", \"Aruba\", \"Australia\", \"Austria\", \"Azerbaijan\", \"Bahamas, The\", \"Bahrain\", \"Bangladesh\", \"Barbados\", \"Belarus\", \"Belgium\", \"Belize\", \"Benin\", \"Bermuda\", \"Bhutan\", \"Bolivia\", \"Bosnia and Herzegovina\", \"Botswana\", \"Brazil\", \"British Virgin Islands\", \"Brunei\", \"Bulgaria\", \"Burkina Faso\", \"Burundi\", \"Cabo Verde\", \"Cambodia\", \"Cameroon\", \"Canada\", \"Cayman Islands\", \"Central African Republic\", \"Chad\", \"Chile\", \"China\", \"Colombia\", \"Comoros\", \"Congo, Democratic Republic of the\", \"Cook Islands\", \"Costa Rica\", \"Croatia\", \"Cuba\", \"Curacao\", \"Cyprus\", \"Czech Republic\", \"Denmark\", \"Djibouti\", \"Dominica\", \"Dominican Republic\", \"Ecuador\", \"Egypt\", \"El Salvador\", \"Equatorial Guinea\", \"Eritrea\", \"Estonia\", \"Ethiopia\", \"Fiji\", \"Finland\", \"France\", \"Gabon\", \"Gambia, The\", \"Georgia\", \"Germany\", \"Ghana\", \"Greece\", \"Grenada\", \"Guam\", \"Guatemala\", \"Guinea\", \"Guinea-Bissau\", \"Guyana\", \"Haiti\", \"Honduras\", \"Hungary\", \"Iceland\", \"India\", \"Indonesia\", \"Iran\", \"Iraq\", \"Ireland\", \"Israel\", \"Italy\", \"Jamaica\", \"Japan\", \"Jordan\", \"Kazakhstan\", \"Kenya\", \"Korea, North\", \"Korea, South\", \"Kuwait\", \"Kyrgyzstan\", \"Laos\", \"Latvia\", \"Lebanon\", \"Lesotho\", \"Liberia\", \"Libya\", \"Liechtenstein\", \"Lithuania\", \"Luxembourg\", \"Macedonia\", \"Madagascar\", \"Malawi\", \"Malaysia\", \"Maldives\", \"Mali\", \"Malta\", \"Mauritania\", \"Mauritius\", \"Mexico\", \"Micronesia, Federated States of\", \"Moldova\", \"Monaco\", \"Mongolia\", \"Morocco\", \"Mozambique\", \"Namibia\", \"Nepal\", \"Netherlands\", \"New Zealand\", \"Nicaragua\", \"Niger\", \"Nigeria\", \"Norway\", \"Oman\", \"Pakistan\", \"Palau\", \"Panama\", \"Papua New Guinea\", \"Paraguay\", \"Peru\", \"Philippines\", \"Poland\", \"Portugal\", \"Puerto Rico\", \"Qatar\", \"Romania\", \"Russia\", \"Rwanda\", \"Saint Kitts and Nevis\", \"Saint Lucia\", \"Samoa\", \"San Marino\", \"Sao Tome and Principe\", \"Saudi Arabia\", \"Senegal\", \"Serbia\", \"Seychelles\", \"Sierra Leone\", \"Slovakia\", \"Slovenia\", \"Solomon Islands\", \"Somalia\", \"South Africa\", \"Spain\", \"Sri Lanka\", \"Sudan\", \"Suriname\", \"Swaziland\", \"Sweden\", \"Switzerland\", \"Syria\", \"Taiwan\", \"Tajikistan\", \"Tanzania\", \"Thailand\", \"Togo\", \"Tonga\", \"Trinidad and Tobago\", \"Tunisia\", \"Turkey\", \"Turkmenistan\", \"Uganda\", \"Ukraine\", \"United Arab Emirates\", \"United Kingdom\", \"United States\", \"Uruguay\", \"Uzbekistan\", \"Vanuatu\", \"Venezuela\", \"Vietnam\", \"Virgin Islands\", \"Yemen\", \"Zambia\", \"Zimbabwe\"], \"colorscale\": [[0, \"rgb(128,0,0)\"], [0.35, \"rgb(139,0,0)\"], [0.5, \"rgb(165,42,42)\"], [0.6, \"rgb(255,0,0)\"], [0.7, \"rgb(255,99,71)\"], [1, \"rgb(255,160,122)\"]], \"autocolorscale\": false, \"reversescale\": true, \"marker\": {\"line\": {\"color\": \"rgb(180,180,180)\", \"width\": 0.5}}, \"colorbar\": {\"autotick\": false, \"title\": \"Proportion of female athletes\", \"titlefont\": {\"size\": 15}}}], {\"title\": \"Proportion of Female Athletes in Summer Olympics\", \"titlefont\": {\"size\": 20}, \"geo\": {\"showframe\": false, \"showcoastlines\": false, \"projection\": {\"type\": \"Mercator\"}}}, {\"showLink\": true, \"linkText\": \"Export to plot.ly\"})});</script>"
      ]
     },
     "metadata": {},
     "output_type": "display_data"
    }
   ],
   "source": [
    "data10 = [ dict(\n",
    "        type='choropleth',\n",
    "        locations=df_Summer_stats['CODE'],\n",
    "        z=df_Summer_stats['Female_ratio'],\n",
    "        text=df_Summer_stats.index,\n",
    "        colorscale=[[0,\"rgb(128,0,0)\"], [0.35,\"rgb(139,0,0)\"], [0.5,\"rgb(165,42,42)\"],\\\n",
    "            [0.6,\"rgb(255,0,0)\"], [0.7,\"rgb(255,99,71)\"], [1,\"rgb(255,160,122)\"]],\n",
    "        autocolorscale=False,\n",
    "        reversescale=True,\n",
    "        marker=dict(\n",
    "            line=dict (\n",
    "                color='rgb(180,180,180)',\n",
    "                width=0.5\n",
    "            ) ),\n",
    "        colorbar=dict(\n",
    "            autotick=False,\n",
    "            title='Proportion of female athletes', titlefont=dict(size=15)),\n",
    "      ) ]\n",
    "\n",
    "layout5 = dict(\n",
    "    title='Proportion of Female Athletes in Summer Olympics', \n",
    "    titlefont=dict(size=20), \n",
    "    geo=dict(\n",
    "        showframe=False,\n",
    "        showcoastlines=False,\n",
    "        projection=dict(\n",
    "            type='Mercator'\n",
    "        )\n",
    "    )\n",
    ")\n",
    "\n",
    "fig5 = dict(data=data10, layout=layout5)\n",
    "plotly.offline.iplot(fig5, validate=False)"
   ]
  },
  {
   "cell_type": "markdown",
   "metadata": {
    "extensions": {
     "jupyter_dashboards": {
      "version": 1,
      "views": {
       "grid_default": {
        "col": 0,
        "height": 4,
        "hidden": false,
        "row": 97,
        "width": 4
       },
       "report_default": {}
      }
     }
    }
   },
   "source": [
    "<b>Summer Olympics</b><br>\n",
    "Surprisingly the countries with the most female representation seem to be Bhutan, North Korea, Belarus, Ukraine and Angola. "
   ]
  },
  {
   "cell_type": "markdown",
   "metadata": {
    "extensions": {
     "jupyter_dashboards": {
      "version": 1,
      "views": {
       "grid_default": {
        "col": 0,
        "height": 4,
        "hidden": false,
        "row": 101,
        "width": 4
       },
       "report_default": {}
      }
     }
    }
   },
   "source": [
    "To ensure analysis is not skewed by low participation, consider only those countries who have been a part of at least 3 Winter Olympics."
   ]
  },
  {
   "cell_type": "code",
   "execution_count": 22,
   "metadata": {
    "extensions": {
     "jupyter_dashboards": {
      "version": 1,
      "views": {
       "grid_default": {
        "hidden": true
       },
       "report_default": {}
      }
     }
    }
   },
   "outputs": [],
   "source": [
    "dfWinter_Year_count = df_Gender[(df_Gender.Season == 'Winter')].groupby('region')['Year'].apply(\n",
    "    lambda x: len(x.unique())).reset_index().rename(columns={'Year': 'Year_count'})\n",
    "min5yr_winter = dfWinter_Year_count[dfWinter_Year_count['Year_count'] > 2]['region'].values\n",
    "\n",
    "df_Winter_Gender = df_Gender[(df_Gender.Season == 'Winter') & (df_Gender.region.isin(min5yr_winter))][[\n",
    "    'Year', 'region', 'Sex', 'Name']].drop_duplicates()\n",
    "df_Winter_Gender1 = pd.get_dummies(df_Winter_Gender, columns=['Sex'])\n",
    "df_Winter_Gender2 = df_Winter_Gender1.groupby(['region', 'Year'])[('Sex_F', 'Sex_M')].mean()\n",
    "df_Winter_Gender3 = df_Winter_Gender2.groupby('region')[('Sex_F', 'Sex_M')].mean().reset_index()\n",
    "\n",
    "df_Winter_stats = df_Winter_Gender3.set_index('region').join(geo.set_index('COUNTRY')).dropna()\n",
    "df_Winter_stats['Female_ratio'] = round(df_Winter_stats['Sex_F'], 2)\n",
    "df_Winter_stats.drop(columns=['Sex_F', 'Sex_M'], inplace=True)"
   ]
  },
  {
   "cell_type": "code",
   "execution_count": 23,
   "metadata": {
    "extensions": {
     "jupyter_dashboards": {
      "version": 1,
      "views": {
       "grid_default": {
        "col": 0,
        "height": 19,
        "hidden": false,
        "row": 114,
        "width": null
       },
       "report_default": {}
      }
     }
    }
   },
   "outputs": [
    {
     "data": {
      "application/vnd.plotly.v1+json": {
       "data": [
        {
         "autocolorscale": false,
         "colorbar": {
          "autotick": false,
          "title": "Proportion of female athletes",
          "titlefont": {
           "size": 15
          }
         },
         "colorscale": [
          [
           0,
           "rgb(5, 10, 172)"
          ],
          [
           0.35,
           "rgb(40, 60, 190)"
          ],
          [
           0.5,
           "rgb(70, 100, 245)"
          ],
          [
           0.6,
           "rgb(90, 120, 245)"
          ],
          [
           0.7,
           "rgb(106, 137, 247)"
          ],
          [
           1,
           "rgb(220, 220, 220)"
          ]
         ],
         "locations": [
          "ALB",
          "DZA",
          "AND",
          "ARG",
          "ARM",
          "AUS",
          "AUT",
          "AZE",
          "BLR",
          "BEL",
          "BMU",
          "BOL",
          "BIH",
          "BRA",
          "BGR",
          "CAN",
          "CHL",
          "CHN",
          "CRI",
          "HRV",
          "CYP",
          "CZE",
          "DNK",
          "EST",
          "FJI",
          "FIN",
          "FRA",
          "GEO",
          "DEU",
          "GRC",
          "HUN",
          "ISL",
          "IND",
          "IRN",
          "IRL",
          "ISR",
          "ITA",
          "JAM",
          "JPN",
          "KAZ",
          "KEN",
          "PRK",
          "KOR",
          "KGZ",
          "LVA",
          "LBN",
          "LIE",
          "LTU",
          "LUX",
          "MKD",
          "MEX",
          "MDA",
          "MCO",
          "MNG",
          "MAR",
          "NPL",
          "NLD",
          "NZL",
          "NOR",
          "PHL",
          "POL",
          "PRT",
          "PRI",
          "ROU",
          "RUS",
          "SMR",
          "SEN",
          "SRB",
          "SVK",
          "SVN",
          "ZAF",
          "ESP",
          "SWE",
          "CHE",
          "TWN",
          "TJK",
          "THA",
          "TTO",
          "TUR",
          "UKR",
          "GBR",
          "USA",
          "UZB",
          "VEN",
          "VGB"
         ],
         "marker": {
          "line": {
           "color": "rgb(180,180,180)",
           "width": 0.5
          }
         },
         "reversescale": true,
         "text": [
          "Albania",
          "Algeria",
          "Andorra",
          "Argentina",
          "Armenia",
          "Australia",
          "Austria",
          "Azerbaijan",
          "Belarus",
          "Belgium",
          "Bermuda",
          "Bolivia",
          "Bosnia and Herzegovina",
          "Brazil",
          "Bulgaria",
          "Canada",
          "Chile",
          "China",
          "Costa Rica",
          "Croatia",
          "Cyprus",
          "Czech Republic",
          "Denmark",
          "Estonia",
          "Fiji",
          "Finland",
          "France",
          "Georgia",
          "Germany",
          "Greece",
          "Hungary",
          "Iceland",
          "India",
          "Iran",
          "Ireland",
          "Israel",
          "Italy",
          "Jamaica",
          "Japan",
          "Kazakhstan",
          "Kenya",
          "Korea, North",
          "Korea, South",
          "Kyrgyzstan",
          "Latvia",
          "Lebanon",
          "Liechtenstein",
          "Lithuania",
          "Luxembourg",
          "Macedonia",
          "Mexico",
          "Moldova",
          "Monaco",
          "Mongolia",
          "Morocco",
          "Nepal",
          "Netherlands",
          "New Zealand",
          "Norway",
          "Philippines",
          "Poland",
          "Portugal",
          "Puerto Rico",
          "Romania",
          "Russia",
          "San Marino",
          "Senegal",
          "Serbia",
          "Slovakia",
          "Slovenia",
          "South Africa",
          "Spain",
          "Sweden",
          "Switzerland",
          "Taiwan",
          "Tajikistan",
          "Thailand",
          "Trinidad and Tobago",
          "Turkey",
          "Ukraine",
          "United Kingdom",
          "United States",
          "Uzbekistan",
          "Venezuela",
          "Virgin Islands"
         ],
         "type": "choropleth",
         "z": [
          0.33,
          0.25,
          0.22,
          0.25,
          0.3,
          0.26,
          0.23,
          0.42,
          0.36,
          0.21,
          0,
          0,
          0.3,
          0.26,
          0.25,
          0.28,
          0.12,
          0.59,
          0,
          0.29,
          0.26,
          0.16,
          0.28,
          0.27,
          0,
          0.17,
          0.23,
          0.31,
          0.26,
          0.13,
          0.39,
          0.18,
          0.06,
          0.06,
          0.19,
          0.32,
          0.2,
          0,
          0.21,
          0.36,
          0,
          0.63,
          0.34,
          0.25,
          0.14,
          0.21,
          0.18,
          0.37,
          0.12,
          0.27,
          0.04,
          0.41,
          0.09,
          0.18,
          0.11,
          0,
          0.36,
          0.34,
          0.19,
          0,
          0.2,
          0.14,
          0.02,
          0.2,
          0.3,
          0.06,
          0,
          0.19,
          0.26,
          0.32,
          0.29,
          0.24,
          0.2,
          0.21,
          0.04,
          0,
          0.17,
          0,
          0.12,
          0.45,
          0.31,
          0.26,
          0.51,
          0.31,
          0.34
         ]
        }
       ],
       "layout": {
        "geo": {
         "projection": {
          "type": "Mercator"
         },
         "showcoastlines": false,
         "showframe": false
        },
        "title": "Proportion of Female Athletes in Winter Olympics",
        "titlefont": {
         "size": 20
        }
       }
      },
      "text/html": [
       "<div id=\"2004f64d-2520-49c9-a8dd-c279f90ef317\" style=\"height: 525px; width: 100%;\" class=\"plotly-graph-div\"></div><script type=\"text/javascript\">require([\"plotly\"], function(Plotly) { window.PLOTLYENV=window.PLOTLYENV || {};window.PLOTLYENV.BASE_URL=\"https://plot.ly\";Plotly.newPlot(\"2004f64d-2520-49c9-a8dd-c279f90ef317\", [{\"type\": \"choropleth\", \"locations\": [\"ALB\", \"DZA\", \"AND\", \"ARG\", \"ARM\", \"AUS\", \"AUT\", \"AZE\", \"BLR\", \"BEL\", \"BMU\", \"BOL\", \"BIH\", \"BRA\", \"BGR\", \"CAN\", \"CHL\", \"CHN\", \"CRI\", \"HRV\", \"CYP\", \"CZE\", \"DNK\", \"EST\", \"FJI\", \"FIN\", \"FRA\", \"GEO\", \"DEU\", \"GRC\", \"HUN\", \"ISL\", \"IND\", \"IRN\", \"IRL\", \"ISR\", \"ITA\", \"JAM\", \"JPN\", \"KAZ\", \"KEN\", \"PRK\", \"KOR\", \"KGZ\", \"LVA\", \"LBN\", \"LIE\", \"LTU\", \"LUX\", \"MKD\", \"MEX\", \"MDA\", \"MCO\", \"MNG\", \"MAR\", \"NPL\", \"NLD\", \"NZL\", \"NOR\", \"PHL\", \"POL\", \"PRT\", \"PRI\", \"ROU\", \"RUS\", \"SMR\", \"SEN\", \"SRB\", \"SVK\", \"SVN\", \"ZAF\", \"ESP\", \"SWE\", \"CHE\", \"TWN\", \"TJK\", \"THA\", \"TTO\", \"TUR\", \"UKR\", \"GBR\", \"USA\", \"UZB\", \"VEN\", \"VGB\"], \"z\": [0.33, 0.25, 0.22, 0.25, 0.3, 0.26, 0.23, 0.42, 0.36, 0.21, 0.0, 0.0, 0.3, 0.26, 0.25, 0.28, 0.12, 0.59, 0.0, 0.29, 0.26, 0.16, 0.28, 0.27, 0.0, 0.17, 0.23, 0.31, 0.26, 0.13, 0.39, 0.18, 0.06, 0.06, 0.19, 0.32, 0.2, 0.0, 0.21, 0.36, 0.0, 0.63, 0.34, 0.25, 0.14, 0.21, 0.18, 0.37, 0.12, 0.27, 0.04, 0.41, 0.09, 0.18, 0.11, 0.0, 0.36, 0.34, 0.19, 0.0, 0.2, 0.14, 0.02, 0.2, 0.3, 0.06, 0.0, 0.19, 0.26, 0.32, 0.29, 0.24, 0.2, 0.21, 0.04, 0.0, 0.17, 0.0, 0.12, 0.45, 0.31, 0.26, 0.51, 0.31, 0.34], \"text\": [\"Albania\", \"Algeria\", \"Andorra\", \"Argentina\", \"Armenia\", \"Australia\", \"Austria\", \"Azerbaijan\", \"Belarus\", \"Belgium\", \"Bermuda\", \"Bolivia\", \"Bosnia and Herzegovina\", \"Brazil\", \"Bulgaria\", \"Canada\", \"Chile\", \"China\", \"Costa Rica\", \"Croatia\", \"Cyprus\", \"Czech Republic\", \"Denmark\", \"Estonia\", \"Fiji\", \"Finland\", \"France\", \"Georgia\", \"Germany\", \"Greece\", \"Hungary\", \"Iceland\", \"India\", \"Iran\", \"Ireland\", \"Israel\", \"Italy\", \"Jamaica\", \"Japan\", \"Kazakhstan\", \"Kenya\", \"Korea, North\", \"Korea, South\", \"Kyrgyzstan\", \"Latvia\", \"Lebanon\", \"Liechtenstein\", \"Lithuania\", \"Luxembourg\", \"Macedonia\", \"Mexico\", \"Moldova\", \"Monaco\", \"Mongolia\", \"Morocco\", \"Nepal\", \"Netherlands\", \"New Zealand\", \"Norway\", \"Philippines\", \"Poland\", \"Portugal\", \"Puerto Rico\", \"Romania\", \"Russia\", \"San Marino\", \"Senegal\", \"Serbia\", \"Slovakia\", \"Slovenia\", \"South Africa\", \"Spain\", \"Sweden\", \"Switzerland\", \"Taiwan\", \"Tajikistan\", \"Thailand\", \"Trinidad and Tobago\", \"Turkey\", \"Ukraine\", \"United Kingdom\", \"United States\", \"Uzbekistan\", \"Venezuela\", \"Virgin Islands\"], \"colorscale\": [[0, \"rgb(5, 10, 172)\"], [0.35, \"rgb(40, 60, 190)\"], [0.5, \"rgb(70, 100, 245)\"], [0.6, \"rgb(90, 120, 245)\"], [0.7, \"rgb(106, 137, 247)\"], [1, \"rgb(220, 220, 220)\"]], \"autocolorscale\": false, \"reversescale\": true, \"marker\": {\"line\": {\"color\": \"rgb(180,180,180)\", \"width\": 0.5}}, \"colorbar\": {\"autotick\": false, \"title\": \"Proportion of female athletes\", \"titlefont\": {\"size\": 15}}}], {\"title\": \"Proportion of Female Athletes in Winter Olympics\", \"titlefont\": {\"size\": 20}, \"geo\": {\"showframe\": false, \"showcoastlines\": false, \"projection\": {\"type\": \"Mercator\"}}}, {\"showLink\": true, \"linkText\": \"Export to plot.ly\"})});</script>"
      ],
      "text/vnd.plotly.v1+html": [
       "<div id=\"2004f64d-2520-49c9-a8dd-c279f90ef317\" style=\"height: 525px; width: 100%;\" class=\"plotly-graph-div\"></div><script type=\"text/javascript\">require([\"plotly\"], function(Plotly) { window.PLOTLYENV=window.PLOTLYENV || {};window.PLOTLYENV.BASE_URL=\"https://plot.ly\";Plotly.newPlot(\"2004f64d-2520-49c9-a8dd-c279f90ef317\", [{\"type\": \"choropleth\", \"locations\": [\"ALB\", \"DZA\", \"AND\", \"ARG\", \"ARM\", \"AUS\", \"AUT\", \"AZE\", \"BLR\", \"BEL\", \"BMU\", \"BOL\", \"BIH\", \"BRA\", \"BGR\", \"CAN\", \"CHL\", \"CHN\", \"CRI\", \"HRV\", \"CYP\", \"CZE\", \"DNK\", \"EST\", \"FJI\", \"FIN\", \"FRA\", \"GEO\", \"DEU\", \"GRC\", \"HUN\", \"ISL\", \"IND\", \"IRN\", \"IRL\", \"ISR\", \"ITA\", \"JAM\", \"JPN\", \"KAZ\", \"KEN\", \"PRK\", \"KOR\", \"KGZ\", \"LVA\", \"LBN\", \"LIE\", \"LTU\", \"LUX\", \"MKD\", \"MEX\", \"MDA\", \"MCO\", \"MNG\", \"MAR\", \"NPL\", \"NLD\", \"NZL\", \"NOR\", \"PHL\", \"POL\", \"PRT\", \"PRI\", \"ROU\", \"RUS\", \"SMR\", \"SEN\", \"SRB\", \"SVK\", \"SVN\", \"ZAF\", \"ESP\", \"SWE\", \"CHE\", \"TWN\", \"TJK\", \"THA\", \"TTO\", \"TUR\", \"UKR\", \"GBR\", \"USA\", \"UZB\", \"VEN\", \"VGB\"], \"z\": [0.33, 0.25, 0.22, 0.25, 0.3, 0.26, 0.23, 0.42, 0.36, 0.21, 0.0, 0.0, 0.3, 0.26, 0.25, 0.28, 0.12, 0.59, 0.0, 0.29, 0.26, 0.16, 0.28, 0.27, 0.0, 0.17, 0.23, 0.31, 0.26, 0.13, 0.39, 0.18, 0.06, 0.06, 0.19, 0.32, 0.2, 0.0, 0.21, 0.36, 0.0, 0.63, 0.34, 0.25, 0.14, 0.21, 0.18, 0.37, 0.12, 0.27, 0.04, 0.41, 0.09, 0.18, 0.11, 0.0, 0.36, 0.34, 0.19, 0.0, 0.2, 0.14, 0.02, 0.2, 0.3, 0.06, 0.0, 0.19, 0.26, 0.32, 0.29, 0.24, 0.2, 0.21, 0.04, 0.0, 0.17, 0.0, 0.12, 0.45, 0.31, 0.26, 0.51, 0.31, 0.34], \"text\": [\"Albania\", \"Algeria\", \"Andorra\", \"Argentina\", \"Armenia\", \"Australia\", \"Austria\", \"Azerbaijan\", \"Belarus\", \"Belgium\", \"Bermuda\", \"Bolivia\", \"Bosnia and Herzegovina\", \"Brazil\", \"Bulgaria\", \"Canada\", \"Chile\", \"China\", \"Costa Rica\", \"Croatia\", \"Cyprus\", \"Czech Republic\", \"Denmark\", \"Estonia\", \"Fiji\", \"Finland\", \"France\", \"Georgia\", \"Germany\", \"Greece\", \"Hungary\", \"Iceland\", \"India\", \"Iran\", \"Ireland\", \"Israel\", \"Italy\", \"Jamaica\", \"Japan\", \"Kazakhstan\", \"Kenya\", \"Korea, North\", \"Korea, South\", \"Kyrgyzstan\", \"Latvia\", \"Lebanon\", \"Liechtenstein\", \"Lithuania\", \"Luxembourg\", \"Macedonia\", \"Mexico\", \"Moldova\", \"Monaco\", \"Mongolia\", \"Morocco\", \"Nepal\", \"Netherlands\", \"New Zealand\", \"Norway\", \"Philippines\", \"Poland\", \"Portugal\", \"Puerto Rico\", \"Romania\", \"Russia\", \"San Marino\", \"Senegal\", \"Serbia\", \"Slovakia\", \"Slovenia\", \"South Africa\", \"Spain\", \"Sweden\", \"Switzerland\", \"Taiwan\", \"Tajikistan\", \"Thailand\", \"Trinidad and Tobago\", \"Turkey\", \"Ukraine\", \"United Kingdom\", \"United States\", \"Uzbekistan\", \"Venezuela\", \"Virgin Islands\"], \"colorscale\": [[0, \"rgb(5, 10, 172)\"], [0.35, \"rgb(40, 60, 190)\"], [0.5, \"rgb(70, 100, 245)\"], [0.6, \"rgb(90, 120, 245)\"], [0.7, \"rgb(106, 137, 247)\"], [1, \"rgb(220, 220, 220)\"]], \"autocolorscale\": false, \"reversescale\": true, \"marker\": {\"line\": {\"color\": \"rgb(180,180,180)\", \"width\": 0.5}}, \"colorbar\": {\"autotick\": false, \"title\": \"Proportion of female athletes\", \"titlefont\": {\"size\": 15}}}], {\"title\": \"Proportion of Female Athletes in Winter Olympics\", \"titlefont\": {\"size\": 20}, \"geo\": {\"showframe\": false, \"showcoastlines\": false, \"projection\": {\"type\": \"Mercator\"}}}, {\"showLink\": true, \"linkText\": \"Export to plot.ly\"})});</script>"
      ]
     },
     "metadata": {},
     "output_type": "display_data"
    }
   ],
   "source": [
    "data11 = [ dict(\n",
    "        type='choropleth',\n",
    "        locations=df_Winter_stats['CODE'],\n",
    "        z=df_Winter_stats['Female_ratio'],\n",
    "        text=df_Winter_stats.index,\n",
    "        colorscale=[[0,\"rgb(5, 10, 172)\"], [0.35,\"rgb(40, 60, 190)\"], [0.5,\"rgb(70, 100, 245)\"],\\\n",
    "            [0.6,\"rgb(90, 120, 245)\"], [0.7,\"rgb(106, 137, 247)\"], [1,\"rgb(220, 220, 220)\"]],\n",
    "        autocolorscale=False,\n",
    "        reversescale=True,\n",
    "        marker=dict(\n",
    "            line=dict (\n",
    "                color='rgb(180,180,180)',\n",
    "                width=0.5\n",
    "            ) ),\n",
    "        colorbar=dict(\n",
    "            autotick=False,\n",
    "            title='Proportion of female athletes', \n",
    "            titlefont=dict(size=15)),\n",
    "      ) ]\n",
    "\n",
    "layout6 = dict(\n",
    "    title='Proportion of Female Athletes in Winter Olympics', \n",
    "    titlefont=dict(size=20), \n",
    "    geo=dict(\n",
    "        showframe=False,\n",
    "        showcoastlines=False,\n",
    "        projection=dict(\n",
    "            type='Mercator'\n",
    "        )\n",
    "    )\n",
    ")\n",
    "\n",
    "fig6 = dict(data=data11, layout=layout6)\n",
    "plotly.offline.iplot(fig6, validate=False)"
   ]
  },
  {
   "cell_type": "markdown",
   "metadata": {
    "extensions": {
     "jupyter_dashboards": {
      "version": 1,
      "views": {
       "grid_default": {
        "col": 0,
        "height": 4,
        "hidden": false,
        "row": 105,
        "width": 4
       },
       "report_default": {}
      }
     }
    }
   },
   "source": [
    "<b>Winter Olympics</b><br>\n",
    "Countries with the most female representation seem to be North Korea, China, Uzbekistan, Ukraine and Azerbaijan."
   ]
  },
  {
   "cell_type": "markdown",
   "metadata": {
    "extensions": {
     "jupyter_dashboards": {
      "version": 1,
      "views": {
       "grid_default": {
        "col": 0,
        "height": 4,
        "hidden": false,
        "row": 133,
        "width": 12
       },
       "report_default": {}
      }
     }
    }
   },
   "source": [
    "This analysis that looks into the representation of female athletes in Olympic teams has been the most surprising so far. Notwithstanding some outliers due to low participation, these plots most certainly are educational in terms of how female representation is high among certain countries listed above and low or average among some countries that have high social indicators."
   ]
  },
  {
   "cell_type": "markdown",
   "metadata": {
    "extensions": {
     "jupyter_dashboards": {
      "version": 1,
      "views": {
       "grid_default": {
        "col": 0,
        "height": 4,
        "hidden": false,
        "row": 109,
        "width": 4
       },
       "report_default": {}
      }
     }
    }
   },
   "source": [
    "### Analysis 4: Height & Weight distribution by sporting events in Summer & Winter games "
   ]
  },
  {
   "cell_type": "code",
   "execution_count": 24,
   "metadata": {
    "extensions": {
     "jupyter_dashboards": {
      "version": 1,
      "views": {
       "grid_default": {
        "hidden": true
       },
       "report_default": {}
      }
     }
    }
   },
   "outputs": [],
   "source": [
    "## Subset Height and Weight per Sport. Region and Name are considered so that every athlete from each country \n",
    "## is only considered once.\n",
    "## To avoid cluttering, only the most recent Summer and Winter games are considered for this visualization\n",
    "df_htwt = df[(df.Year==2014) | (df.Year==2016)]\n",
    "df_height_summer = df_htwt[(df_htwt.Season == 'Summer')][['region', 'Name', 'Sport', 'Height']].sort_values(\n",
    "    by='Height', ascending=False).drop_duplicates().dropna()\n",
    "df_weight_summer = df_htwt[(df_htwt.Season == 'Summer')][['region', 'Name', 'Sport', 'Weight']].sort_values(\n",
    "    by='Weight', ascending=False).drop_duplicates().dropna()\n",
    "df_height_winter = df_htwt[(df_htwt.Season == 'Winter')][['region', 'Name', 'Sport', 'Height']].sort_values(\n",
    "    by='Height', ascending=False).drop_duplicates().dropna()\n",
    "df_weight_winter = df_htwt[(df_htwt.Season == 'Winter')][['region', 'Name', 'Sport', 'Weight']].sort_values(\n",
    "    by='Weight', ascending=False).drop_duplicates().dropna()"
   ]
  },
  {
   "cell_type": "code",
   "execution_count": 25,
   "metadata": {
    "extensions": {
     "jupyter_dashboards": {
      "version": 1,
      "views": {
       "grid_default": {
        "hidden": true
       },
       "report_default": {}
      }
     }
    }
   },
   "outputs": [],
   "source": [
    "SeasonH = widgets.Dropdown(\n",
    "    options=['All'] + ['Summer', 'Winter'],\n",
    "    value='All',\n",
    "    description='Season:',\n",
    ")"
   ]
  },
  {
   "cell_type": "code",
   "execution_count": 26,
   "metadata": {
    "extensions": {
     "jupyter_dashboards": {
      "version": 1,
      "views": {
       "grid_default": {
        "col": 0,
        "height": 10,
        "hidden": false,
        "row": 137,
        "width": 4
       },
       "report_default": {}
      }
     }
    }
   },
   "outputs": [
    {
     "data": {
      "application/vnd.jupyter.widget-view+json": {
       "model_id": "2c9d5bb73f7d4a9b9116e07b12591fc3",
       "version_major": 2,
       "version_minor": 0
      },
      "text/plain": [
       "interactive(children=(Dropdown(description='Season:', options=('All', 'Summer', 'Winter'), value='All'), Outpu…"
      ]
     },
     "metadata": {},
     "output_type": "display_data"
    }
   ],
   "source": [
    "def plotit(Season):\n",
    "    if Season == 'Summer':\n",
    "        plt.figure(figsize=(15, 12))\n",
    "        sns.boxplot(x=df_height_summer.Height, y=df_height_summer.Sport, data=df_height_summer, color='darkorange')\n",
    "        plt.xlabel('Distribution of height (cms)', fontsize=18, labelpad=16)\n",
    "        plt.ylabel('Sporting Events', fontsize=18, labelpad=16)\n",
    "        plt.title('Distribution of Height by Sport in Summer Olympics ', fontsize=20, y=1.015);\n",
    "    else:\n",
    "        plt.figure(figsize=(15, 8))\n",
    "        sns.boxplot(x=df_height_winter.Height, y=df_height_winter.Sport, data=df_height_winter, color='dodgerblue')\n",
    "        plt.xlabel('Distribution of height (cms)', fontsize=18, labelpad=16)\n",
    "        plt.ylabel('Sporting Events', fontsize=18, labelpad=16)\n",
    "        plt.title('Distribution of Height by Sport in Winter Olympics ', fontsize=20, y=1.015);\n",
    "        \n",
    "interactive(plotit, Season=SeasonH)"
   ]
  },
  {
   "cell_type": "markdown",
   "metadata": {
    "extensions": {
     "jupyter_dashboards": {
      "version": 1,
      "views": {
       "grid_default": {
        "col": 0,
        "height": 6,
        "hidden": false,
        "row": 147,
        "width": 12
       },
       "report_default": {}
      }
     }
    }
   },
   "source": [
    "<b>Summer Olympics</b><br>\n",
    "Based on median values, the tallest athletes play Basketball, which is not surprising.Volleyball players are next in line. However, when we look at the range, it seems that there are a lot of tall athletes who are a part of Handball, Beach Volleyball and Rowing teams.\n",
    "Also, based on median values the shortest athletes are Synchronized swimmers and Gymnasts. Based on the range, Weightlifting and Athletics teams have a lot of short athletes as well.\n",
    "\n",
    "<b>Winter Olympics</b><br>\n",
    "Bobsleigh teams have the tallest athletes on average followed by Ice Hockey teams.The shortest athletes are from the Figure Skating team."
   ]
  },
  {
   "cell_type": "code",
   "execution_count": 27,
   "metadata": {
    "extensions": {
     "jupyter_dashboards": {
      "version": 1,
      "views": {
       "grid_default": {
        "hidden": true
       },
       "report_default": {}
      }
     }
    }
   },
   "outputs": [],
   "source": [
    "SeasonW = widgets.Dropdown(\n",
    "    options=['All'] + ['Summer', 'Winter'],\n",
    "    value='All',\n",
    "    description='Season:',\n",
    ")"
   ]
  },
  {
   "cell_type": "code",
   "execution_count": 28,
   "metadata": {
    "extensions": {
     "jupyter_dashboards": {
      "version": 1,
      "views": {
       "grid_default": {
        "col": 4,
        "height": 10,
        "hidden": false,
        "row": 137,
        "width": 4
       },
       "report_default": {}
      }
     }
    }
   },
   "outputs": [
    {
     "data": {
      "application/vnd.jupyter.widget-view+json": {
       "model_id": "d7c70f25dcd149b5babc9bec9193c99d",
       "version_major": 2,
       "version_minor": 0
      },
      "text/plain": [
       "interactive(children=(Dropdown(description='Season:', options=('All', 'Summer', 'Winter'), value='All'), Outpu…"
      ]
     },
     "metadata": {},
     "output_type": "display_data"
    }
   ],
   "source": [
    "def plotit(Season):\n",
    "    if Season == 'Summer':\n",
    "        plt.figure(figsize=(15, 12))\n",
    "        sns.boxplot(x=df_weight_summer.Weight, y=df_weight_summer.Sport, data=df_weight_summer, color='darkorange')\n",
    "        plt.xlabel('Distribution of weight (kgs)', fontsize=18, labelpad=16)\n",
    "        plt.ylabel('Sporting Events', fontsize=18, labelpad=16)\n",
    "        plt.title('Distribution of Weight by Sport in Summer Olympics ', fontsize=20, y=1.015);\n",
    "    else:\n",
    "        plt.figure(figsize=(15, 8))\n",
    "        sns.boxplot(x=df_weight_winter.Weight, y=df_weight_winter.Sport, data=df_weight_winter, color='dodgerblue')\n",
    "        plt.xlabel('Distribution of weight (kgs)', fontsize=18, labelpad=16)\n",
    "        plt.ylabel('Sporting Events', fontsize=18, labelpad=16)\n",
    "        plt.title('Distribution of Weight by Sport in Winter Olympics ', fontsize=20, y=1.015);\n",
    "        \n",
    "interactive(plotit, Season=SeasonW)"
   ]
  },
  {
   "cell_type": "markdown",
   "metadata": {
    "extensions": {
     "jupyter_dashboards": {
      "version": 1,
      "views": {
       "grid_default": {
        "col": 0,
        "height": 6,
        "hidden": false,
        "row": 153,
        "width": 12
       },
       "report_default": {}
      }
     }
    }
   },
   "source": [
    "<b>Summer Olympics</b><br>\n",
    "On an average the heaviest athletes are from Water Polo teams. Basketball and Handball players are not far behind. The outliers however tell a completely different story. Judo, Weightlifting and Athletics teams all have players who are on the heavier side. \n",
    "Synchronized swimmers and gymnasts on an average are lighter than athletes who play other sports. \n",
    "\n",
    "<b>Winter Olympics</b><br>\n",
    "Again, Bobsleigh teams have the heaviest athletes on average followed by Ice Hockey teams.Figure skaters are relatively lighter when compared to athletes from other teams."
   ]
  },
  {
   "cell_type": "markdown",
   "metadata": {
    "extensions": {
     "jupyter_dashboards": {
      "version": 1,
      "views": {
       "grid_default": {
        "col": 0,
        "height": 4,
        "hidden": false,
        "row": 159,
        "width": 12
       },
       "report_default": {}
      }
     }
    }
   },
   "source": [
    "The distribution definitely points towards the fact that athletes who play certain sports like Basketball, Handball, Bobsleighing and Ice Hockey tend to be bigger in size than the rest. On the other hand Gymnasts, Synchronized swimmers and Figure skaters tend to be shorter and lighter."
   ]
  }
 ],
 "metadata": {
  "extensions": {
   "jupyter_dashboards": {
    "activeView": "grid_default",
    "version": 1,
    "views": {
     "grid_default": {
      "cellMargin": 10,
      "defaultCellHeight": 20,
      "maxColumns": 12,
      "name": "grid",
      "type": "grid"
     },
     "report_default": {
      "name": "report",
      "type": "report"
     }
    }
   }
  },
  "kernelspec": {
   "display_name": "Python 3",
   "language": "python",
   "name": "python3"
  },
  "language_info": {
   "codemirror_mode": {
    "name": "ipython",
    "version": 3
   },
   "file_extension": ".py",
   "mimetype": "text/x-python",
   "name": "python",
   "nbconvert_exporter": "python",
   "pygments_lexer": "ipython3",
   "version": "3.6.5"
  }
 },
 "nbformat": 4,
 "nbformat_minor": 2
}
