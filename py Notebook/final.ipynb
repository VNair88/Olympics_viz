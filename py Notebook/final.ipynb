{
 "cells": [
  {
   "cell_type": "code",
   "execution_count": 1,
   "metadata": {
    "extensions": {
     "jupyter_dashboards": {
      "version": 1,
      "views": {
       "grid_default": {
        "hidden": true
       },
       "report_default": {}
      }
     }
    }
   },
   "outputs": [],
   "source": [
    "import pandas as pd \n",
    "import seaborn as sns\n",
    "import matplotlib.pyplot as plt\n",
    "import matplotlib.ticker as tick\n",
    "import plotly\n",
    "from plotly import tools\n",
    "import plotly.plotly as py\n",
    "import plotly.figure_factory as ff\n",
    "import plotly.graph_objs as go\n",
    "from plotly.offline import download_plotlyjs, init_notebook_mode, plot, iplot\n",
    "% matplotlib inline"
   ]
  },
  {
   "cell_type": "code",
   "execution_count": 2,
   "metadata": {
    "extensions": {
     "jupyter_dashboards": {
      "version": 1,
      "views": {
       "grid_default": {
        "hidden": true
       },
       "report_default": {}
      }
     }
    }
   },
   "outputs": [],
   "source": [
    "import warnings\n",
    "warnings.filterwarnings(\"ignore\", category=DeprecationWarning) "
   ]
  },
  {
   "cell_type": "code",
   "execution_count": 3,
   "metadata": {
    "extensions": {
     "jupyter_dashboards": {
      "version": 1,
      "views": {
       "grid_default": {
        "hidden": true
       },
       "report_default": {}
      }
     }
    }
   },
   "outputs": [],
   "source": [
    "pd.set_option('display.max_rows', 500)"
   ]
  },
  {
   "cell_type": "code",
   "execution_count": 4,
   "metadata": {
    "extensions": {
     "jupyter_dashboards": {
      "version": 1,
      "views": {
       "grid_default": {
        "hidden": true
       },
       "report_default": {}
      }
     }
    }
   },
   "outputs": [],
   "source": [
    "sns.set_context('talk')\n",
    "sns.set_style(style='darkgrid')"
   ]
  },
  {
   "cell_type": "markdown",
   "metadata": {
    "extensions": {
     "jupyter_dashboards": {
      "version": 1,
      "views": {
       "grid_default": {
        "col": 0,
        "height": 8,
        "hidden": false,
        "row": 0,
        "width": 12
       },
       "report_default": {}
      }
     }
    }
   },
   "source": [
    "## Background \n",
    "The Olympics are considered to be the world's biggest sports competition. The Olympics consist of Winter and Summer games. \n",
    "These seasonal events vary greatly and the following analysis hopes to uncover similarities and differences between the two. The topics analyzed are : \n",
    "1. How participation in these events has changed over time. \n",
    "2. Best performers in Summer and Winter games. \n",
    "3. How does representation of female athletes across countries differ in Summer and Winter games.\n",
    "4. How do athletes who participate in various Summer and Winter games differ physically. "
   ]
  },
  {
   "cell_type": "markdown",
   "metadata": {
    "extensions": {
     "jupyter_dashboards": {
      "version": 1,
      "views": {
       "grid_default": {
        "col": 0,
        "height": 4,
        "hidden": false,
        "row": 8,
        "width": 4
       },
       "report_default": {}
      }
     }
    }
   },
   "source": [
    "## Table of contents"
   ]
  },
  {
   "cell_type": "markdown",
   "metadata": {
    "extensions": {
     "jupyter_dashboards": {
      "version": 1,
      "views": {
       "grid_default": {
        "col": 0,
        "height": 6,
        "hidden": false,
        "row": 12,
        "width": 12
       },
       "report_default": {}
      }
     }
    }
   },
   "source": [
    "1. [Data cleaning](#Data-loading-and-cleaning)<br>\n",
    "2. [Analysis](#Analysis)<br>\n",
    "    2.1 [Participation in Summer and Winter Olympics](#Analysis-1:-Participation-over-years-in-Summer-and-Winter-Olympics)<br>\n",
    "    2.2 [Top performers in Summer and Winter Olympics](#Analysis-2:-Top-performers-measured-by-total-tally-of-medals-and-by-average-medals-won-per-year)<br>\n",
    "    2.3 [Representation of female athletes in Summer and Winter Olympics](#Analysis-3:-Representation-in-national-teams-in-Summer-&-Winter-Olympics)<br>\n",
    "    2.4 [Comparison of Height & Weight of athletes in Summer and Winter Olympics](#Analysis-4:-Average-Height-&-Weight-of-athletes-by-sporting-event-in-Summer-&-Winter-games)<br>"
   ]
  },
  {
   "cell_type": "markdown",
   "metadata": {
    "extensions": {
     "jupyter_dashboards": {
      "version": 1,
      "views": {
       "grid_default": {
        "col": 4,
        "height": 4,
        "hidden": false,
        "row": 8,
        "width": 4
       },
       "report_default": {}
      }
     }
    }
   },
   "source": [
    "## Data loading and cleaning"
   ]
  },
  {
   "cell_type": "markdown",
   "metadata": {
    "extensions": {
     "jupyter_dashboards": {
      "version": 1,
      "views": {
       "grid_default": {
        "col": 0,
        "height": 5,
        "hidden": false,
        "row": 18,
        "width": 12
       },
       "report_default": {}
      }
     }
    }
   },
   "source": [
    "Dataset read - \n",
    "- athlete_csv : A dataset containing information about athletes from various national teams by Year. Dataset also contains information like Sex, Age, Summer/Winter game, Sport, Medal etc.\n",
    "- noc.csv - A dataset that connects NOCs (National Olympic Committees) to Countries"
   ]
  },
  {
   "cell_type": "code",
   "execution_count": 5,
   "metadata": {
    "extensions": {
     "jupyter_dashboards": {
      "version": 1,
      "views": {
       "grid_default": {
        "hidden": true
       },
       "report_default": {}
      }
     }
    }
   },
   "outputs": [],
   "source": [
    "athletes = pd.read_csv('athlete_events.csv')\n",
    "noc = pd.read_csv('noc_regions.csv')"
   ]
  },
  {
   "cell_type": "markdown",
   "metadata": {
    "extensions": {
     "jupyter_dashboards": {
      "version": 1,
      "views": {
       "grid_default": {
        "col": 8,
        "height": 4,
        "hidden": false,
        "row": 8,
        "width": 4
       },
       "report_default": {}
      }
     }
    }
   },
   "source": [
    "Merge the two datasets."
   ]
  },
  {
   "cell_type": "code",
   "execution_count": 6,
   "metadata": {
    "extensions": {
     "jupyter_dashboards": {
      "version": 1,
      "views": {
       "grid_default": {
        "hidden": true
       },
       "report_default": {}
      }
     }
    }
   },
   "outputs": [],
   "source": [
    "df = athletes.merge(noc, on='NOC')"
   ]
  },
  {
   "cell_type": "code",
   "execution_count": 7,
   "metadata": {
    "extensions": {
     "jupyter_dashboards": {
      "version": 1,
      "views": {
       "grid_default": {
        "col": 0,
        "height": 8,
        "hidden": false,
        "row": 23,
        "width": 10
       },
       "report_default": {}
      }
     }
    }
   },
   "outputs": [
    {
     "data": {
      "text/html": [
       "<div>\n",
       "<style scoped>\n",
       "    .dataframe tbody tr th:only-of-type {\n",
       "        vertical-align: middle;\n",
       "    }\n",
       "\n",
       "    .dataframe tbody tr th {\n",
       "        vertical-align: top;\n",
       "    }\n",
       "\n",
       "    .dataframe thead th {\n",
       "        text-align: right;\n",
       "    }\n",
       "</style>\n",
       "<table border=\"1\" class=\"dataframe\">\n",
       "  <thead>\n",
       "    <tr style=\"text-align: right;\">\n",
       "      <th></th>\n",
       "      <th>ID</th>\n",
       "      <th>Name</th>\n",
       "      <th>Sex</th>\n",
       "      <th>Age</th>\n",
       "      <th>Height</th>\n",
       "      <th>Weight</th>\n",
       "      <th>Team</th>\n",
       "      <th>NOC</th>\n",
       "      <th>Games</th>\n",
       "      <th>Year</th>\n",
       "      <th>Season</th>\n",
       "      <th>City</th>\n",
       "      <th>Sport</th>\n",
       "      <th>Event</th>\n",
       "      <th>Medal</th>\n",
       "      <th>region</th>\n",
       "      <th>notes</th>\n",
       "    </tr>\n",
       "  </thead>\n",
       "  <tbody>\n",
       "    <tr>\n",
       "      <th>0</th>\n",
       "      <td>1</td>\n",
       "      <td>A Dijiang</td>\n",
       "      <td>M</td>\n",
       "      <td>24.0</td>\n",
       "      <td>180.0</td>\n",
       "      <td>80.0</td>\n",
       "      <td>China</td>\n",
       "      <td>CHN</td>\n",
       "      <td>1992 Summer</td>\n",
       "      <td>1992</td>\n",
       "      <td>Summer</td>\n",
       "      <td>Barcelona</td>\n",
       "      <td>Basketball</td>\n",
       "      <td>Basketball Men's Basketball</td>\n",
       "      <td>NaN</td>\n",
       "      <td>China</td>\n",
       "      <td>NaN</td>\n",
       "    </tr>\n",
       "    <tr>\n",
       "      <th>1</th>\n",
       "      <td>2</td>\n",
       "      <td>A Lamusi</td>\n",
       "      <td>M</td>\n",
       "      <td>23.0</td>\n",
       "      <td>170.0</td>\n",
       "      <td>60.0</td>\n",
       "      <td>China</td>\n",
       "      <td>CHN</td>\n",
       "      <td>2012 Summer</td>\n",
       "      <td>2012</td>\n",
       "      <td>Summer</td>\n",
       "      <td>London</td>\n",
       "      <td>Judo</td>\n",
       "      <td>Judo Men's Extra-Lightweight</td>\n",
       "      <td>NaN</td>\n",
       "      <td>China</td>\n",
       "      <td>NaN</td>\n",
       "    </tr>\n",
       "    <tr>\n",
       "      <th>2</th>\n",
       "      <td>602</td>\n",
       "      <td>Abudoureheman</td>\n",
       "      <td>M</td>\n",
       "      <td>22.0</td>\n",
       "      <td>182.0</td>\n",
       "      <td>75.0</td>\n",
       "      <td>China</td>\n",
       "      <td>CHN</td>\n",
       "      <td>2000 Summer</td>\n",
       "      <td>2000</td>\n",
       "      <td>Summer</td>\n",
       "      <td>Sydney</td>\n",
       "      <td>Boxing</td>\n",
       "      <td>Boxing Men's Middleweight</td>\n",
       "      <td>NaN</td>\n",
       "      <td>China</td>\n",
       "      <td>NaN</td>\n",
       "    </tr>\n",
       "  </tbody>\n",
       "</table>\n",
       "</div>"
      ],
      "text/plain": [
       "    ID           Name Sex   Age  Height  Weight   Team  NOC        Games  \\\n",
       "0    1      A Dijiang   M  24.0   180.0    80.0  China  CHN  1992 Summer   \n",
       "1    2       A Lamusi   M  23.0   170.0    60.0  China  CHN  2012 Summer   \n",
       "2  602  Abudoureheman   M  22.0   182.0    75.0  China  CHN  2000 Summer   \n",
       "\n",
       "   Year  Season       City       Sport                         Event Medal  \\\n",
       "0  1992  Summer  Barcelona  Basketball   Basketball Men's Basketball   NaN   \n",
       "1  2012  Summer     London        Judo  Judo Men's Extra-Lightweight   NaN   \n",
       "2  2000  Summer     Sydney      Boxing     Boxing Men's Middleweight   NaN   \n",
       "\n",
       "  region notes  \n",
       "0  China   NaN  \n",
       "1  China   NaN  \n",
       "2  China   NaN  "
      ]
     },
     "execution_count": 7,
     "metadata": {},
     "output_type": "execute_result"
    }
   ],
   "source": [
    "df.head(3)"
   ]
  },
  {
   "cell_type": "markdown",
   "metadata": {
    "extensions": {
     "jupyter_dashboards": {
      "version": 1,
      "views": {
       "grid_default": {
        "col": 0,
        "height": 4,
        "hidden": false,
        "row": 31,
        "width": 4
       },
       "report_default": {}
      }
     }
    }
   },
   "source": [
    "## Analysis"
   ]
  },
  {
   "cell_type": "markdown",
   "metadata": {
    "extensions": {
     "jupyter_dashboards": {
      "version": 1,
      "views": {
       "grid_default": {
        "col": 4,
        "height": 4,
        "hidden": false,
        "row": 31,
        "width": 4
       },
       "report_default": {}
      }
     }
    }
   },
   "source": [
    "### Analysis 1: Participation over years in Summer and Winter Olympics"
   ]
  },
  {
   "cell_type": "markdown",
   "metadata": {
    "extensions": {
     "jupyter_dashboards": {
      "version": 1,
      "views": {
       "grid_default": {
        "col": 8,
        "height": 4,
        "hidden": false,
        "row": 31,
        "width": 4
       },
       "report_default": {}
      }
     }
    }
   },
   "source": [
    "Function to return unique number of participating countries per Olympic year."
   ]
  },
  {
   "cell_type": "code",
   "execution_count": 8,
   "metadata": {
    "extensions": {
     "jupyter_dashboards": {
      "version": 1,
      "views": {
       "grid_default": {
        "hidden": true
       },
       "report_default": {}
      }
     }
    }
   },
   "outputs": [],
   "source": [
    "def NOC(x):\n",
    "    NOC_list = x.NOC.unique()\n",
    "    return(len(NOC_list))"
   ]
  },
  {
   "cell_type": "markdown",
   "metadata": {
    "extensions": {
     "jupyter_dashboards": {
      "version": 1,
      "views": {
       "grid_default": {
        "col": 0,
        "height": 4,
        "hidden": false,
        "row": 35,
        "width": 4
       },
       "report_default": {}
      }
     }
    }
   },
   "source": [
    "Generate dataframe with number of participating countries for each year Summer Olympics was held."
   ]
  },
  {
   "cell_type": "code",
   "execution_count": 9,
   "metadata": {
    "extensions": {
     "jupyter_dashboards": {
      "version": 1,
      "views": {
       "grid_default": {
        "hidden": true
       },
       "report_default": {}
      }
     }
    }
   },
   "outputs": [],
   "source": [
    "df2 = df[(df.Season == 'Summer')].groupby('Year').apply(lambda x: NOC(x)).reset_index().rename(columns={0:'NOC'})\n",
    "\n",
    "dataformat = {'x':[1896, 1904, 1948, 1952, 1976, 1980, 2016], 'y':[12, 15, 58, 68, 91, 80, 206], \n",
    "                         'text':['1896<br>12 participting teams', '1904<br>Absent:<br>Russia<br>Japan', \n",
    "                                 '1948<br>Debut:<br>Iran<br>Venezuela<br><br>Absent:<br>Germany<br>Japan', \n",
    "                                 '1952<br>Debut:<br>USSR', '1976<br>Absent:<br>Egypt<br>Nigeria<br>Kenya',\n",
    "                                 '1980<br>Absent:<br>United States<br>Japan<br>Canada', \n",
    "                                 '2016<br>206 participating teams']}\n",
    "df_format = pd.DataFrame(data = dataformat)\n",
    "\n",
    "df3 = df2.merge(df_format, how='left', left_on='Year', right_on='x')\n",
    "df3.drop(columns=['x', 'y'], inplace=True)\n",
    "df3.loc[df3.text.isna(), 'text'] = ''"
   ]
  },
  {
   "cell_type": "markdown",
   "metadata": {
    "extensions": {
     "jupyter_dashboards": {
      "version": 1,
      "views": {
       "grid_default": {
        "col": 4,
        "height": 4,
        "hidden": false,
        "row": 35,
        "width": 4
       },
       "report_default": {}
      }
     }
    }
   },
   "source": [
    "Generate dataframe with number of participating countries for each year Winter Olympics was held."
   ]
  },
  {
   "cell_type": "code",
   "execution_count": 10,
   "metadata": {
    "extensions": {
     "jupyter_dashboards": {
      "version": 1,
      "views": {
       "grid_default": {
        "hidden": true
       },
       "report_default": {}
      }
     }
    }
   },
   "outputs": [],
   "source": [
    "df4 = df[(df.Season == 'Winter')].groupby('Year').apply(lambda x: NOC(x)).reset_index().rename(columns ={0:'NOC'})\n",
    "\n",
    "dataformat2 = {'x':[1924, 1948, 1952, 1956, 2014], 'y':[19, 28, 30, 32, 89], \n",
    "                         'text':['1924<br>19 participting teams',  \n",
    "                                 '1948<br>Debut:<br>Denmark<br>Korea<br><br>Absent:<br>Germany<br>Japan', \n",
    "                                 '1952<br>Debut:<br>Portugal<br>New Zealand', '1956<br>Debut:<br>USSR',\n",
    "                                 '2014<br>89 participating teams']}\n",
    "df_format2 = pd.DataFrame(data = dataformat2)\n",
    "\n",
    "df5 = df4.merge(df_format2, how='left', left_on='Year', right_on='x')\n",
    "df5.drop(columns=['x', 'y'], inplace=True)\n",
    "df5.loc[df5.text.isna(), 'text'] = ''"
   ]
  },
  {
   "cell_type": "code",
   "execution_count": 11,
   "metadata": {
    "extensions": {
     "jupyter_dashboards": {
      "version": 1,
      "views": {
       "grid_default": {
        "col": 8,
        "height": 18,
        "hidden": false,
        "row": 35,
        "width": null
       },
       "report_default": {}
      }
     }
    }
   },
   "outputs": [
    {
     "data": {
      "text/html": [
       "<script>requirejs.config({paths: { 'plotly': ['https://cdn.plot.ly/plotly-latest.min']},});if(!window.Plotly) {{require(['plotly'],function(plotly) {window.Plotly=plotly;});}}</script>"
      ],
      "text/vnd.plotly.v1+html": [
       "<script>requirejs.config({paths: { 'plotly': ['https://cdn.plot.ly/plotly-latest.min']},});if(!window.Plotly) {{require(['plotly'],function(plotly) {window.Plotly=plotly;});}}</script>"
      ]
     },
     "metadata": {},
     "output_type": "display_data"
    },
    {
     "data": {
      "application/vnd.plotly.v1+json": {
       "data": [
        {
         "hoverinfo": "text",
         "marker": {
          "color": "#ff8000"
         },
         "name": "Summer",
         "showlegend": false,
         "text": [
          "1896<br>12 participting teams",
          "",
          "1904<br>Absent:<br>Russia<br>Japan",
          "",
          "",
          "",
          "",
          "",
          "",
          "",
          "",
          "1948<br>Debut:<br>Iran<br>Venezuela<br><br>Absent:<br>Germany<br>Japan",
          "1952<br>Debut:<br>USSR",
          "",
          "",
          "",
          "",
          "",
          "1976<br>Absent:<br>Egypt<br>Nigeria<br>Kenya",
          "1980<br>Absent:<br>United States<br>Japan<br>Canada",
          "",
          "",
          "",
          "",
          "",
          "",
          "",
          "",
          "2016<br>206 participating teams"
         ],
         "type": "bar",
         "uid": "2596cbe8-b51b-11e8-a3d3-d2577b2f97ca",
         "x": [
          1896,
          1900,
          1904,
          1906,
          1908,
          1912,
          1920,
          1924,
          1928,
          1932,
          1936,
          1948,
          1952,
          1956,
          1960,
          1964,
          1968,
          1972,
          1976,
          1980,
          1984,
          1988,
          1992,
          1996,
          2000,
          2004,
          2008,
          2012,
          2016
         ],
         "y": [
          12,
          31,
          15,
          21,
          22,
          29,
          29,
          45,
          46,
          47,
          49,
          58,
          68,
          71,
          83,
          93,
          111,
          120,
          91,
          80,
          139,
          158,
          168,
          196,
          199,
          200,
          203,
          204,
          206
         ]
        },
        {
         "hoverinfo": "text",
         "marker": {
          "color": "#3399ff"
         },
         "name": "Winter",
         "showlegend": false,
         "text": [
          "1924<br>19 participting teams",
          "",
          "",
          "",
          "1948<br>Debut:<br>Denmark<br>Korea<br><br>Absent:<br>Germany<br>Japan",
          "1952<br>Debut:<br>Portugal<br>New Zealand",
          "1956<br>Debut:<br>USSR",
          "",
          "",
          "",
          "",
          "",
          "",
          "",
          "",
          "",
          "",
          "",
          "",
          "",
          "",
          "2014<br>89 participating teams"
         ],
         "type": "bar",
         "uid": "2596cbe9-b51b-11e8-a59f-d2577b2f97ca",
         "x": [
          1924,
          1928,
          1932,
          1936,
          1948,
          1952,
          1956,
          1960,
          1964,
          1968,
          1972,
          1976,
          1980,
          1984,
          1988,
          1992,
          1994,
          1998,
          2002,
          2006,
          2010,
          2014
         ],
         "y": [
          19,
          25,
          17,
          28,
          28,
          30,
          32,
          30,
          36,
          37,
          35,
          37,
          37,
          49,
          57,
          64,
          67,
          72,
          77,
          79,
          82,
          89
         ]
        }
       ],
       "layout": {
        "height": 500,
        "showlegend": false,
        "updatemenus": [
         {
          "active": -1,
          "buttons": [
           {
            "args": [
             {
              "visible": [
               true,
               false
              ]
             },
             {
              "annotations": [
               {
                "align": "center",
                "arrowwidth": 2,
                "ax": 1,
                "ay": -200,
                "bgcolor": "#fbfcfc",
                "bordercolor": "red",
                "borderpad": 0,
                "borderwidth": 0,
                "font": {
                 "color": "#34495e",
                 "size": 15
                },
                "opacity": 0.8,
                "text": "Russo-Japanese War",
                "x": 1904,
                "xref": "x",
                "y": 15,
                "yref": "y"
               },
               {
                "align": "center",
                "arrowwidth": 2,
                "ax": 1,
                "ay": -180,
                "bgcolor": "#fbfcfc",
                "bordercolor": "red",
                "borderpad": 0,
                "borderwidth": 0,
                "font": {
                 "color": "#34495e",
                 "size": 15
                },
                "opacity": 0.8,
                "text": "World War I",
                "x": 1914,
                "xref": "x",
                "y": 0,
                "yref": "y"
               },
               {
                "align": "center",
                "arrowwidth": 2,
                "ax": 1,
                "ay": -180,
                "bgcolor": "#fbfcfc",
                "bordercolor": "red",
                "borderpad": 0,
                "borderwidth": 0,
                "font": {
                 "color": "#34495e",
                 "size": 15
                },
                "opacity": 0.8,
                "text": "World War II",
                "x": 1940,
                "xref": "x",
                "y": 0,
                "yref": "y"
               },
               {
                "align": "center",
                "arrowwidth": 2,
                "ax": 1,
                "ay": -200,
                "bgcolor": "#fbfcfc",
                "bordercolor": "red",
                "borderpad": 0,
                "borderwidth": 0,
                "font": {
                 "color": "#34495e",
                 "size": 15
                },
                "opacity": 0.8,
                "text": "Soviet invasion of Afghanistan",
                "x": 1980,
                "xref": "x",
                "y": 80,
                "yref": "y"
               }
              ],
              "title": "Participation in Summer Olympics",
              "titlefont": {
               "size": 20
              }
             }
            ],
            "label": "Summer",
            "method": "update"
           },
           {
            "args": [
             {
              "visible": [
               false,
               true
              ]
             },
             {
              "annotations": [
               {
                "align": "center",
                "arrowwidth": 2,
                "ax": 1,
                "ay": -180,
                "bgcolor": "#fbfcfc",
                "bordercolor": "blue",
                "borderpad": 0,
                "borderwidth": 0,
                "font": {
                 "color": "#34495e",
                 "size": 15
                },
                "opacity": 0.8,
                "text": "World War II",
                "x": 1940,
                "xref": "x",
                "y": 0,
                "yref": "y"
               },
               {
                "align": "center",
                "arrowwidth": 2,
                "ax": 1,
                "ay": -200,
                "bgcolor": "#fbfcfc",
                "bordercolor": "blue",
                "borderpad": 0,
                "borderwidth": 0,
                "font": {
                 "color": "#34495e",
                 "size": 15
                },
                "opacity": 0.8,
                "text": "Summer and Winter games seperated",
                "x": 1994,
                "xref": "x",
                "y": 67,
                "yref": "y"
               }
              ],
              "title": "Participation in Winter Olympics",
              "titlefont": {
               "size": 20
              }
             }
            ],
            "label": "Winter",
            "method": "update"
           }
          ]
         }
        ],
        "width": 1000,
        "xaxis": {
         "dtick": 4,
         "showticklabels": true,
         "tickfont": {
          "color": "black",
          "size": 15
         },
         "title": "Year",
         "titlefont": {
          "size": 18
         }
        },
        "yaxis": {
         "showticklabels": true,
         "tickfont": {
          "color": "black",
          "size": 15
         },
         "title": "Count of countries",
         "titlefont": {
          "size": 18
         }
        }
       }
      },
      "text/html": [
       "<div id=\"f217e7c9-49ac-43da-a165-1f2cf155398c\" style=\"height: 500px; width: 1000px;\" class=\"plotly-graph-div\"></div><script type=\"text/javascript\">require([\"plotly\"], function(Plotly) { window.PLOTLYENV=window.PLOTLYENV || {};window.PLOTLYENV.BASE_URL=\"https://plot.ly\";\n",
       "        Plotly.plot(\n",
       "            'f217e7c9-49ac-43da-a165-1f2cf155398c',\n",
       "            [{\"hoverinfo\": \"text\", \"marker\": {\"color\": \"#ff8000\"}, \"name\": \"Summer\", \"showlegend\": false, \"text\": [\"1896<br>12 participting teams\", \"\", \"1904<br>Absent:<br>Russia<br>Japan\", \"\", \"\", \"\", \"\", \"\", \"\", \"\", \"\", \"1948<br>Debut:<br>Iran<br>Venezuela<br><br>Absent:<br>Germany<br>Japan\", \"1952<br>Debut:<br>USSR\", \"\", \"\", \"\", \"\", \"\", \"1976<br>Absent:<br>Egypt<br>Nigeria<br>Kenya\", \"1980<br>Absent:<br>United States<br>Japan<br>Canada\", \"\", \"\", \"\", \"\", \"\", \"\", \"\", \"\", \"2016<br>206 participating teams\"], \"x\": [1896.0, 1900.0, 1904.0, 1906.0, 1908.0, 1912.0, 1920.0, 1924.0, 1928.0, 1932.0, 1936.0, 1948.0, 1952.0, 1956.0, 1960.0, 1964.0, 1968.0, 1972.0, 1976.0, 1980.0, 1984.0, 1988.0, 1992.0, 1996.0, 2000.0, 2004.0, 2008.0, 2012.0, 2016.0], \"y\": [12.0, 31.0, 15.0, 21.0, 22.0, 29.0, 29.0, 45.0, 46.0, 47.0, 49.0, 58.0, 68.0, 71.0, 83.0, 93.0, 111.0, 120.0, 91.0, 80.0, 139.0, 158.0, 168.0, 196.0, 199.0, 200.0, 203.0, 204.0, 206.0], \"type\": \"bar\", \"uid\": \"2596cbe8-b51b-11e8-a3d3-d2577b2f97ca\"}, {\"hoverinfo\": \"text\", \"marker\": {\"color\": \"#3399ff\"}, \"name\": \"Winter\", \"showlegend\": false, \"text\": [\"1924<br>19 participting teams\", \"\", \"\", \"\", \"1948<br>Debut:<br>Denmark<br>Korea<br><br>Absent:<br>Germany<br>Japan\", \"1952<br>Debut:<br>Portugal<br>New Zealand\", \"1956<br>Debut:<br>USSR\", \"\", \"\", \"\", \"\", \"\", \"\", \"\", \"\", \"\", \"\", \"\", \"\", \"\", \"\", \"2014<br>89 participating teams\"], \"x\": [1924.0, 1928.0, 1932.0, 1936.0, 1948.0, 1952.0, 1956.0, 1960.0, 1964.0, 1968.0, 1972.0, 1976.0, 1980.0, 1984.0, 1988.0, 1992.0, 1994.0, 1998.0, 2002.0, 2006.0, 2010.0, 2014.0], \"y\": [19.0, 25.0, 17.0, 28.0, 28.0, 30.0, 32.0, 30.0, 36.0, 37.0, 35.0, 37.0, 37.0, 49.0, 57.0, 64.0, 67.0, 72.0, 77.0, 79.0, 82.0, 89.0], \"type\": \"bar\", \"uid\": \"2596cbe9-b51b-11e8-a59f-d2577b2f97ca\"}],\n",
       "            {\"height\": 500, \"showlegend\": false, \"updatemenus\": [{\"active\": -1, \"buttons\": [{\"args\": [{\"visible\": [true, false]}, {\"title\": \"Participation in Summer Olympics\", \"annotations\": [{\"x\": 1904, \"y\": 15, \"xref\": \"x\", \"yref\": \"y\", \"text\": \"Russo-Japanese War\", \"ax\": 1, \"ay\": -200, \"font\": {\"size\": 15, \"color\": \"#34495e\"}, \"align\": \"center\", \"arrowwidth\": 2, \"bordercolor\": \"red\", \"borderwidth\": 0, \"borderpad\": 0, \"bgcolor\": \"#fbfcfc\", \"opacity\": 0.8}, {\"x\": 1914, \"y\": 0, \"xref\": \"x\", \"yref\": \"y\", \"text\": \"World War I\", \"ax\": 1, \"ay\": -180, \"font\": {\"size\": 15, \"color\": \"#34495e\"}, \"align\": \"center\", \"arrowwidth\": 2, \"bordercolor\": \"red\", \"borderwidth\": 0, \"borderpad\": 0, \"bgcolor\": \"#fbfcfc\", \"opacity\": 0.8}, {\"x\": 1940, \"y\": 0, \"xref\": \"x\", \"yref\": \"y\", \"text\": \"World War II\", \"ax\": 1, \"ay\": -180, \"font\": {\"size\": 15, \"color\": \"#34495e\"}, \"align\": \"center\", \"arrowwidth\": 2, \"bordercolor\": \"red\", \"borderwidth\": 0, \"borderpad\": 0, \"bgcolor\": \"#fbfcfc\", \"opacity\": 0.8}, {\"x\": 1980, \"y\": 80, \"xref\": \"x\", \"yref\": \"y\", \"text\": \"Soviet invasion of Afghanistan\", \"ax\": 1, \"ay\": -200, \"font\": {\"size\": 15, \"color\": \"#34495e\"}, \"align\": \"center\", \"arrowwidth\": 2, \"bordercolor\": \"red\", \"borderwidth\": 0, \"borderpad\": 0, \"bgcolor\": \"#fbfcfc\", \"opacity\": 0.8}], \"titlefont\": {\"size\": 20}}], \"label\": \"Summer\", \"method\": \"update\"}, {\"args\": [{\"visible\": [false, true]}, {\"title\": \"Participation in Winter Olympics\", \"annotations\": [{\"x\": 1940, \"y\": 0, \"xref\": \"x\", \"yref\": \"y\", \"text\": \"World War II\", \"ax\": 1, \"ay\": -180, \"font\": {\"size\": 15, \"color\": \"#34495e\"}, \"align\": \"center\", \"arrowwidth\": 2, \"bordercolor\": \"blue\", \"borderwidth\": 0, \"borderpad\": 0, \"bgcolor\": \"#fbfcfc\", \"opacity\": 0.8}, {\"x\": 1994, \"y\": 67, \"xref\": \"x\", \"yref\": \"y\", \"text\": \"Summer and Winter games seperated\", \"ax\": 1, \"ay\": -200, \"font\": {\"size\": 15, \"color\": \"#34495e\"}, \"align\": \"center\", \"arrowwidth\": 2, \"bordercolor\": \"blue\", \"borderwidth\": 0, \"borderpad\": 0, \"bgcolor\": \"#fbfcfc\", \"opacity\": 0.8}], \"titlefont\": {\"size\": 20}}], \"label\": \"Winter\", \"method\": \"update\"}]}], \"width\": 1000, \"xaxis\": {\"dtick\": 4, \"showticklabels\": true, \"tickfont\": {\"color\": \"black\", \"size\": 15}, \"title\": \"Year\", \"titlefont\": {\"size\": 18}}, \"yaxis\": {\"showticklabels\": true, \"tickfont\": {\"color\": \"black\", \"size\": 15}, \"title\": \"Count of countries\", \"titlefont\": {\"size\": 18}}},\n",
       "            {\"showLink\": true, \"linkText\": \"Export to plot.ly\"}\n",
       "        ).then(function () {return Plotly.addFrames('f217e7c9-49ac-43da-a165-1f2cf155398c',{});}).then(function(){Plotly.animate('f217e7c9-49ac-43da-a165-1f2cf155398c');})\n",
       "        });</script>"
      ],
      "text/vnd.plotly.v1+html": [
       "<div id=\"f217e7c9-49ac-43da-a165-1f2cf155398c\" style=\"height: 500px; width: 1000px;\" class=\"plotly-graph-div\"></div><script type=\"text/javascript\">require([\"plotly\"], function(Plotly) { window.PLOTLYENV=window.PLOTLYENV || {};window.PLOTLYENV.BASE_URL=\"https://plot.ly\";\n",
       "        Plotly.plot(\n",
       "            'f217e7c9-49ac-43da-a165-1f2cf155398c',\n",
       "            [{\"hoverinfo\": \"text\", \"marker\": {\"color\": \"#ff8000\"}, \"name\": \"Summer\", \"showlegend\": false, \"text\": [\"1896<br>12 participting teams\", \"\", \"1904<br>Absent:<br>Russia<br>Japan\", \"\", \"\", \"\", \"\", \"\", \"\", \"\", \"\", \"1948<br>Debut:<br>Iran<br>Venezuela<br><br>Absent:<br>Germany<br>Japan\", \"1952<br>Debut:<br>USSR\", \"\", \"\", \"\", \"\", \"\", \"1976<br>Absent:<br>Egypt<br>Nigeria<br>Kenya\", \"1980<br>Absent:<br>United States<br>Japan<br>Canada\", \"\", \"\", \"\", \"\", \"\", \"\", \"\", \"\", \"2016<br>206 participating teams\"], \"x\": [1896.0, 1900.0, 1904.0, 1906.0, 1908.0, 1912.0, 1920.0, 1924.0, 1928.0, 1932.0, 1936.0, 1948.0, 1952.0, 1956.0, 1960.0, 1964.0, 1968.0, 1972.0, 1976.0, 1980.0, 1984.0, 1988.0, 1992.0, 1996.0, 2000.0, 2004.0, 2008.0, 2012.0, 2016.0], \"y\": [12.0, 31.0, 15.0, 21.0, 22.0, 29.0, 29.0, 45.0, 46.0, 47.0, 49.0, 58.0, 68.0, 71.0, 83.0, 93.0, 111.0, 120.0, 91.0, 80.0, 139.0, 158.0, 168.0, 196.0, 199.0, 200.0, 203.0, 204.0, 206.0], \"type\": \"bar\", \"uid\": \"2596cbe8-b51b-11e8-a3d3-d2577b2f97ca\"}, {\"hoverinfo\": \"text\", \"marker\": {\"color\": \"#3399ff\"}, \"name\": \"Winter\", \"showlegend\": false, \"text\": [\"1924<br>19 participting teams\", \"\", \"\", \"\", \"1948<br>Debut:<br>Denmark<br>Korea<br><br>Absent:<br>Germany<br>Japan\", \"1952<br>Debut:<br>Portugal<br>New Zealand\", \"1956<br>Debut:<br>USSR\", \"\", \"\", \"\", \"\", \"\", \"\", \"\", \"\", \"\", \"\", \"\", \"\", \"\", \"\", \"2014<br>89 participating teams\"], \"x\": [1924.0, 1928.0, 1932.0, 1936.0, 1948.0, 1952.0, 1956.0, 1960.0, 1964.0, 1968.0, 1972.0, 1976.0, 1980.0, 1984.0, 1988.0, 1992.0, 1994.0, 1998.0, 2002.0, 2006.0, 2010.0, 2014.0], \"y\": [19.0, 25.0, 17.0, 28.0, 28.0, 30.0, 32.0, 30.0, 36.0, 37.0, 35.0, 37.0, 37.0, 49.0, 57.0, 64.0, 67.0, 72.0, 77.0, 79.0, 82.0, 89.0], \"type\": \"bar\", \"uid\": \"2596cbe9-b51b-11e8-a59f-d2577b2f97ca\"}],\n",
       "            {\"height\": 500, \"showlegend\": false, \"updatemenus\": [{\"active\": -1, \"buttons\": [{\"args\": [{\"visible\": [true, false]}, {\"title\": \"Participation in Summer Olympics\", \"annotations\": [{\"x\": 1904, \"y\": 15, \"xref\": \"x\", \"yref\": \"y\", \"text\": \"Russo-Japanese War\", \"ax\": 1, \"ay\": -200, \"font\": {\"size\": 15, \"color\": \"#34495e\"}, \"align\": \"center\", \"arrowwidth\": 2, \"bordercolor\": \"red\", \"borderwidth\": 0, \"borderpad\": 0, \"bgcolor\": \"#fbfcfc\", \"opacity\": 0.8}, {\"x\": 1914, \"y\": 0, \"xref\": \"x\", \"yref\": \"y\", \"text\": \"World War I\", \"ax\": 1, \"ay\": -180, \"font\": {\"size\": 15, \"color\": \"#34495e\"}, \"align\": \"center\", \"arrowwidth\": 2, \"bordercolor\": \"red\", \"borderwidth\": 0, \"borderpad\": 0, \"bgcolor\": \"#fbfcfc\", \"opacity\": 0.8}, {\"x\": 1940, \"y\": 0, \"xref\": \"x\", \"yref\": \"y\", \"text\": \"World War II\", \"ax\": 1, \"ay\": -180, \"font\": {\"size\": 15, \"color\": \"#34495e\"}, \"align\": \"center\", \"arrowwidth\": 2, \"bordercolor\": \"red\", \"borderwidth\": 0, \"borderpad\": 0, \"bgcolor\": \"#fbfcfc\", \"opacity\": 0.8}, {\"x\": 1980, \"y\": 80, \"xref\": \"x\", \"yref\": \"y\", \"text\": \"Soviet invasion of Afghanistan\", \"ax\": 1, \"ay\": -200, \"font\": {\"size\": 15, \"color\": \"#34495e\"}, \"align\": \"center\", \"arrowwidth\": 2, \"bordercolor\": \"red\", \"borderwidth\": 0, \"borderpad\": 0, \"bgcolor\": \"#fbfcfc\", \"opacity\": 0.8}], \"titlefont\": {\"size\": 20}}], \"label\": \"Summer\", \"method\": \"update\"}, {\"args\": [{\"visible\": [false, true]}, {\"title\": \"Participation in Winter Olympics\", \"annotations\": [{\"x\": 1940, \"y\": 0, \"xref\": \"x\", \"yref\": \"y\", \"text\": \"World War II\", \"ax\": 1, \"ay\": -180, \"font\": {\"size\": 15, \"color\": \"#34495e\"}, \"align\": \"center\", \"arrowwidth\": 2, \"bordercolor\": \"blue\", \"borderwidth\": 0, \"borderpad\": 0, \"bgcolor\": \"#fbfcfc\", \"opacity\": 0.8}, {\"x\": 1994, \"y\": 67, \"xref\": \"x\", \"yref\": \"y\", \"text\": \"Summer and Winter games seperated\", \"ax\": 1, \"ay\": -200, \"font\": {\"size\": 15, \"color\": \"#34495e\"}, \"align\": \"center\", \"arrowwidth\": 2, \"bordercolor\": \"blue\", \"borderwidth\": 0, \"borderpad\": 0, \"bgcolor\": \"#fbfcfc\", \"opacity\": 0.8}], \"titlefont\": {\"size\": 20}}], \"label\": \"Winter\", \"method\": \"update\"}]}], \"width\": 1000, \"xaxis\": {\"dtick\": 4, \"showticklabels\": true, \"tickfont\": {\"color\": \"black\", \"size\": 15}, \"title\": \"Year\", \"titlefont\": {\"size\": 18}}, \"yaxis\": {\"showticklabels\": true, \"tickfont\": {\"color\": \"black\", \"size\": 15}, \"title\": \"Count of countries\", \"titlefont\": {\"size\": 18}}},\n",
       "            {\"showLink\": true, \"linkText\": \"Export to plot.ly\"}\n",
       "        ).then(function () {return Plotly.addFrames('f217e7c9-49ac-43da-a165-1f2cf155398c',{});}).then(function(){Plotly.animate('f217e7c9-49ac-43da-a165-1f2cf155398c');})\n",
       "        });</script>"
      ]
     },
     "metadata": {},
     "output_type": "display_data"
    }
   ],
   "source": [
    "init_notebook_mode(connected=True)\n",
    "\n",
    "years = df2.Year.values.tolist()\n",
    "years_txt = [str(y) for y in years]\n",
    "data1 = go.Bar(x=df3.Year, y=df3.NOC, text=df3.text, hoverinfo='text', marker=dict(color='#ff8000'), name='Summer', \n",
    "               showlegend=False)\n",
    "\n",
    "years2 = df4.Year.values.tolist()\n",
    "years2_txt = [str(y) for y in years2]\n",
    "data2 = go.Bar(x=df5.Year, y=df5.NOC, text=df5.text, hoverinfo='text', marker=dict(color='#3399ff'), name='Winter', \n",
    "               showlegend=False)\n",
    "\n",
    "data = [data1, data2]\n",
    "\n",
    "annotations1 = [dict(x=1904, y=15, xref='x', yref='y', text='Russo-Japanese War', ax=1, ay=-200,\n",
    "                    font=dict(size=15, color='#34495e'), align='center', arrowwidth=2, bordercolor='red', \n",
    "                    borderwidth=0, borderpad=0, bgcolor='#fbfcfc', opacity=0.8), \n",
    "               dict(x=1914, y=0, xref='x', yref='y', text='World War I', ax=1, ay=-180, \n",
    "                    font=dict(size=15, color='#34495e'), align='center', arrowwidth=2, bordercolor='red',\n",
    "                    borderwidth=0, borderpad=0, bgcolor='#fbfcfc', opacity=0.8), \n",
    "               dict(x=1940, y=0, xref='x', yref='y', text='World War II', ax=1, ay=-180, \n",
    "                    font=dict(size=15, color='#34495e'), align='center', arrowwidth=2, bordercolor='red',\n",
    "                    borderwidth=0, borderpad=0, bgcolor='#fbfcfc', opacity=0.8), \n",
    "               dict(x=1980, y=80, xref='x', yref='y', text='Soviet invasion of Afghanistan', ax=1, ay=-200,\n",
    "                    font=dict(size=15, color='#34495e'), align='center', arrowwidth=2, bordercolor='red', \n",
    "                    borderwidth=0, borderpad=0, bgcolor='#fbfcfc', opacity=0.8)]\n",
    "annotations2 = [dict(x=1940, y=0, xref='x', yref='y', text='World War II', ax=1, ay=-180, \n",
    "                    font=dict(size=15, color='#34495e'), align='center', arrowwidth=2, bordercolor='blue',\n",
    "                    borderwidth=0, borderpad=0, bgcolor='#fbfcfc', opacity=0.8), \n",
    "               dict(x=1994, y=67, xref='x', yref='y', text='Summer and Winter games seperated', ax=1, ay=-200,\n",
    "                    font=dict(size=15, color='#34495e'), align='center', arrowwidth=2, bordercolor='blue', \n",
    "                    borderwidth=0, borderpad=0, bgcolor='#fbfcfc', opacity=0.8)]\n",
    "                    \n",
    "updatemenus = list([dict(active=-1, buttons=list([   \n",
    "            dict(label='Summer', method='update',\n",
    "                 args = [{'visible': [True, False]}, {'title': 'Participation in Summer Olympics', \n",
    "                                                      'annotations': annotations1, 'titlefont': dict(size=20)}]),\n",
    "            dict(label='Winter', method='update',\n",
    "                 args = [{'visible': [False, True]}, {'title': 'Participation in Winter Olympics', \n",
    "                                                      'annotations': annotations2, 'titlefont': dict(size=20)}])\n",
    "            ]))])\n",
    "\n",
    "layout1 = dict(showlegend=False, updatemenus=updatemenus, height=500, width=1000, \n",
    "              xaxis=dict(title='Year', titlefont=dict(size=18), showticklabels=True, tickfont=dict(size=15, color='black'), \n",
    "                        dtick=4), \n",
    "               yaxis=dict(title='Count of countries', titlefont=dict(size=18), showticklabels=True, \n",
    "                               tickfont=dict(size=15, color='black')))\n",
    "\n",
    "fig1 = go.Figure(data, layout=layout1)\n",
    "plotly.offline.iplot(fig1, filename='Olympics1')"
   ]
  },
  {
   "cell_type": "markdown",
   "metadata": {
    "extensions": {
     "jupyter_dashboards": {
      "version": 1,
      "views": {
       "grid_default": {
        "col": 0,
        "height": 6,
        "hidden": false,
        "row": 53,
        "width": 12
       },
       "report_default": {}
      }
     }
    }
   },
   "source": [
    "The first <b>Summer games</b> were held in 1896, more than a 100 years ago. As you can see the games were cancelled during the first and second world war. Certain years such as 1904 and 1980 saw a dip in participation due to conflicts between countries. For eg. around 66 countries boycotted the Summer Olympics in 1980 to protest the Soviet invasion of Afghanistan. Participation has increased in certain years, again due to certain political and social developments. For eg. A lot of countries made their debut in 1948. Korea, Iran, Venezuela participated in the Olympics for the first time in 1948. Also Germany and Japan were not allowed to participate that year due to their involvement in WWII. <br>\n",
    "\n",
    "The <b>Winter games</b> were first held in 1924. These games were also suspended during the 2nd World War. An interesting point to note is that till the year 1992, Summer and Winter games were held in the same year. Ever since then they are held 2 years apart.  "
   ]
  },
  {
   "cell_type": "markdown",
   "metadata": {
    "extensions": {
     "jupyter_dashboards": {
      "version": 1,
      "views": {
       "grid_default": {
        "col": 0,
        "height": 4,
        "hidden": false,
        "row": 39,
        "width": 4
       },
       "report_default": {}
      }
     }
    }
   },
   "source": [
    "### Analysis 2: Top performers measured by total tally of medals and by average medals won per year"
   ]
  },
  {
   "cell_type": "markdown",
   "metadata": {
    "extensions": {
     "jupyter_dashboards": {
      "version": 1,
      "views": {
       "grid_default": {
        "col": 4,
        "height": 4,
        "hidden": false,
        "row": 39,
        "width": 4
       },
       "report_default": {}
      }
     }
    }
   },
   "source": [
    "Create dataframes that contain top 10 performers in Summer Olympics and Winter Olympics by medal tally."
   ]
  },
  {
   "cell_type": "code",
   "execution_count": 12,
   "metadata": {
    "extensions": {
     "jupyter_dashboards": {
      "version": 1,
      "views": {
       "grid_default": {
        "hidden": true
       },
       "report_default": {}
      }
     }
    }
   },
   "outputs": [],
   "source": [
    "def medals(x):\n",
    "    return((len(x.Medal.unique())))"
   ]
  },
  {
   "cell_type": "code",
   "execution_count": 13,
   "metadata": {
    "extensions": {
     "jupyter_dashboards": {
      "version": 1,
      "views": {
       "grid_default": {
        "hidden": true
       },
       "report_default": {}
      }
     }
    }
   },
   "outputs": [],
   "source": [
    "## Dictionary of NOCs and regions\n",
    "df_NOC_region = df[['NOC', 'region']].drop_duplicates().dropna()"
   ]
  },
  {
   "cell_type": "code",
   "execution_count": 14,
   "metadata": {
    "extensions": {
     "jupyter_dashboards": {
      "version": 1,
      "views": {
       "grid_default": {
        "hidden": true
       },
       "report_default": {}
      }
     }
    },
    "scrolled": true
   },
   "outputs": [],
   "source": [
    "df_event_medals = df[(df.Season == 'Summer')&(df.Medal.notnull())].groupby(['NOC', 'Year', 'Event']).apply(\n",
    "    lambda x: medals(x)).reset_index()\n",
    "df_medals_summer0 = df_event_medals.groupby(['NOC'])[0].sum().sort_values(ascending=False).head(10).reset_index().rename(\n",
    "    columns={0:'medal_tally'})\n",
    "df_medals_summer = df_medals_summer0.merge(df_NOC_region, on='NOC', how='left')\n",
    "df_medals_summer.loc[df_medals_summer.NOC == 'URS', 'region'] = 'Soviet Union'\n",
    "\n",
    "df_event_medals1 = df[(df.Season == 'Winter')&(df.Medal.notnull())].groupby(['NOC', 'Year', 'Event']).apply(\n",
    "    lambda x: medals(x)).reset_index()\n",
    "df_medals_winter0 = df_event_medals1.groupby(['NOC'])[0].sum().sort_values(ascending=False).head(10).reset_index().rename(\n",
    "    columns={0:'medal_tally'})\n",
    "df_medals_winter = df_medals_winter0.merge(df_NOC_region, on='NOC', how='left')\n",
    "df_medals_winter.loc[df_medals_winter.NOC == 'URS', 'region'] = 'Soviet Union'"
   ]
  },
  {
   "cell_type": "markdown",
   "metadata": {
    "extensions": {
     "jupyter_dashboards": {
      "version": 1,
      "views": {
       "grid_default": {
        "col": 0,
        "height": 4,
        "hidden": false,
        "row": 43,
        "width": 4
       },
       "report_default": {}
      }
     }
    }
   },
   "source": [
    "Create dataframes that contain top 10 performers in Summer Olympics and Winter Olympics by avg medals per year."
   ]
  },
  {
   "cell_type": "code",
   "execution_count": 15,
   "metadata": {
    "extensions": {
     "jupyter_dashboards": {
      "version": 1,
      "views": {
       "grid_default": {
        "hidden": true
       },
       "report_default": {}
      }
     }
    }
   },
   "outputs": [],
   "source": [
    "df_summer_games = df_event_medals.groupby(['NOC'])['Year'].apply(lambda x: len(x.unique())).reset_index().rename(columns=\n",
    "    {'Year':'no_of_olympics'})\n",
    "df_avg_summer = df_summer_games.merge(df_medals_summer, on='NOC', how='inner')\n",
    "df_avg_summer['avg_medals'] = (df_avg_summer['medal_tally']) / (df_avg_summer['no_of_olympics'])\n",
    "df_avg_summer.sort_values('avg_medals', ascending=False, inplace=True)\n",
    "df_avg_summer.loc[df_avg_summer.NOC=='URS', 'region'] = 'Soviet Union'\n",
    "\n",
    "df_winter_games = df_event_medals1.groupby(['NOC'])['Year'].apply(lambda x: len(x.unique())).reset_index().rename(columns=\n",
    "    {'Year':'no_of_olympics'})\n",
    "df_avg_winter = df_winter_games.merge(df_medals_winter, on='NOC', how='inner')\n",
    "df_avg_winter['avg_medals'] = (df_avg_winter['medal_tally']) / (df_avg_winter['no_of_olympics'])\n",
    "df_avg_winter.sort_values('avg_medals', ascending=False, inplace=True)\n",
    "df_avg_winter.loc[df_avg_winter.NOC=='URS', 'region'] = 'Soviet Union'"
   ]
  },
  {
   "cell_type": "code",
   "execution_count": 16,
   "metadata": {
    "extensions": {
     "jupyter_dashboards": {
      "version": 1,
      "views": {
       "grid_default": {
        "col": 0,
        "height": 20,
        "hidden": false,
        "row": 59,
        "width": null
       },
       "report_default": {}
      }
     }
    }
   },
   "outputs": [
    {
     "data": {
      "text/html": [
       "<script>requirejs.config({paths: { 'plotly': ['https://cdn.plot.ly/plotly-latest.min']},});if(!window.Plotly) {{require(['plotly'],function(plotly) {window.Plotly=plotly;});}}</script>"
      ],
      "text/vnd.plotly.v1+html": [
       "<script>requirejs.config({paths: { 'plotly': ['https://cdn.plot.ly/plotly-latest.min']},});if(!window.Plotly) {{require(['plotly'],function(plotly) {window.Plotly=plotly;});}}</script>"
      ]
     },
     "metadata": {},
     "output_type": "display_data"
    },
    {
     "name": "stdout",
     "output_type": "stream",
     "text": [
      "This is the format of your plot grid:\n",
      "[ (1,1) x1,y1 ]  [ (1,2) x2,y2 ]\n",
      "\n"
     ]
    },
    {
     "data": {
      "application/vnd.plotly.v1+json": {
       "data": [
        {
         "hoverinfo": "text",
         "marker": {
          "color": "#ff8000"
         },
         "name": "Summer",
         "orientation": "h",
         "text": [
          "2544",
          "1005",
          "892",
          "776",
          "770",
          "608",
          "542",
          "513",
          "506",
          "504"
         ],
         "type": "bar",
         "uid": "2925fa9e-b51b-11e8-a36e-d2577b2f97ca",
         "x": [
          2544,
          1005,
          892,
          776,
          770,
          608,
          542,
          513,
          506,
          504
         ],
         "xaxis": "x",
         "y": [
          "USA",
          "Soviet Union",
          "UK",
          "Germany",
          "France",
          "Italy",
          "China",
          "Sweden",
          "Australia",
          "Hungary"
         ],
         "yaxis": "y"
        },
        {
         "hoverinfo": "text",
         "marker": {
          "color": "#3399ff"
         },
         "name": "Winter",
         "orientation": "h",
         "text": [
          "319",
          "279",
          "228",
          "218",
          "192",
          "170",
          "161",
          "144",
          "137",
          "124"
         ],
         "type": "bar",
         "uid": "292889fe-b51b-11e8-8b14-d2577b2f97ca",
         "x": [
          319,
          279,
          228,
          218,
          192,
          170,
          161,
          144,
          137,
          124
         ],
         "xaxis": "x",
         "y": [
          "Norway",
          "USA",
          "Germany",
          "Austria",
          "Soviet Union",
          "Canada",
          "Finland",
          "Sweden",
          "Switzerland",
          "Russia"
         ],
         "yaxis": "y"
        },
        {
         "hoverinfo": "text",
         "marker": {
          "color": "#ff8000"
         },
         "name": "Summer",
         "orientation": "h",
         "showlegend": false,
         "text": [
          "111.66666666666667",
          "90.85714285714286",
          "60.22222222222222",
          "38.8",
          "30.75862068965517",
          "26.551724137931036",
          "22.51851851851852",
          "19.0",
          "18.74074074074074",
          "18.666666666666668"
         ],
         "type": "bar",
         "uid": "292d50ec-b51b-11e8-8f0c-d2577b2f97ca",
         "x": [
          111.66666666666667,
          90.85714285714286,
          60.22222222222222,
          38.8,
          30.75862068965517,
          26.551724137931036,
          22.51851851851852,
          19,
          18.74074074074074,
          18.666666666666668
         ],
         "xaxis": "x2",
         "y": [
          "Soviet Union",
          "USA",
          "China",
          "Germany",
          "UK",
          "France",
          "Italy",
          "Sweden",
          "Australia",
          "Hungary"
         ],
         "yaxis": "y2"
        },
        {
         "hoverinfo": "text",
         "marker": {
          "color": "#3399ff"
         },
         "name": "Winter",
         "orientation": "h",
         "showlegend": false,
         "text": [
          "21.333333333333332",
          "20.666666666666668",
          "16.285714285714285",
          "14.5",
          "12.681818181818182",
          "9.909090909090908",
          "7.7272727272727275",
          "7.318181818181818",
          "6.545454545454546",
          "6.523809523809524"
         ],
         "type": "bar",
         "uid": "292fdef6-b51b-11e8-8d6a-d2577b2f97ca",
         "x": [
          21.333333333333332,
          20.666666666666668,
          16.285714285714285,
          14.5,
          12.681818181818182,
          9.909090909090908,
          7.7272727272727275,
          7.318181818181818,
          6.545454545454546,
          6.523809523809524
         ],
         "xaxis": "x2",
         "y": [
          "Soviet Union",
          "Russia",
          "Germany",
          "Norway",
          "USA",
          "Austria",
          "Canada",
          "Finland",
          "Sweden",
          "Switzerland"
         ],
         "yaxis": "y2"
        }
       ],
       "layout": {
        "annotations": [
         {
          "font": {
           "size": 16
          },
          "showarrow": false,
          "text": "Top Countries by Medal Tally",
          "x": 0.1875,
          "xanchor": "center",
          "xref": "paper",
          "y": 1,
          "yanchor": "bottom",
          "yref": "paper"
         },
         {
          "font": {
           "size": 16
          },
          "showarrow": false,
          "text": "Top Countries by Avg Medals per Year",
          "x": 0.8125,
          "xanchor": "center",
          "xref": "paper",
          "y": 1,
          "yanchor": "bottom",
          "yref": "paper"
         }
        ],
        "height": 500,
        "showlegend": false,
        "updatemenus": [
         {
          "active": -1,
          "buttons": [
           {
            "args": [
             {
              "visible": [
               true,
               false
              ]
             },
             {
              "title": "Top Performers in Summer Games",
              "titlefont": {
               "size": 20
              }
             }
            ],
            "label": "Summer",
            "method": "update"
           },
           {
            "args": [
             {
              "visible": [
               false,
               true
              ]
             },
             {
              "title": "Top Performers in Winter Games",
              "titlefont": {
               "size": 20
              }
             }
            ],
            "label": "Winter",
            "method": "update"
           }
          ],
          "direction": "down",
          "x": 0.48,
          "xanchor": "center",
          "y": 1.1,
          "yanchor": "top"
         }
        ],
        "width": 1000,
        "xaxis": {
         "anchor": "y",
         "autorange": "reversed",
         "domain": [
          0,
          0.375
         ],
         "tickfont": {
          "size": 15
         },
         "tickformat": "s",
         "title": "Medal count",
         "titlefont": {
          "size": 18
         }
        },
        "xaxis2": {
         "anchor": "y2",
         "domain": [
          0.625,
          1
         ],
         "tickfont": {
          "size": 15
         },
         "title": "Avg Medal count",
         "titlefont": {
          "size": 18
         }
        },
        "yaxis": {
         "anchor": "x",
         "automargin": true,
         "autorange": "reversed",
         "domain": [
          0,
          1
         ],
         "tickfont": {
          "size": 14
         },
         "tickprefix": "          ",
         "title": "Country",
         "titlefont": {
          "size": 18
         }
        },
        "yaxis2": {
         "anchor": "x2",
         "automargin": true,
         "autorange": "reversed",
         "domain": [
          0,
          1
         ],
         "side": "right",
         "tickfont": {
          "size": 14
         },
         "ticksuffix": "          ",
         "title": "Country",
         "titlefont": {
          "size": 18
         }
        }
       }
      },
      "text/html": [
       "<div id=\"33c8e87d-022c-45dd-bcf3-655ee77b3a5e\" style=\"height: 500px; width: 1000px;\" class=\"plotly-graph-div\"></div><script type=\"text/javascript\">require([\"plotly\"], function(Plotly) { window.PLOTLYENV=window.PLOTLYENV || {};window.PLOTLYENV.BASE_URL=\"https://plot.ly\";\n",
       "        Plotly.plot(\n",
       "            '33c8e87d-022c-45dd-bcf3-655ee77b3a5e',\n",
       "            [{\"hoverinfo\": \"text\", \"marker\": {\"color\": \"#ff8000\"}, \"name\": \"Summer\", \"orientation\": \"h\", \"text\": [\"2544\", \"1005\", \"892\", \"776\", \"770\", \"608\", \"542\", \"513\", \"506\", \"504\"], \"x\": [2544.0, 1005.0, 892.0, 776.0, 770.0, 608.0, 542.0, 513.0, 506.0, 504.0], \"y\": [\"USA\", \"Soviet Union\", \"UK\", \"Germany\", \"France\", \"Italy\", \"China\", \"Sweden\", \"Australia\", \"Hungary\"], \"type\": \"bar\", \"uid\": \"2925fa9e-b51b-11e8-a36e-d2577b2f97ca\", \"xaxis\": \"x\", \"yaxis\": \"y\"}, {\"hoverinfo\": \"text\", \"marker\": {\"color\": \"#3399ff\"}, \"name\": \"Winter\", \"orientation\": \"h\", \"text\": [\"319\", \"279\", \"228\", \"218\", \"192\", \"170\", \"161\", \"144\", \"137\", \"124\"], \"x\": [319.0, 279.0, 228.0, 218.0, 192.0, 170.0, 161.0, 144.0, 137.0, 124.0], \"y\": [\"Norway\", \"USA\", \"Germany\", \"Austria\", \"Soviet Union\", \"Canada\", \"Finland\", \"Sweden\", \"Switzerland\", \"Russia\"], \"type\": \"bar\", \"uid\": \"292889fe-b51b-11e8-8b14-d2577b2f97ca\", \"xaxis\": \"x\", \"yaxis\": \"y\"}, {\"hoverinfo\": \"text\", \"marker\": {\"color\": \"#ff8000\"}, \"name\": \"Summer\", \"orientation\": \"h\", \"showlegend\": false, \"text\": [\"111.66666666666667\", \"90.85714285714286\", \"60.22222222222222\", \"38.8\", \"30.75862068965517\", \"26.551724137931036\", \"22.51851851851852\", \"19.0\", \"18.74074074074074\", \"18.666666666666668\"], \"x\": [111.66666666666667, 90.85714285714286, 60.22222222222222, 38.8, 30.75862068965517, 26.551724137931036, 22.51851851851852, 19.0, 18.74074074074074, 18.666666666666668], \"y\": [\"Soviet Union\", \"USA\", \"China\", \"Germany\", \"UK\", \"France\", \"Italy\", \"Sweden\", \"Australia\", \"Hungary\"], \"type\": \"bar\", \"uid\": \"292d50ec-b51b-11e8-8f0c-d2577b2f97ca\", \"xaxis\": \"x2\", \"yaxis\": \"y2\"}, {\"hoverinfo\": \"text\", \"marker\": {\"color\": \"#3399ff\"}, \"name\": \"Winter\", \"orientation\": \"h\", \"showlegend\": false, \"text\": [\"21.333333333333332\", \"20.666666666666668\", \"16.285714285714285\", \"14.5\", \"12.681818181818182\", \"9.909090909090908\", \"7.7272727272727275\", \"7.318181818181818\", \"6.545454545454546\", \"6.523809523809524\"], \"x\": [21.333333333333332, 20.666666666666668, 16.285714285714285, 14.5, 12.681818181818182, 9.909090909090908, 7.7272727272727275, 7.318181818181818, 6.545454545454546, 6.523809523809524], \"y\": [\"Soviet Union\", \"Russia\", \"Germany\", \"Norway\", \"USA\", \"Austria\", \"Canada\", \"Finland\", \"Sweden\", \"Switzerland\"], \"type\": \"bar\", \"uid\": \"292fdef6-b51b-11e8-8d6a-d2577b2f97ca\", \"xaxis\": \"x2\", \"yaxis\": \"y2\"}],\n",
       "            {\"annotations\": [{\"font\": {\"size\": 16}, \"showarrow\": false, \"text\": \"Top Countries by Medal Tally\", \"x\": 0.1875, \"xanchor\": \"center\", \"xref\": \"paper\", \"y\": 1.0, \"yanchor\": \"bottom\", \"yref\": \"paper\"}, {\"font\": {\"size\": 16}, \"showarrow\": false, \"text\": \"Top Countries by Avg Medals per Year\", \"x\": 0.8125, \"xanchor\": \"center\", \"xref\": \"paper\", \"y\": 1.0, \"yanchor\": \"bottom\", \"yref\": \"paper\"}], \"xaxis\": {\"anchor\": \"y\", \"domain\": [0.0, 0.375], \"titlefont\": {\"size\": 18}, \"title\": \"Medal count\", \"tickfont\": {\"size\": 15}, \"autorange\": \"reversed\", \"tickformat\": \"s\"}, \"yaxis\": {\"anchor\": \"x\", \"domain\": [0.0, 1.0], \"titlefont\": {\"size\": 18}, \"title\": \"Country\", \"automargin\": true, \"tickfont\": {\"size\": 14}, \"autorange\": \"reversed\", \"tickprefix\": \"          \"}, \"xaxis2\": {\"anchor\": \"y2\", \"domain\": [0.625, 1.0], \"titlefont\": {\"size\": 18}, \"title\": \"Avg Medal count\", \"tickfont\": {\"size\": 15}}, \"yaxis2\": {\"anchor\": \"x2\", \"domain\": [0.0, 1.0], \"titlefont\": {\"size\": 18}, \"title\": \"Country\", \"automargin\": true, \"tickfont\": {\"size\": 14}, \"autorange\": \"reversed\", \"side\": \"right\", \"ticksuffix\": \"          \"}, \"updatemenus\": [{\"active\": -1, \"buttons\": [{\"args\": [{\"visible\": [true, false]}, {\"title\": \"Top Performers in Summer Games\", \"titlefont\": {\"size\": 20}}], \"label\": \"Summer\", \"method\": \"update\"}, {\"args\": [{\"visible\": [false, true]}, {\"title\": \"Top Performers in Winter Games\", \"titlefont\": {\"size\": 20}}], \"label\": \"Winter\", \"method\": \"update\"}], \"direction\": \"down\", \"x\": 0.48, \"xanchor\": \"center\", \"y\": 1.1, \"yanchor\": \"top\"}], \"height\": 500, \"width\": 1000, \"showlegend\": false},\n",
       "            {\"showLink\": true, \"linkText\": \"Export to plot.ly\"}\n",
       "        ).then(function () {return Plotly.addFrames('33c8e87d-022c-45dd-bcf3-655ee77b3a5e',{});}).then(function(){Plotly.animate('33c8e87d-022c-45dd-bcf3-655ee77b3a5e');})\n",
       "        });</script>"
      ],
      "text/vnd.plotly.v1+html": [
       "<div id=\"33c8e87d-022c-45dd-bcf3-655ee77b3a5e\" style=\"height: 500px; width: 1000px;\" class=\"plotly-graph-div\"></div><script type=\"text/javascript\">require([\"plotly\"], function(Plotly) { window.PLOTLYENV=window.PLOTLYENV || {};window.PLOTLYENV.BASE_URL=\"https://plot.ly\";\n",
       "        Plotly.plot(\n",
       "            '33c8e87d-022c-45dd-bcf3-655ee77b3a5e',\n",
       "            [{\"hoverinfo\": \"text\", \"marker\": {\"color\": \"#ff8000\"}, \"name\": \"Summer\", \"orientation\": \"h\", \"text\": [\"2544\", \"1005\", \"892\", \"776\", \"770\", \"608\", \"542\", \"513\", \"506\", \"504\"], \"x\": [2544.0, 1005.0, 892.0, 776.0, 770.0, 608.0, 542.0, 513.0, 506.0, 504.0], \"y\": [\"USA\", \"Soviet Union\", \"UK\", \"Germany\", \"France\", \"Italy\", \"China\", \"Sweden\", \"Australia\", \"Hungary\"], \"type\": \"bar\", \"uid\": \"2925fa9e-b51b-11e8-a36e-d2577b2f97ca\", \"xaxis\": \"x\", \"yaxis\": \"y\"}, {\"hoverinfo\": \"text\", \"marker\": {\"color\": \"#3399ff\"}, \"name\": \"Winter\", \"orientation\": \"h\", \"text\": [\"319\", \"279\", \"228\", \"218\", \"192\", \"170\", \"161\", \"144\", \"137\", \"124\"], \"x\": [319.0, 279.0, 228.0, 218.0, 192.0, 170.0, 161.0, 144.0, 137.0, 124.0], \"y\": [\"Norway\", \"USA\", \"Germany\", \"Austria\", \"Soviet Union\", \"Canada\", \"Finland\", \"Sweden\", \"Switzerland\", \"Russia\"], \"type\": \"bar\", \"uid\": \"292889fe-b51b-11e8-8b14-d2577b2f97ca\", \"xaxis\": \"x\", \"yaxis\": \"y\"}, {\"hoverinfo\": \"text\", \"marker\": {\"color\": \"#ff8000\"}, \"name\": \"Summer\", \"orientation\": \"h\", \"showlegend\": false, \"text\": [\"111.66666666666667\", \"90.85714285714286\", \"60.22222222222222\", \"38.8\", \"30.75862068965517\", \"26.551724137931036\", \"22.51851851851852\", \"19.0\", \"18.74074074074074\", \"18.666666666666668\"], \"x\": [111.66666666666667, 90.85714285714286, 60.22222222222222, 38.8, 30.75862068965517, 26.551724137931036, 22.51851851851852, 19.0, 18.74074074074074, 18.666666666666668], \"y\": [\"Soviet Union\", \"USA\", \"China\", \"Germany\", \"UK\", \"France\", \"Italy\", \"Sweden\", \"Australia\", \"Hungary\"], \"type\": \"bar\", \"uid\": \"292d50ec-b51b-11e8-8f0c-d2577b2f97ca\", \"xaxis\": \"x2\", \"yaxis\": \"y2\"}, {\"hoverinfo\": \"text\", \"marker\": {\"color\": \"#3399ff\"}, \"name\": \"Winter\", \"orientation\": \"h\", \"showlegend\": false, \"text\": [\"21.333333333333332\", \"20.666666666666668\", \"16.285714285714285\", \"14.5\", \"12.681818181818182\", \"9.909090909090908\", \"7.7272727272727275\", \"7.318181818181818\", \"6.545454545454546\", \"6.523809523809524\"], \"x\": [21.333333333333332, 20.666666666666668, 16.285714285714285, 14.5, 12.681818181818182, 9.909090909090908, 7.7272727272727275, 7.318181818181818, 6.545454545454546, 6.523809523809524], \"y\": [\"Soviet Union\", \"Russia\", \"Germany\", \"Norway\", \"USA\", \"Austria\", \"Canada\", \"Finland\", \"Sweden\", \"Switzerland\"], \"type\": \"bar\", \"uid\": \"292fdef6-b51b-11e8-8d6a-d2577b2f97ca\", \"xaxis\": \"x2\", \"yaxis\": \"y2\"}],\n",
       "            {\"annotations\": [{\"font\": {\"size\": 16}, \"showarrow\": false, \"text\": \"Top Countries by Medal Tally\", \"x\": 0.1875, \"xanchor\": \"center\", \"xref\": \"paper\", \"y\": 1.0, \"yanchor\": \"bottom\", \"yref\": \"paper\"}, {\"font\": {\"size\": 16}, \"showarrow\": false, \"text\": \"Top Countries by Avg Medals per Year\", \"x\": 0.8125, \"xanchor\": \"center\", \"xref\": \"paper\", \"y\": 1.0, \"yanchor\": \"bottom\", \"yref\": \"paper\"}], \"xaxis\": {\"anchor\": \"y\", \"domain\": [0.0, 0.375], \"titlefont\": {\"size\": 18}, \"title\": \"Medal count\", \"tickfont\": {\"size\": 15}, \"autorange\": \"reversed\", \"tickformat\": \"s\"}, \"yaxis\": {\"anchor\": \"x\", \"domain\": [0.0, 1.0], \"titlefont\": {\"size\": 18}, \"title\": \"Country\", \"automargin\": true, \"tickfont\": {\"size\": 14}, \"autorange\": \"reversed\", \"tickprefix\": \"          \"}, \"xaxis2\": {\"anchor\": \"y2\", \"domain\": [0.625, 1.0], \"titlefont\": {\"size\": 18}, \"title\": \"Avg Medal count\", \"tickfont\": {\"size\": 15}}, \"yaxis2\": {\"anchor\": \"x2\", \"domain\": [0.0, 1.0], \"titlefont\": {\"size\": 18}, \"title\": \"Country\", \"automargin\": true, \"tickfont\": {\"size\": 14}, \"autorange\": \"reversed\", \"side\": \"right\", \"ticksuffix\": \"          \"}, \"updatemenus\": [{\"active\": -1, \"buttons\": [{\"args\": [{\"visible\": [true, false]}, {\"title\": \"Top Performers in Summer Games\", \"titlefont\": {\"size\": 20}}], \"label\": \"Summer\", \"method\": \"update\"}, {\"args\": [{\"visible\": [false, true]}, {\"title\": \"Top Performers in Winter Games\", \"titlefont\": {\"size\": 20}}], \"label\": \"Winter\", \"method\": \"update\"}], \"direction\": \"down\", \"x\": 0.48, \"xanchor\": \"center\", \"y\": 1.1, \"yanchor\": \"top\"}], \"height\": 500, \"width\": 1000, \"showlegend\": false},\n",
       "            {\"showLink\": true, \"linkText\": \"Export to plot.ly\"}\n",
       "        ).then(function () {return Plotly.addFrames('33c8e87d-022c-45dd-bcf3-655ee77b3a5e',{});}).then(function(){Plotly.animate('33c8e87d-022c-45dd-bcf3-655ee77b3a5e');})\n",
       "        });</script>"
      ]
     },
     "metadata": {},
     "output_type": "display_data"
    }
   ],
   "source": [
    "init_notebook_mode(connected=True)\n",
    "\n",
    "data3 = go.Bar(y=df_medals_summer.region, x=df_medals_summer.medal_tally, text=df_medals_summer.medal_tally, hoverinfo='text', \n",
    "               name='Summer', marker=dict(color='#ff8000'), orientation='h')\n",
    "data4 = go.Bar(y=df_medals_winter.region, x=df_medals_winter.medal_tally, text=df_medals_winter.medal_tally, hoverinfo='text', \n",
    "               name='Winter', marker=dict(color='#3399ff'), orientation='h')\n",
    "data5 = go.Bar(y=df_avg_summer.region, x=df_avg_summer.avg_medals, text=df_avg_summer.avg_medals, hoverinfo='text', \n",
    "               name='Summer', marker=dict(color='#ff8000'), showlegend=False, orientation='h')\n",
    "data6 = go.Bar(y=df_avg_winter.region, x=df_avg_winter.avg_medals, text=df_avg_winter.avg_medals, hoverinfo='text', \n",
    "               name='Winter', marker=dict(color='#3399ff'), showlegend=False, orientation='h')\n",
    "\n",
    "data = [data3, data4, data5, data6]\n",
    "\n",
    "\n",
    "fig2 = tools.make_subplots(rows=1, cols=2, subplot_titles=('Top Countries by Medal Tally', \n",
    "                                                           'Top Countries by Avg Medals per Year'), \n",
    "                           horizontal_spacing=0.25)\n",
    "\n",
    "fig2.append_trace(data3, 1,1)\n",
    "fig2.append_trace(data4, 1, 1)\n",
    "fig2.append_trace(data5, 1, 2)\n",
    "fig2.append_trace(data6, 1, 2)\n",
    "\n",
    "fig2['layout']['yaxis1'].update(title='Country', titlefont=dict(size=18), automargin=True)\n",
    "fig2['layout']['yaxis2'].update(title='Country', titlefont=dict(size=18), automargin=True)\n",
    "\n",
    "fig2['layout']['xaxis1'].update(title='Medal count', titlefont=dict(size=18))\n",
    "fig2['layout']['xaxis2'].update(title='Avg Medal count', titlefont=dict(size=18))\n",
    "\n",
    "fig2['layout']['updatemenus'] = list([dict(active=-1, buttons=list([   \n",
    "            dict(label='Summer', method='update',\n",
    "                 args = [{'visible': [True, False]}, {'title': 'Top Performers in Summer Games', \n",
    "                                                      'titlefont': dict(size=20)}]),\n",
    "            dict(label='Winter', method='update',\n",
    "                 args = [{'visible': [False, True]}, {'title': 'Top Performers in Winter Games', \n",
    "                                                     'titlefont': dict(size=20)}])\n",
    "            ]), direction='down', x=0.48, xanchor='center', y=1.1, yanchor='top' )])\n",
    "\n",
    "\n",
    "fig2['layout'].update(height=500, width=1000, showlegend=False, \n",
    "                      xaxis=dict(autorange='reversed', tickfont=dict(size=15), tickformat='s'),\n",
    "                      xaxis2=dict(tickfont=dict(size=15)),\n",
    "                      yaxis=dict(autorange='reversed', tickfont=dict(size=14), tickprefix=\"          \"), \n",
    "                      yaxis2=dict(autorange='reversed', side='right', tickfont=dict(size=14), ticksuffix=\"          \"))\n",
    "\n",
    "plotly.offline.iplot(fig2, filename='Olympics2')"
   ]
  },
  {
   "cell_type": "markdown",
   "metadata": {
    "extensions": {
     "jupyter_dashboards": {
      "version": 1,
      "views": {
       "grid_default": {
        "col": 0,
        "height": 8,
        "hidden": false,
        "row": 79,
        "width": 12
       },
       "report_default": {}
      }
     }
    }
   },
   "source": [
    "<b>Summer Olympics</b><br>\n",
    "Most medals won by a country - USA (2544) followed by the Soviet Union (1005).\n",
    "However, when we look at average medals won per year it seems the Soviets were most dominant as they averaged more than 100 medals every year. China is third on that list given their outstanding performance in the last few years.\n",
    "\n",
    "<b>Winter Olympics</b><br>\n",
    "Even though the United States does well as far as the overall medal tally is concerned, Scandinavian countries dominate the list. Norway stands first with 319 medals. \n",
    "When it comes to average medals won , the Russians hit it out of the park. The list is headed by the Soviet Union, closely followed by Russia each of whom average more than 20 medals. \n",
    "\n",
    "These plots are a testament to the fact that the Soviets were an undisputed force in the Olympics. "
   ]
  },
  {
   "cell_type": "markdown",
   "metadata": {
    "extensions": {
     "jupyter_dashboards": {
      "version": 1,
      "views": {
       "grid_default": {
        "col": 4,
        "height": 4,
        "hidden": false,
        "row": 43,
        "width": 4
       },
       "report_default": {}
      }
     }
    }
   },
   "source": [
    "### Analysis 3: Representation in national teams in Summer & Winter Olympics"
   ]
  },
  {
   "cell_type": "code",
   "execution_count": 17,
   "metadata": {
    "extensions": {
     "jupyter_dashboards": {
      "version": 1,
      "views": {
       "grid_default": {
        "col": 0,
        "height": 10,
        "hidden": false,
        "row": 87,
        "width": 4
       },
       "report_default": {}
      }
     }
    }
   },
   "outputs": [
    {
     "data": {
      "image/png": "[encoded data removed]",
      "text/plain": [
       "<Figure size 576x432 with 1 Axes>"
      ]
     },
     "metadata": {},
     "output_type": "display_data"
    }
   ],
   "source": [
    "## Subset Sex per Season. Year and Name are considered so that every athlete from each country is only considered once.\n",
    "## Average of annual averages calculated to make the figure as accurate as possible.\n",
    "df_Sex = df[['Season', 'Year', 'Sex', 'Name']].drop_duplicates()\n",
    "df_Sex.drop(columns=['Name'], inplace=True)\n",
    "df_Sex1 = pd.get_dummies(df_Sex, columns=['Sex'])\n",
    "df_Sex2 = df_Sex1.groupby(['Season', 'Year'])[('Sex_F', 'Sex_M')].mean()\n",
    "df_Sex3 = df_Sex2.groupby('Season')[('Sex_F', 'Sex_M')].mean()\n",
    "\n",
    "df_Sex3.plot(kind='bar', figsize=(8, 6), stacked=True)\n",
    "plt.title(\"Gender in Olympic Teams\", fontsize=20, y=1.015)\n",
    "plt.ylabel(\"Proportion\", fontsize=18, labelpad=15);\n",
    "plt.xlabel(\"Olympic Season\", fontsize=18, labelpad=15)\n",
    "plt.xticks(rotation=0)\n",
    "plt.legend(labels=['Female', 'Male'], loc='best', fontsize=14);"
   ]
  },
  {
   "cell_type": "markdown",
   "metadata": {
    "extensions": {
     "jupyter_dashboards": {
      "version": 1,
      "views": {
       "grid_default": {
        "col": 0,
        "height": 4,
        "hidden": false,
        "row": 47,
        "width": 4
       },
       "report_default": {}
      }
     }
    }
   },
   "source": [
    "The proportion of female athletes overall is around 20%. There seems to be more female representation in the Winter games than the Summer games."
   ]
  },
  {
   "cell_type": "markdown",
   "metadata": {
    "extensions": {
     "jupyter_dashboards": {
      "version": 1,
      "views": {
       "grid_default": {
        "col": 4,
        "height": 4,
        "hidden": false,
        "row": 47,
        "width": 4
       },
       "report_default": {}
      }
     }
    }
   },
   "source": [
    "Read in 'geo' dataset. The datast contains country names and Geo codes. To be used for geo plotting later."
   ]
  },
  {
   "cell_type": "code",
   "execution_count": 18,
   "metadata": {
    "extensions": {
     "jupyter_dashboards": {
      "version": 1,
      "views": {
       "grid_default": {
        "col": 4,
        "height": 5,
        "hidden": false,
        "row": 87,
        "width": 4
       },
       "report_default": {}
      }
     }
    }
   },
   "outputs": [
    {
     "data": {
      "text/html": [
       "<div>\n",
       "<style scoped>\n",
       "    .dataframe tbody tr th:only-of-type {\n",
       "        vertical-align: middle;\n",
       "    }\n",
       "\n",
       "    .dataframe tbody tr th {\n",
       "        vertical-align: top;\n",
       "    }\n",
       "\n",
       "    .dataframe thead th {\n",
       "        text-align: right;\n",
       "    }\n",
       "</style>\n",
       "<table border=\"1\" class=\"dataframe\">\n",
       "  <thead>\n",
       "    <tr style=\"text-align: right;\">\n",
       "      <th></th>\n",
       "      <th>COUNTRY</th>\n",
       "      <th>CODE</th>\n",
       "    </tr>\n",
       "  </thead>\n",
       "  <tbody>\n",
       "    <tr>\n",
       "      <th>0</th>\n",
       "      <td>Afghanistan</td>\n",
       "      <td>AFG</td>\n",
       "    </tr>\n",
       "    <tr>\n",
       "      <th>1</th>\n",
       "      <td>Albania</td>\n",
       "      <td>ALB</td>\n",
       "    </tr>\n",
       "    <tr>\n",
       "      <th>2</th>\n",
       "      <td>Algeria</td>\n",
       "      <td>DZA</td>\n",
       "    </tr>\n",
       "  </tbody>\n",
       "</table>\n",
       "</div>"
      ],
      "text/plain": [
       "       COUNTRY CODE\n",
       "0  Afghanistan  AFG\n",
       "1      Albania  ALB\n",
       "2      Algeria  DZA"
      ]
     },
     "execution_count": 18,
     "metadata": {},
     "output_type": "execute_result"
    }
   ],
   "source": [
    "geo = pd.read_csv('geo_codes.csv')\n",
    "geo.head(3)"
   ]
  },
  {
   "cell_type": "markdown",
   "metadata": {
    "extensions": {
     "jupyter_dashboards": {
      "version": 1,
      "views": {
       "grid_default": {
        "col": 8,
        "height": 4,
        "hidden": false,
        "row": 87,
        "width": 4
       },
       "report_default": {}
      }
     }
    }
   },
   "source": [
    "Change certain region names to match the Olympic dataframe with the 'geo' dataframe."
   ]
  },
  {
   "cell_type": "code",
   "execution_count": 19,
   "metadata": {
    "extensions": {
     "jupyter_dashboards": {
      "version": 1,
      "views": {
       "grid_default": {
        "hidden": true
       },
       "report_default": {}
      }
     }
    }
   },
   "outputs": [],
   "source": [
    "df_Gender = df\n",
    "df_Gender.loc[df_Gender.region=='USA', 'region'] = 'United States'\n",
    "df_Gender.loc[df_Gender.region=='UK', 'region'] = 'United Kingdom'\n",
    "df_Gender.loc[df_Gender.region=='Antigua', 'region'] = 'Antigua and Barbuda'\n",
    "df_Gender.loc[df_Gender.region=='Bahamas', 'region'] = 'Bahamas, The'\n",
    "df_Gender.loc[df_Gender.region=='Boliva', 'region'] = 'Bolivia'\n",
    "df_Gender.loc[df_Gender.region=='Cape Verde', 'region'] = 'Cabo Verde'\n",
    "df_Gender.loc[df_Gender.region=='Democratic Republic of the Congo', \n",
    "                      'region'] = 'Congo, Democratic Republic of the'\n",
    "df_Gender.loc[df_Gender.region=='Gambia', 'region'] = 'Gambia, The'\n",
    "df_Gender.loc[df_Gender.region=='Micronesia', 'region'] = 'Micronesia, Federated States of'\n",
    "df_Gender.loc[df_Gender.region=='North Korea', 'region'] = 'Korea, North'\n",
    "df_Gender.loc[df_Gender.region=='Saint Kitts', 'region'] = 'Saint Kitts and Nevis'\n",
    "df_Gender.loc[df_Gender.region=='South Korea', 'region'] = 'Korea, South'\n",
    "df_Gender.loc[df_Gender.region=='Trinidad', 'region'] = 'Trinidad and Tobago'\n",
    "df_Gender.loc[df_Gender.region=='Virgin Islands, British', 'region'] = 'British Virgin Islands'\n",
    "df_Gender.loc[df_Gender.region=='Virgin Islands, US', 'region'] = 'Virgin Islands'"
   ]
  },
  {
   "cell_type": "markdown",
   "metadata": {
    "extensions": {
     "jupyter_dashboards": {
      "version": 1,
      "views": {
       "grid_default": {
        "col": 8,
        "height": 4,
        "hidden": false,
        "row": 91,
        "width": 4
       },
       "report_default": {}
      }
     }
    }
   },
   "source": [
    "To ensure analysis is not skewed by low participation, consider only those countries who have been a part of at least 5 Summer Olympics."
   ]
  },
  {
   "cell_type": "code",
   "execution_count": 20,
   "metadata": {
    "extensions": {
     "jupyter_dashboards": {
      "version": 1,
      "views": {
       "grid_default": {
        "hidden": true
       },
       "report_default": {}
      }
     }
    }
   },
   "outputs": [],
   "source": [
    "dfSummer_Year_count = df_Gender[(df_Gender.Season == 'Summer')].groupby('region')['Year'].apply(\n",
    "    lambda x: len(x.unique())).reset_index().rename(columns={'Year': 'Year_count'})\n",
    "min5yr_summer = dfSummer_Year_count[dfSummer_Year_count['Year_count'] > 4]['region'].values\n",
    "\n",
    "df_Summer_Gender = df_Gender[(df_Gender.Season == 'Summer') & (df_Gender.region.isin(min5yr_summer))][[\n",
    "    'Year', 'region', 'Sex', 'Name']].drop_duplicates()\n",
    "df_Summer_Gender1 = pd.get_dummies(df_Summer_Gender, columns=['Sex'])\n",
    "df_Summer_Gender2 = df_Summer_Gender1.groupby(['region', 'Year'])[('Sex_F', 'Sex_M')].mean()\n",
    "df_Summer_Gender3 = df_Summer_Gender2.groupby('region')[('Sex_F', 'Sex_M')].mean().reset_index()\n",
    "\n",
    "df_Summer_stats = df_Summer_Gender3.set_index('region').join(geo.set_index('COUNTRY')).dropna()\n",
    "df_Summer_stats['Female_ratio'] = round(df_Summer_stats['Sex_F'], 2)\n",
    "df_Summer_stats.drop(columns=['Sex_F', 'Sex_M'], inplace=True)"
   ]
  },
  {
   "cell_type": "code",
   "execution_count": 21,
   "metadata": {
    "extensions": {
     "jupyter_dashboards": {
      "version": 1,
      "views": {
       "grid_default": {
        "col": 4,
        "height": 19,
        "hidden": false,
        "row": 95,
        "width": null
       },
       "report_default": {}
      }
     }
    }
   },
   "outputs": [
    {
     "data": {
      "text/html": [
       "<iframe id=\"igraph\" scrolling=\"no\" style=\"border:none;\" seamless=\"seamless\" src=\"https://plot.ly/~nair.vinit/36.embed\" height=\"525px\" width=\"100%\"></iframe>"
      ],
      "text/plain": [
       "<plotly.tools.PlotlyDisplay object>"
      ]
     },
     "execution_count": 21,
     "metadata": {},
     "output_type": "execute_result"
    }
   ],
   "source": [
    "data10 = [ dict(\n",
    "        type='choropleth',\n",
    "        locations=df_Summer_stats['CODE'],\n",
    "        z=df_Summer_stats['Female_ratio'],\n",
    "        text=df_Summer_stats.index,\n",
    "        colorscale=[[0,\"rgb(128,0,0)\"], [0.35,\"rgb(139,0,0)\"], [0.5,\"rgb(165,42,42)\"],\\\n",
    "            [0.6,\"rgb(255,0,0)\"], [0.7,\"rgb(255,99,71)\"], [1,\"rgb(255,160,122)\"]],\n",
    "        autocolorscale=False,\n",
    "        reversescale=True,\n",
    "        marker=dict(\n",
    "            line=dict (\n",
    "                color='rgb(180,180,180)',\n",
    "                width=0.5\n",
    "            ) ),\n",
    "        colorbar=dict(\n",
    "            autotick=False,\n",
    "            title='Proportion of female athletes', titlefont=dict(size=15)),\n",
    "      ) ]\n",
    "\n",
    "layout5 = dict(\n",
    "    title='Proportion of Female Athletes in Summer Olympics', \n",
    "    titlefont=dict(size=20), \n",
    "    geo=dict(\n",
    "        showframe=False,\n",
    "        showcoastlines=False,\n",
    "        projection=dict(\n",
    "            type='Mercator'\n",
    "        )\n",
    "    )\n",
    ")\n",
    "\n",
    "fig5 = dict(data=data10, layout=layout5)\n",
    "py.iplot(fig5, validate=False)"
   ]
  },
  {
   "cell_type": "markdown",
   "metadata": {
    "extensions": {
     "jupyter_dashboards": {
      "version": 1,
      "views": {
       "grid_default": {
        "col": 0,
        "height": 4,
        "hidden": false,
        "row": 97,
        "width": 4
       },
       "report_default": {}
      }
     }
    }
   },
   "source": [
    "<b>Summer Olympics</b><br>\n",
    "Surprisingly the countries with the most female representation seem to be Bhutan, North Korea, Belarus, Ukraine and Angola. "
   ]
  },
  {
   "cell_type": "markdown",
   "metadata": {
    "extensions": {
     "jupyter_dashboards": {
      "version": 1,
      "views": {
       "grid_default": {
        "col": 0,
        "height": 4,
        "hidden": false,
        "row": 101,
        "width": 4
       },
       "report_default": {}
      }
     }
    }
   },
   "source": [
    "To ensure analysis is not skewed by low participation, consider only those countries who have been a part of at least 3 Winter Olympics."
   ]
  },
  {
   "cell_type": "code",
   "execution_count": 22,
   "metadata": {
    "extensions": {
     "jupyter_dashboards": {
      "version": 1,
      "views": {
       "grid_default": {
        "hidden": true
       },
       "report_default": {}
      }
     }
    }
   },
   "outputs": [],
   "source": [
    "dfWinter_Year_count = df_Gender[(df_Gender.Season == 'Winter')].groupby('region')['Year'].apply(\n",
    "    lambda x: len(x.unique())).reset_index().rename(columns={'Year': 'Year_count'})\n",
    "min5yr_winter = dfWinter_Year_count[dfWinter_Year_count['Year_count'] > 2]['region'].values\n",
    "\n",
    "df_Winter_Gender = df_Gender[(df_Gender.Season == 'Winter') & (df_Gender.region.isin(min5yr_winter))][[\n",
    "    'Year', 'region', 'Sex', 'Name']].drop_duplicates()\n",
    "df_Winter_Gender1 = pd.get_dummies(df_Winter_Gender, columns=['Sex'])\n",
    "df_Winter_Gender2 = df_Winter_Gender1.groupby(['region', 'Year'])[('Sex_F', 'Sex_M')].mean()\n",
    "df_Winter_Gender3 = df_Winter_Gender2.groupby('region')[('Sex_F', 'Sex_M')].mean().reset_index()\n",
    "\n",
    "df_Winter_stats = df_Winter_Gender3.set_index('region').join(geo.set_index('COUNTRY')).dropna()\n",
    "df_Winter_stats['Female_ratio'] = round(df_Winter_stats['Sex_F'], 2)\n",
    "df_Winter_stats.drop(columns=['Sex_F', 'Sex_M'], inplace=True)"
   ]
  },
  {
   "cell_type": "code",
   "execution_count": 23,
   "metadata": {
    "extensions": {
     "jupyter_dashboards": {
      "version": 1,
      "views": {
       "grid_default": {
        "col": 0,
        "height": 19,
        "hidden": false,
        "row": 114,
        "width": null
       },
       "report_default": {}
      }
     }
    }
   },
   "outputs": [
    {
     "data": {
      "text/html": [
       "<iframe id=\"igraph\" scrolling=\"no\" style=\"border:none;\" seamless=\"seamless\" src=\"https://plot.ly/~nair.vinit/38.embed\" height=\"525px\" width=\"100%\"></iframe>"
      ],
      "text/plain": [
       "<plotly.tools.PlotlyDisplay object>"
      ]
     },
     "execution_count": 23,
     "metadata": {},
     "output_type": "execute_result"
    }
   ],
   "source": [
    "data11 = [ dict(\n",
    "        type='choropleth',\n",
    "        locations=df_Winter_stats['CODE'],\n",
    "        z=df_Winter_stats['Female_ratio'],\n",
    "        text=df_Winter_stats.index,\n",
    "        colorscale=[[0,\"rgb(5, 10, 172)\"], [0.35,\"rgb(40, 60, 190)\"], [0.5,\"rgb(70, 100, 245)\"],\\\n",
    "            [0.6,\"rgb(90, 120, 245)\"], [0.7,\"rgb(106, 137, 247)\"], [1,\"rgb(220, 220, 220)\"]],\n",
    "        autocolorscale=False,\n",
    "        reversescale=True,\n",
    "        marker=dict(\n",
    "            line=dict (\n",
    "                color='rgb(180,180,180)',\n",
    "                width=0.5\n",
    "            ) ),\n",
    "        colorbar=dict(\n",
    "            autotick=False,\n",
    "            title='Proportion of female athletes', \n",
    "            titlefont=dict(size=15)),\n",
    "      ) ]\n",
    "\n",
    "layout6 = dict(\n",
    "    title='Proportion of Female Athletes in Winter Olympics', \n",
    "    titlefont=dict(size=20), \n",
    "    geo=dict(\n",
    "        showframe=False,\n",
    "        showcoastlines=False,\n",
    "        projection=dict(\n",
    "            type='Mercator'\n",
    "        )\n",
    "    )\n",
    ")\n",
    "\n",
    "fig6 = dict(data=data11, layout=layout6)\n",
    "py.iplot(fig6, validate=False)"
   ]
  },
  {
   "cell_type": "markdown",
   "metadata": {
    "extensions": {
     "jupyter_dashboards": {
      "version": 1,
      "views": {
       "grid_default": {
        "col": 0,
        "height": 4,
        "hidden": false,
        "row": 105,
        "width": 4
       },
       "report_default": {}
      }
     }
    }
   },
   "source": [
    "<b>Winter Olympics</b><br>\n",
    "Countries with the most female representation seem to be North Korea, China, Uzbekistan, Ukraine and Azerbaijan."
   ]
  },
  {
   "cell_type": "markdown",
   "metadata": {
    "extensions": {
     "jupyter_dashboards": {
      "version": 1,
      "views": {
       "grid_default": {
        "col": 0,
        "height": 4,
        "hidden": false,
        "row": 133,
        "width": 12
       },
       "report_default": {}
      }
     }
    }
   },
   "source": [
    "This analysis that looks into the representation of female athletes in Olympic teams has been the most surprising so far. Notwithstanding some outliers due to low participation, these plots most certainly are educational in terms of how female representation is high among certain countries listed above and low or average among some countries that have high social indicators."
   ]
  },
  {
   "cell_type": "markdown",
   "metadata": {
    "extensions": {
     "jupyter_dashboards": {
      "version": 1,
      "views": {
       "grid_default": {
        "col": 0,
        "height": 4,
        "hidden": false,
        "row": 109,
        "width": 4
       },
       "report_default": {}
      }
     }
    }
   },
   "source": [
    "### Analysis 4: Average Height & Weight of athletes by sporting event in Summer & Winter games "
   ]
  },
  {
   "cell_type": "code",
   "execution_count": 24,
   "metadata": {
    "extensions": {
     "jupyter_dashboards": {
      "version": 1,
      "views": {
       "grid_default": {
        "hidden": true
       },
       "report_default": {}
      }
     }
    }
   },
   "outputs": [],
   "source": [
    "## Subset Height and Weight per Sport. Region and Name are considered so that every athlete from each country \n",
    "## is only considered once.\n",
    "## To avoid cluttering, only the most recent Summer and Winter games are considered for this visualization\n",
    "df_htwt = df[(df.Year==2014) | (df.Year==2016)]\n",
    "df_ht0 = df_htwt[['Season', 'region', 'Name', 'Sport', 'Height']].sort_values(\n",
    "    by='Height', ascending=False).drop_duplicates().dropna()\n",
    "df_ht = df_ht0.groupby(['Season', 'Sport']).mean().reset_index()\n",
    "df_wt0 = df_htwt[['Season', 'region', 'Name', 'Sport', 'Weight']].sort_values(\n",
    "    by='Weight', ascending=False).drop_duplicates().dropna()\n",
    "df_wt = df_wt0.groupby(['Season', 'Sport']).mean().reset_index()\n",
    "\n",
    "df_htwt_scatter = df_ht.merge(df_wt, on=['Season', 'Sport'], how='inner')"
   ]
  },
  {
   "cell_type": "code",
   "execution_count": 25,
   "metadata": {},
   "outputs": [
    {
     "data": {
      "application/vnd.plotly.v1+json": {
       "data": [
        {
         "hoverinfo": "text",
         "marker": {
          "color": "#ff8000",
          "size": 10
         },
         "mode": "markers",
         "name": "Summer Games",
         "text": [
          "Archery",
          "Athletics",
          "Badminton",
          "Basketball",
          "Beach Volleyball",
          "Boxing",
          "Canoeing",
          "Cycling",
          "Diving",
          "Equestrianism",
          "Fencing",
          "Football",
          "Golf",
          "Gymnastics",
          "Handball",
          "Hockey",
          "Judo",
          "Modern Pentathlon",
          "Rhythmic Gymnastics",
          "Rowing",
          "Rugby Sevens",
          "Sailing",
          "Shooting",
          "Swimming",
          "Synchronized Swimming",
          "Table Tennis",
          "Taekwondo",
          "Tennis",
          "Trampolining",
          "Triathlon",
          "Volleyball",
          "Water Polo",
          "Weightlifting",
          "Wrestling"
         ],
         "type": "scatter",
         "uid": "2d98b8f0-b51b-11e8-be7a-d2577b2f97ca",
         "x": [
          173.5873015873016,
          175.27918781725887,
          174.51176470588234,
          191.932384341637,
          187.375,
          174.37454545454545,
          178.0731707317073,
          174.81692913385828,
          166.71323529411765,
          175.12690355329948,
          177.18852459016392,
          174.48414376321352,
          174.16666666666666,
          161.23469387755102,
          183.6487252124646,
          173.27179487179487,
          173.6816976127321,
          176.45833333333334,
          168.76041666666666,
          185.02578268876613,
          175.36363636363637,
          176.44444444444446,
          173,
          179.9028697571744,
          168.5392156862745,
          172.359756097561,
          179.65079365079364,
          180.3112244897959,
          167.5,
          173.2,
          190.3321554770318,
          185.28682170542635,
          166.71372549019608,
          172.52312138728323
         ],
         "y": [
          72.11111111111111,
          67.66113416320886,
          68.84662576687117,
          87.86785714285715,
          78.58333333333333,
          66.60516605166052,
          76.9390243902439,
          67.74007936507937,
          60.830882352941174,
          67.58883248730965,
          70.74590163934427,
          68.35805084745763,
          71.19444444444444,
          55.78974358974359,
          83.26912181303116,
          68.8025641025641,
          77.18882978723404,
          66.33333333333333,
          50.395833333333336,
          79.94290976058932,
          78.93979933110369,
          71.44109589041096,
          73.76640419947506,
          71.77753303964758,
          55.431372549019606,
          65.2969696969697,
          67.41129032258064,
          72.44897959183673,
          58.71875,
          60.75229357798165,
          80.29328621908127,
          85.44961240310077,
          79.83921568627451,
          78.02890173410404
         ]
        },
        {
         "hoverinfo": "text",
         "marker": {
          "color": "#3399ff",
          "size": 10
         },
         "mode": "markers",
         "name": "Winter Games",
         "text": [
          "Alpine Skiing",
          "Biathlon",
          "Bobsleigh",
          "Cross Country Skiing",
          "Curling",
          "Figure Skating",
          "Freestyle Skiing",
          "Ice Hockey",
          "Luge",
          "Nordic Combined",
          "Short Track Speed Skating",
          "Skeleton",
          "Ski Jumping",
          "Snowboarding",
          "Speed Skating"
         ],
         "type": "scatter",
         "uid": "2d98b8f1-b51b-11e8-91ef-d2577b2f97ca",
         "x": [
          175.38511326860842,
          173.02450980392157,
          182.37426900584796,
          174.65540540540542,
          173.59302325581396,
          168.68456375838926,
          171.92337164750958,
          179.10835214446954,
          178.58333333333334,
          177.57407407407408,
          171.33333333333334,
          176.2608695652174,
          173.28125,
          173.47679324894514,
          175.07386363636363
         ],
         "y": [
          74.77,
          65.075,
          92.10526315789474,
          67.28321678321679,
          70.55555555555556,
          60.13861386138614,
          67.55335968379447,
          81.66365688487585,
          79.30188679245283,
          65.07692307692308,
          64.54285714285714,
          73.82608695652173,
          59.76923076923077,
          69.2618025751073,
          70.50588235294117
         ]
        }
       ],
       "layout": {
        "annotations": [
         {
          "align": "center",
          "arrowwidth": 1,
          "ax": -50,
          "ay": 20,
          "bgcolor": "#fbfcfc",
          "bordercolor": "#090000",
          "borderpad": 1,
          "borderwidth": 2,
          "font": {
           "color": "#34495e",
           "size": 15
          },
          "opacity": 0.8,
          "text": "Basketball",
          "x": 191.7,
          "xref": "x",
          "y": 88,
          "yref": "y"
         },
         {
          "align": "center",
          "arrowwidth": 1,
          "ax": 50,
          "ay": 20,
          "bgcolor": "#fbfcfc",
          "bordercolor": "#090000",
          "borderpad": 1,
          "borderwidth": 2,
          "font": {
           "color": "#34495e",
           "size": 15
          },
          "opacity": 0.8,
          "text": "Volleyball",
          "x": 190.5,
          "xref": "x",
          "y": 80.3,
          "yref": "y"
         },
         {
          "align": "center",
          "arrowwidth": 1,
          "ax": -40,
          "ay": 20,
          "bgcolor": "#fbfcfc",
          "bordercolor": "#090000",
          "borderpad": 1,
          "borderwidth": 2,
          "font": {
           "color": "#34495e",
           "size": 15
          },
          "opacity": 0.8,
          "text": "Bobsleigh",
          "x": 182.2,
          "xref": "x",
          "y": 92.2,
          "yref": "y"
         },
         {
          "align": "center",
          "arrowwidth": 1,
          "ax": 50,
          "ay": 20,
          "bgcolor": "#fbfcfc",
          "bordercolor": "#090000",
          "borderpad": 1,
          "borderwidth": 2,
          "font": {
           "color": "#34495e",
           "size": 15
          },
          "opacity": 0.8,
          "text": "Gymnastics",
          "x": 161.4,
          "xref": "x",
          "y": 56,
          "yref": "y"
         },
         {
          "align": "center",
          "arrowwidth": 1,
          "ax": 80,
          "ay": -20,
          "bgcolor": "#fbfcfc",
          "bordercolor": "#090000",
          "borderpad": 1,
          "borderwidth": 2,
          "font": {
           "color": "#34495e",
           "size": 15
          },
          "opacity": 0.8,
          "text": "Rythmic Gymnastics",
          "x": 169,
          "xref": "x",
          "y": 50.4,
          "yref": "y"
         },
         {
          "align": "center",
          "arrowwidth": 1,
          "ax": -50,
          "ay": -30,
          "bgcolor": "#fbfcfc",
          "bordercolor": "#090000",
          "borderpad": 1,
          "borderwidth": 2,
          "font": {
           "color": "#34495e",
           "size": 15
          },
          "opacity": 0.8,
          "text": "Figure Skating",
          "x": 168.5,
          "xref": "x",
          "y": 60.2,
          "yref": "y"
         }
        ],
        "height": 600,
        "title": "Avg. Height & Weight by Sport in Summer & Winter Olympics",
        "titlefont": {
         "size": 20
        },
        "width": 1000,
        "xaxis": {
         "dtick": 4,
         "showticklabels": true,
         "tickfont": {
          "color": "black",
          "size": 15
         },
         "title": "Height (cms)",
         "titlefont": {
          "size": 18
         }
        },
        "yaxis": {
         "showticklabels": true,
         "tickfont": {
          "color": "black",
          "size": 15
         },
         "title": "Weight (kgs)",
         "titlefont": {
          "size": 18
         }
        }
       }
      },
      "text/html": [
       "<div id=\"20eede36-a826-4fe5-a38d-7b4df3ed67aa\" style=\"height: 600px; width: 1000px;\" class=\"plotly-graph-div\"></div><script type=\"text/javascript\">require([\"plotly\"], function(Plotly) { window.PLOTLYENV=window.PLOTLYENV || {};window.PLOTLYENV.BASE_URL=\"https://plot.ly\";Plotly.newPlot(\"20eede36-a826-4fe5-a38d-7b4df3ed67aa\", [{\"hoverinfo\": \"text\", \"marker\": {\"color\": \"#ff8000\", \"size\": 10}, \"mode\": \"markers\", \"name\": \"Summer Games\", \"text\": [\"Archery\", \"Athletics\", \"Badminton\", \"Basketball\", \"Beach Volleyball\", \"Boxing\", \"Canoeing\", \"Cycling\", \"Diving\", \"Equestrianism\", \"Fencing\", \"Football\", \"Golf\", \"Gymnastics\", \"Handball\", \"Hockey\", \"Judo\", \"Modern Pentathlon\", \"Rhythmic Gymnastics\", \"Rowing\", \"Rugby Sevens\", \"Sailing\", \"Shooting\", \"Swimming\", \"Synchronized Swimming\", \"Table Tennis\", \"Taekwondo\", \"Tennis\", \"Trampolining\", \"Triathlon\", \"Volleyball\", \"Water Polo\", \"Weightlifting\", \"Wrestling\"], \"x\": [173.5873015873016, 175.27918781725887, 174.51176470588234, 191.932384341637, 187.375, 174.37454545454545, 178.0731707317073, 174.81692913385828, 166.71323529411765, 175.12690355329948, 177.18852459016392, 174.48414376321352, 174.16666666666666, 161.23469387755102, 183.6487252124646, 173.27179487179487, 173.6816976127321, 176.45833333333334, 168.76041666666666, 185.02578268876613, 175.36363636363637, 176.44444444444446, 173.0, 179.9028697571744, 168.5392156862745, 172.359756097561, 179.65079365079364, 180.3112244897959, 167.5, 173.2, 190.3321554770318, 185.28682170542635, 166.71372549019608, 172.52312138728323], \"y\": [72.11111111111111, 67.66113416320886, 68.84662576687117, 87.86785714285715, 78.58333333333333, 66.60516605166052, 76.9390243902439, 67.74007936507937, 60.830882352941174, 67.58883248730965, 70.74590163934427, 68.35805084745763, 71.19444444444444, 55.78974358974359, 83.26912181303116, 68.8025641025641, 77.18882978723404, 66.33333333333333, 50.395833333333336, 79.94290976058932, 78.93979933110369, 71.44109589041096, 73.76640419947506, 71.77753303964758, 55.431372549019606, 65.2969696969697, 67.41129032258064, 72.44897959183673, 58.71875, 60.75229357798165, 80.29328621908127, 85.44961240310077, 79.83921568627451, 78.02890173410404], \"type\": \"scatter\", \"uid\": \"2da86dc8-b51b-11e8-a1c5-d2577b2f97ca\"}, {\"hoverinfo\": \"text\", \"marker\": {\"color\": \"#3399ff\", \"size\": 10}, \"mode\": \"markers\", \"name\": \"Winter Games\", \"text\": [\"Alpine Skiing\", \"Biathlon\", \"Bobsleigh\", \"Cross Country Skiing\", \"Curling\", \"Figure Skating\", \"Freestyle Skiing\", \"Ice Hockey\", \"Luge\", \"Nordic Combined\", \"Short Track Speed Skating\", \"Skeleton\", \"Ski Jumping\", \"Snowboarding\", \"Speed Skating\"], \"x\": [175.38511326860842, 173.02450980392157, 182.37426900584796, 174.65540540540542, 173.59302325581396, 168.68456375838926, 171.92337164750958, 179.10835214446954, 178.58333333333334, 177.57407407407408, 171.33333333333334, 176.2608695652174, 173.28125, 173.47679324894514, 175.07386363636363], \"y\": [74.77, 65.075, 92.10526315789474, 67.28321678321679, 70.55555555555556, 60.13861386138614, 67.55335968379447, 81.66365688487585, 79.30188679245283, 65.07692307692308, 64.54285714285714, 73.82608695652173, 59.76923076923077, 69.2618025751073, 70.50588235294117], \"type\": \"scatter\", \"uid\": \"2da86dc9-b51b-11e8-b08b-d2577b2f97ca\"}], {\"annotations\": [{\"align\": \"center\", \"arrowwidth\": 1, \"ax\": -50, \"ay\": 20, \"bgcolor\": \"#fbfcfc\", \"bordercolor\": \"#090000\", \"borderpad\": 1, \"borderwidth\": 2, \"font\": {\"color\": \"#34495e\", \"size\": 15}, \"opacity\": 0.8, \"text\": \"Basketball\", \"x\": 191.7, \"xref\": \"x\", \"y\": 88, \"yref\": \"y\"}, {\"align\": \"center\", \"arrowwidth\": 1, \"ax\": 50, \"ay\": 20, \"bgcolor\": \"#fbfcfc\", \"bordercolor\": \"#090000\", \"borderpad\": 1, \"borderwidth\": 2, \"font\": {\"color\": \"#34495e\", \"size\": 15}, \"opacity\": 0.8, \"text\": \"Volleyball\", \"x\": 190.5, \"xref\": \"x\", \"y\": 80.3, \"yref\": \"y\"}, {\"align\": \"center\", \"arrowwidth\": 1, \"ax\": -40, \"ay\": 20, \"bgcolor\": \"#fbfcfc\", \"bordercolor\": \"#090000\", \"borderpad\": 1, \"borderwidth\": 2, \"font\": {\"color\": \"#34495e\", \"size\": 15}, \"opacity\": 0.8, \"text\": \"Bobsleigh\", \"x\": 182.2, \"xref\": \"x\", \"y\": 92.2, \"yref\": \"y\"}, {\"align\": \"center\", \"arrowwidth\": 1, \"ax\": 50, \"ay\": 20, \"bgcolor\": \"#fbfcfc\", \"bordercolor\": \"#090000\", \"borderpad\": 1, \"borderwidth\": 2, \"font\": {\"color\": \"#34495e\", \"size\": 15}, \"opacity\": 0.8, \"text\": \"Gymnastics\", \"x\": 161.4, \"xref\": \"x\", \"y\": 56, \"yref\": \"y\"}, {\"align\": \"center\", \"arrowwidth\": 1, \"ax\": 80, \"ay\": -20, \"bgcolor\": \"#fbfcfc\", \"bordercolor\": \"#090000\", \"borderpad\": 1, \"borderwidth\": 2, \"font\": {\"color\": \"#34495e\", \"size\": 15}, \"opacity\": 0.8, \"text\": \"Rythmic Gymnastics\", \"x\": 169, \"xref\": \"x\", \"y\": 50.4, \"yref\": \"y\"}, {\"align\": \"center\", \"arrowwidth\": 1, \"ax\": -50, \"ay\": -30, \"bgcolor\": \"#fbfcfc\", \"bordercolor\": \"#090000\", \"borderpad\": 1, \"borderwidth\": 2, \"font\": {\"color\": \"#34495e\", \"size\": 15}, \"opacity\": 0.8, \"text\": \"Figure Skating\", \"x\": 168.5, \"xref\": \"x\", \"y\": 60.2, \"yref\": \"y\"}], \"height\": 600, \"title\": \"Avg. Height & Weight by Sport in Summer & Winter Olympics\", \"titlefont\": {\"size\": 20}, \"width\": 1000, \"xaxis\": {\"dtick\": 4, \"showticklabels\": true, \"tickfont\": {\"color\": \"black\", \"size\": 15}, \"title\": \"Height (cms)\", \"titlefont\": {\"size\": 18}}, \"yaxis\": {\"showticklabels\": true, \"tickfont\": {\"color\": \"black\", \"size\": 15}, \"title\": \"Weight (kgs)\", \"titlefont\": {\"size\": 18}}}, {\"showLink\": true, \"linkText\": \"Export to plot.ly\"})});</script>"
      ],
      "text/vnd.plotly.v1+html": [
       "<div id=\"20eede36-a826-4fe5-a38d-7b4df3ed67aa\" style=\"height: 600px; width: 1000px;\" class=\"plotly-graph-div\"></div><script type=\"text/javascript\">require([\"plotly\"], function(Plotly) { window.PLOTLYENV=window.PLOTLYENV || {};window.PLOTLYENV.BASE_URL=\"https://plot.ly\";Plotly.newPlot(\"20eede36-a826-4fe5-a38d-7b4df3ed67aa\", [{\"hoverinfo\": \"text\", \"marker\": {\"color\": \"#ff8000\", \"size\": 10}, \"mode\": \"markers\", \"name\": \"Summer Games\", \"text\": [\"Archery\", \"Athletics\", \"Badminton\", \"Basketball\", \"Beach Volleyball\", \"Boxing\", \"Canoeing\", \"Cycling\", \"Diving\", \"Equestrianism\", \"Fencing\", \"Football\", \"Golf\", \"Gymnastics\", \"Handball\", \"Hockey\", \"Judo\", \"Modern Pentathlon\", \"Rhythmic Gymnastics\", \"Rowing\", \"Rugby Sevens\", \"Sailing\", \"Shooting\", \"Swimming\", \"Synchronized Swimming\", \"Table Tennis\", \"Taekwondo\", \"Tennis\", \"Trampolining\", \"Triathlon\", \"Volleyball\", \"Water Polo\", \"Weightlifting\", \"Wrestling\"], \"x\": [173.5873015873016, 175.27918781725887, 174.51176470588234, 191.932384341637, 187.375, 174.37454545454545, 178.0731707317073, 174.81692913385828, 166.71323529411765, 175.12690355329948, 177.18852459016392, 174.48414376321352, 174.16666666666666, 161.23469387755102, 183.6487252124646, 173.27179487179487, 173.6816976127321, 176.45833333333334, 168.76041666666666, 185.02578268876613, 175.36363636363637, 176.44444444444446, 173.0, 179.9028697571744, 168.5392156862745, 172.359756097561, 179.65079365079364, 180.3112244897959, 167.5, 173.2, 190.3321554770318, 185.28682170542635, 166.71372549019608, 172.52312138728323], \"y\": [72.11111111111111, 67.66113416320886, 68.84662576687117, 87.86785714285715, 78.58333333333333, 66.60516605166052, 76.9390243902439, 67.74007936507937, 60.830882352941174, 67.58883248730965, 70.74590163934427, 68.35805084745763, 71.19444444444444, 55.78974358974359, 83.26912181303116, 68.8025641025641, 77.18882978723404, 66.33333333333333, 50.395833333333336, 79.94290976058932, 78.93979933110369, 71.44109589041096, 73.76640419947506, 71.77753303964758, 55.431372549019606, 65.2969696969697, 67.41129032258064, 72.44897959183673, 58.71875, 60.75229357798165, 80.29328621908127, 85.44961240310077, 79.83921568627451, 78.02890173410404], \"type\": \"scatter\", \"uid\": \"2da86dc8-b51b-11e8-a1c5-d2577b2f97ca\"}, {\"hoverinfo\": \"text\", \"marker\": {\"color\": \"#3399ff\", \"size\": 10}, \"mode\": \"markers\", \"name\": \"Winter Games\", \"text\": [\"Alpine Skiing\", \"Biathlon\", \"Bobsleigh\", \"Cross Country Skiing\", \"Curling\", \"Figure Skating\", \"Freestyle Skiing\", \"Ice Hockey\", \"Luge\", \"Nordic Combined\", \"Short Track Speed Skating\", \"Skeleton\", \"Ski Jumping\", \"Snowboarding\", \"Speed Skating\"], \"x\": [175.38511326860842, 173.02450980392157, 182.37426900584796, 174.65540540540542, 173.59302325581396, 168.68456375838926, 171.92337164750958, 179.10835214446954, 178.58333333333334, 177.57407407407408, 171.33333333333334, 176.2608695652174, 173.28125, 173.47679324894514, 175.07386363636363], \"y\": [74.77, 65.075, 92.10526315789474, 67.28321678321679, 70.55555555555556, 60.13861386138614, 67.55335968379447, 81.66365688487585, 79.30188679245283, 65.07692307692308, 64.54285714285714, 73.82608695652173, 59.76923076923077, 69.2618025751073, 70.50588235294117], \"type\": \"scatter\", \"uid\": \"2da86dc9-b51b-11e8-b08b-d2577b2f97ca\"}], {\"annotations\": [{\"align\": \"center\", \"arrowwidth\": 1, \"ax\": -50, \"ay\": 20, \"bgcolor\": \"#fbfcfc\", \"bordercolor\": \"#090000\", \"borderpad\": 1, \"borderwidth\": 2, \"font\": {\"color\": \"#34495e\", \"size\": 15}, \"opacity\": 0.8, \"text\": \"Basketball\", \"x\": 191.7, \"xref\": \"x\", \"y\": 88, \"yref\": \"y\"}, {\"align\": \"center\", \"arrowwidth\": 1, \"ax\": 50, \"ay\": 20, \"bgcolor\": \"#fbfcfc\", \"bordercolor\": \"#090000\", \"borderpad\": 1, \"borderwidth\": 2, \"font\": {\"color\": \"#34495e\", \"size\": 15}, \"opacity\": 0.8, \"text\": \"Volleyball\", \"x\": 190.5, \"xref\": \"x\", \"y\": 80.3, \"yref\": \"y\"}, {\"align\": \"center\", \"arrowwidth\": 1, \"ax\": -40, \"ay\": 20, \"bgcolor\": \"#fbfcfc\", \"bordercolor\": \"#090000\", \"borderpad\": 1, \"borderwidth\": 2, \"font\": {\"color\": \"#34495e\", \"size\": 15}, \"opacity\": 0.8, \"text\": \"Bobsleigh\", \"x\": 182.2, \"xref\": \"x\", \"y\": 92.2, \"yref\": \"y\"}, {\"align\": \"center\", \"arrowwidth\": 1, \"ax\": 50, \"ay\": 20, \"bgcolor\": \"#fbfcfc\", \"bordercolor\": \"#090000\", \"borderpad\": 1, \"borderwidth\": 2, \"font\": {\"color\": \"#34495e\", \"size\": 15}, \"opacity\": 0.8, \"text\": \"Gymnastics\", \"x\": 161.4, \"xref\": \"x\", \"y\": 56, \"yref\": \"y\"}, {\"align\": \"center\", \"arrowwidth\": 1, \"ax\": 80, \"ay\": -20, \"bgcolor\": \"#fbfcfc\", \"bordercolor\": \"#090000\", \"borderpad\": 1, \"borderwidth\": 2, \"font\": {\"color\": \"#34495e\", \"size\": 15}, \"opacity\": 0.8, \"text\": \"Rythmic Gymnastics\", \"x\": 169, \"xref\": \"x\", \"y\": 50.4, \"yref\": \"y\"}, {\"align\": \"center\", \"arrowwidth\": 1, \"ax\": -50, \"ay\": -30, \"bgcolor\": \"#fbfcfc\", \"bordercolor\": \"#090000\", \"borderpad\": 1, \"borderwidth\": 2, \"font\": {\"color\": \"#34495e\", \"size\": 15}, \"opacity\": 0.8, \"text\": \"Figure Skating\", \"x\": 168.5, \"xref\": \"x\", \"y\": 60.2, \"yref\": \"y\"}], \"height\": 600, \"title\": \"Avg. Height & Weight by Sport in Summer & Winter Olympics\", \"titlefont\": {\"size\": 20}, \"width\": 1000, \"xaxis\": {\"dtick\": 4, \"showticklabels\": true, \"tickfont\": {\"color\": \"black\", \"size\": 15}, \"title\": \"Height (cms)\", \"titlefont\": {\"size\": 18}}, \"yaxis\": {\"showticklabels\": true, \"tickfont\": {\"color\": \"black\", \"size\": 15}, \"title\": \"Weight (kgs)\", \"titlefont\": {\"size\": 18}}}, {\"showLink\": true, \"linkText\": \"Export to plot.ly\"})});</script>"
      ]
     },
     "metadata": {},
     "output_type": "display_data"
    }
   ],
   "source": [
    "data = [\n",
    "    go.Scatter(mode='markers', x=df_htwt_scatter[df_htwt_scatter.Season=='Summer']['Height'], \n",
    "               y=df_htwt_scatter[df_htwt_scatter.Season=='Summer']['Weight'], \n",
    "               text=df_htwt_scatter[df_htwt_scatter.Season=='Summer']['Sport'], hoverinfo='text', \n",
    "               marker=dict(color='#ff8000', size=10), \n",
    "               name='Summer Games'\n",
    "              ), \n",
    "    go.Scatter(mode='markers', x=df_htwt_scatter[df_htwt_scatter.Season=='Winter']['Height'], \n",
    "               y=df_htwt_scatter[df_htwt_scatter.Season=='Winter']['Weight'], \n",
    "               text=df_htwt_scatter[df_htwt_scatter.Season=='Winter']['Sport'], hoverinfo='text', \n",
    "               marker=dict(color='#3399ff', size=10), \n",
    "               name='Winter Games'\n",
    "              )]\n",
    "\n",
    "annotations3 = [dict(x=191.7, y=88, xref='x', yref='y', text='Basketball', ax=-50, ay=20,\n",
    "                    font=dict(size=15, color='#34495e'), align='center', arrowwidth=1, bordercolor='#090000', \n",
    "                    borderwidth=2, borderpad=1, bgcolor='#fbfcfc', opacity=0.8), \n",
    "                dict(x=190.5, y=80.3, xref='x', yref='y', text='Volleyball', ax=50, ay=20,\n",
    "                    font=dict(size=15, color='#34495e'), align='center', arrowwidth=1, bordercolor='#090000', \n",
    "                    borderwidth=2, borderpad=1, bgcolor='#fbfcfc', opacity=0.8), \n",
    "                dict(x=182.2, y=92.2, xref='x', yref='y', text='Bobsleigh', ax=-40, ay=20,\n",
    "                    font=dict(size=15, color='#34495e'), align='center', arrowwidth=1, bordercolor='#090000', \n",
    "                    borderwidth=2, borderpad=1, bgcolor='#fbfcfc', opacity=0.8), \n",
    "                dict(x=161.4, y=56, xref='x', yref='y', text='Gymnastics', ax=50, ay=20,\n",
    "                    font=dict(size=15, color='#34495e'), align='center', arrowwidth=1, bordercolor='#090000', \n",
    "                    borderwidth=2, borderpad=1, bgcolor='#fbfcfc', opacity=0.8), \n",
    "                dict(x=169, y=50.4, xref='x', yref='y', text='Rythmic Gymnastics', ax=80, ay=-20,\n",
    "                    font=dict(size=15, color='#34495e'), align='center', arrowwidth=1, bordercolor='#090000', \n",
    "                    borderwidth=2, borderpad=1, bgcolor='#fbfcfc', opacity=0.8), \n",
    "                dict(x=168.5, y=60.2, xref='x', yref='y', text='Figure Skating', ax=-50, ay=-30,\n",
    "                    font=dict(size=15, color='#34495e'), align='center', arrowwidth=1, bordercolor='#090000', \n",
    "                    borderwidth=2, borderpad=1, bgcolor='#fbfcfc', opacity=0.8)]\n",
    "\n",
    "layout7 = dict(height=600, width=1000, title='Avg. Height & Weight by Sport in Summer & Winter Olympics', \n",
    "               titlefont=dict(size=20), annotations=annotations3, \n",
    "               xaxis=dict(title='Height (cms)', titlefont=dict(size=18), \n",
    "                         showticklabels=True, tickfont=dict(size=15, color='black'), dtick=4), \n",
    "               yaxis=dict(title='Weight (kgs)', titlefont=dict(size=18), showticklabels=True, \n",
    "                               tickfont=dict(size=15, color='black')))\n",
    "\n",
    "fig7 = dict(data=data, layout=layout7)\n",
    "plotly.offline.iplot(fig7)"
   ]
  },
  {
   "cell_type": "markdown",
   "metadata": {
    "extensions": {
     "jupyter_dashboards": {
      "version": 1,
      "views": {
       "grid_default": {
        "col": 0,
        "height": 6,
        "hidden": false,
        "row": 147,
        "width": 12
       },
       "report_default": {}
      }
     }
    }
   },
   "source": [
    "<b>Summer Olympics</b><br>\n",
    "The tallest athletes play Basketball, which is not surprising.Volleyball and Beach Volleyball players are next in line. \n",
    "Also, based on median values the shortest athletes are Gymnasts and Divers.<br> \n",
    "The heaviest athletes are again from Basketball teams. Handball players are not far behind. \n",
    "Synchronized swimmers and gymnasts on an average are lighter than athletes who play other sports. "
   ]
  },
  {
   "cell_type": "markdown",
   "metadata": {},
   "source": [
    "<b>Winter Olympics</b><br>\n",
    "Bobsleigh teams have the tallest athletes on average followed by Ice Hockey teams.The shortest athletes are from the Figure Skating team. Again, Bobsleigh teams have the heaviest athletes on average followed by Ice Hockey teams.Ski jumpers and Figure skaters are relatively lighter when compared to athletes from other teams. "
   ]
  },
  {
   "cell_type": "markdown",
   "metadata": {
    "extensions": {
     "jupyter_dashboards": {
      "version": 1,
      "views": {
       "grid_default": {
        "col": 0,
        "height": 4,
        "hidden": false,
        "row": 159,
        "width": 12
       },
       "report_default": {}
      }
     }
    }
   },
   "source": [
    "The plot definitely points towards the fact that athletes who play certain sports like Basketball, Volleyball, Bobsleighing and Ice Hockey tend to be bigger in size than the rest. On the other hand Gymnasts, Synchronized swimmers and Figure skaters tend to be shorter and lighter. Plus, athletes from Summer Olympics definitely have a longer range as far as height and weight are considered."
   ]
  }
 ],
 "metadata": {
  "extensions": {
   "jupyter_dashboards": {
    "activeView": "grid_default",
    "version": 1,
    "views": {
     "grid_default": {
      "cellMargin": 10,
      "defaultCellHeight": 20,
      "maxColumns": 12,
      "name": "grid",
      "type": "grid"
     },
     "report_default": {
      "name": "report",
      "type": "report"
     }
    }
   }
  },
  "kernelspec": {
   "display_name": "Python 3",
   "language": "python",
   "name": "python3"
  },
  "language_info": {
   "codemirror_mode": {
    "name": "ipython",
    "version": 3
   },
   "file_extension": ".py",
   "mimetype": "text/x-python",
   "name": "python",
   "nbconvert_exporter": "python",
   "pygments_lexer": "ipython3",
   "version": "3.6.5"
  },
  "widgets": {
   "application/vnd.jupyter.widget-state+json": {
    "state": {
     "00f256be5ef041a494037c4cd9f42d49": {
      "model_module": "@jupyter-widgets/base",
      "model_module_version": "1.1.0",
      "model_name": "LayoutModel",
      "state": {
       "_model_module_version": "1.1.0",
       "_view_module_version": "1.1.0",
       "grid_area": null,
       "grid_auto_columns": null,
       "grid_auto_flow": null,
       "grid_auto_rows": null,
       "grid_column": null,
       "grid_gap": null,
       "grid_row": null,
       "grid_template_areas": null,
       "grid_template_columns": null,
       "grid_template_rows": null
      }
     },
     "0d5ed4d947c7448292586f4f2ee79829": {
      "model_module": "@jupyter-widgets/base",
      "model_module_version": "1.1.0",
      "model_name": "LayoutModel",
      "state": {
       "_model_module_version": "1.1.0",
       "_view_module_version": "1.1.0",
       "grid_area": null,
       "grid_auto_columns": null,
       "grid_auto_flow": null,
       "grid_auto_rows": null,
       "grid_column": null,
       "grid_gap": null,
       "grid_row": null,
       "grid_template_areas": null,
       "grid_template_columns": null,
       "grid_template_rows": null
      }
     },
     "0d8a1cdd4ac7479babbf2730c7f041bf": {
      "model_module": "@jupyter-widgets/base",
      "model_module_version": "1.1.0",
      "model_name": "LayoutModel",
      "state": {
       "_model_module_version": "1.1.0",
       "_view_module_version": "1.1.0",
       "grid_area": null,
       "grid_auto_columns": null,
       "grid_auto_flow": null,
       "grid_auto_rows": null,
       "grid_column": null,
       "grid_gap": null,
       "grid_row": null,
       "grid_template_areas": null,
       "grid_template_columns": null,
       "grid_template_rows": null
      }
     },
     "0e11628e411b407bb7a21750f13d5e5d": {
      "model_module": "@jupyter-widgets/output",
      "model_module_version": "1.0.0",
      "model_name": "OutputModel",
      "state": {
       "layout": "IPY_MODEL_a525d77fd26c4a4a862cd11d6dff38bb",
       "outputs": [
        {
         "ename": "NameError",
         "evalue": "name 'ax2' is not defined",
         "output_type": "error",
         "traceback": [
          "\u001b[1;31m---------------------------------------------------------------------------\u001b[0m",
          "\u001b[1;31mNameError\u001b[0m                                 Traceback (most recent call last)",
          "\u001b[1;32m~\\AppData\\Local\\Programs\\Python\\Python36\\lib\\site-packages\\ipywidgets\\widgets\\interaction.py\u001b[0m in \u001b[0;36mupdate\u001b[1;34m(self, *args)\u001b[0m\n\u001b[0;32m    249\u001b[0m                     \u001b[0mvalue\u001b[0m \u001b[1;33m=\u001b[0m \u001b[0mwidget\u001b[0m\u001b[1;33m.\u001b[0m\u001b[0mget_interact_value\u001b[0m\u001b[1;33m(\u001b[0m\u001b[1;33m)\u001b[0m\u001b[1;33m\u001b[0m\u001b[0m\n\u001b[0;32m    250\u001b[0m                     \u001b[0mself\u001b[0m\u001b[1;33m.\u001b[0m\u001b[0mkwargs\u001b[0m\u001b[1;33m[\u001b[0m\u001b[0mwidget\u001b[0m\u001b[1;33m.\u001b[0m\u001b[0m_kwarg\u001b[0m\u001b[1;33m]\u001b[0m \u001b[1;33m=\u001b[0m \u001b[0mvalue\u001b[0m\u001b[1;33m\u001b[0m\u001b[0m\n\u001b[1;32m--> 251\u001b[1;33m                 \u001b[0mself\u001b[0m\u001b[1;33m.\u001b[0m\u001b[0mresult\u001b[0m \u001b[1;33m=\u001b[0m \u001b[0mself\u001b[0m\u001b[1;33m.\u001b[0m\u001b[0mf\u001b[0m\u001b[1;33m(\u001b[0m\u001b[1;33m**\u001b[0m\u001b[0mself\u001b[0m\u001b[1;33m.\u001b[0m\u001b[0mkwargs\u001b[0m\u001b[1;33m)\u001b[0m\u001b[1;33m\u001b[0m\u001b[0m\n\u001b[0m\u001b[0;32m    252\u001b[0m                 \u001b[0mshow_inline_matplotlib_plots\u001b[0m\u001b[1;33m(\u001b[0m\u001b[1;33m)\u001b[0m\u001b[1;33m\u001b[0m\u001b[0m\n\u001b[0;32m    253\u001b[0m                 \u001b[1;32mif\u001b[0m \u001b[0mself\u001b[0m\u001b[1;33m.\u001b[0m\u001b[0mauto_display\u001b[0m \u001b[1;32mand\u001b[0m \u001b[0mself\u001b[0m\u001b[1;33m.\u001b[0m\u001b[0mresult\u001b[0m \u001b[1;32mis\u001b[0m \u001b[1;32mnot\u001b[0m \u001b[1;32mNone\u001b[0m\u001b[1;33m:\u001b[0m\u001b[1;33m\u001b[0m\u001b[0m\n",
          "\u001b[1;32m<ipython-input-31-bbf454ec2514>\u001b[0m in \u001b[0;36mplotit\u001b[1;34m(Season)\u001b[0m\n\u001b[0;32m      8\u001b[0m     \u001b[1;32melse\u001b[0m\u001b[1;33m:\u001b[0m\u001b[1;33m\u001b[0m\u001b[0m\n\u001b[0;32m      9\u001b[0m         \u001b[0mfig\u001b[0m\u001b[1;33m,\u001b[0m \u001b[0max\u001b[0m \u001b[1;33m=\u001b[0m \u001b[0mplt\u001b[0m\u001b[1;33m.\u001b[0m\u001b[0msubplots\u001b[0m\u001b[1;33m(\u001b[0m\u001b[0mfigsize\u001b[0m\u001b[1;33m=\u001b[0m\u001b[1;33m(\u001b[0m\u001b[1;36m15\u001b[0m\u001b[1;33m,\u001b[0m \u001b[1;36m12\u001b[0m\u001b[1;33m)\u001b[0m\u001b[1;33m)\u001b[0m\u001b[1;33m\u001b[0m\u001b[0m\n\u001b[1;32m---> 10\u001b[1;33m         \u001b[0msns\u001b[0m\u001b[1;33m.\u001b[0m\u001b[0mboxplot\u001b[0m\u001b[1;33m(\u001b[0m\u001b[0mx\u001b[0m\u001b[1;33m=\u001b[0m\u001b[0mdf_height_winter\u001b[0m\u001b[1;33m.\u001b[0m\u001b[0mHeight\u001b[0m\u001b[1;33m,\u001b[0m \u001b[0my\u001b[0m\u001b[1;33m=\u001b[0m\u001b[0mdf_height_winter\u001b[0m\u001b[1;33m.\u001b[0m\u001b[0mSport\u001b[0m\u001b[1;33m,\u001b[0m \u001b[0mdata\u001b[0m\u001b[1;33m=\u001b[0m\u001b[0mdf_height_winter\u001b[0m\u001b[1;33m,\u001b[0m \u001b[0mcolor\u001b[0m\u001b[1;33m=\u001b[0m\u001b[1;34m'dodgerblue'\u001b[0m\u001b[1;33m,\u001b[0m \u001b[0max\u001b[0m\u001b[1;33m=\u001b[0m\u001b[0max2\u001b[0m\u001b[1;33m)\u001b[0m\u001b[1;33m\u001b[0m\u001b[0m\n\u001b[0m\u001b[0;32m     11\u001b[0m         \u001b[0max2\u001b[0m\u001b[1;33m.\u001b[0m\u001b[0maxes\u001b[0m\u001b[1;33m.\u001b[0m\u001b[0mset_title\u001b[0m\u001b[1;33m(\u001b[0m\u001b[1;34m'Distribution of Height by Sport in Winter Olympics '\u001b[0m\u001b[1;33m,\u001b[0m \u001b[0mfontsize\u001b[0m\u001b[1;33m=\u001b[0m\u001b[1;36m20\u001b[0m\u001b[1;33m,\u001b[0m \u001b[0my\u001b[0m\u001b[1;33m=\u001b[0m\u001b[1;36m1.015\u001b[0m\u001b[1;33m)\u001b[0m\u001b[1;33m\u001b[0m\u001b[0m\n\u001b[0;32m     12\u001b[0m         \u001b[0max2\u001b[0m\u001b[1;33m.\u001b[0m\u001b[0mset\u001b[0m\u001b[1;33m(\u001b[0m\u001b[1;34m'Distribution of height (cms)'\u001b[0m\u001b[1;33m,\u001b[0m \u001b[0mylabel\u001b[0m\u001b[1;33m=\u001b[0m\u001b[1;34m'Sporting Events'\u001b[0m\u001b[1;33m,\u001b[0m \u001b[0mfontsize\u001b[0m\u001b[1;33m=\u001b[0m\u001b[1;36m18\u001b[0m\u001b[1;33m,\u001b[0m \u001b[0mlabelpad\u001b[0m\u001b[1;33m=\u001b[0m\u001b[1;36m16\u001b[0m\u001b[1;33m)\u001b[0m\u001b[1;33m\u001b[0m\u001b[0m\n",
          "\u001b[1;31mNameError\u001b[0m: name 'ax2' is not defined"
         ]
        }
       ]
      }
     },
     "0fa814e30fa44426b9f8bda58a903585": {
      "model_module": "@jupyter-widgets/output",
      "model_module_version": "1.0.0",
      "model_name": "OutputModel",
      "state": {
       "layout": "IPY_MODEL_fe03a75232164233bd613c6f1c1390ef",
       "outputs": [
        {
         "data": {
          "image/png": "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\n",
          "text/plain": "<Figure size 1080x576 with 1 Axes>"
         },
         "metadata": {},
         "output_type": "display_data"
        }
       ]
      }
     },
     "10f81119f1904f1ab16ba5f72311a80a": {
      "model_module": "@jupyter-widgets/base",
      "model_module_version": "1.1.0",
      "model_name": "LayoutModel",
      "state": {
       "_model_module_version": "1.1.0",
       "_view_module_version": "1.1.0",
       "grid_area": null,
       "grid_auto_columns": null,
       "grid_auto_flow": null,
       "grid_auto_rows": null,
       "grid_column": null,
       "grid_gap": null,
       "grid_row": null,
       "grid_template_areas": null,
       "grid_template_columns": null,
       "grid_template_rows": null
      }
     },
     "125b6744a3ff43ea94a09bbb96dbb2e1": {
      "model_module": "@jupyter-widgets/output",
      "model_module_version": "1.0.0",
      "model_name": "OutputModel",
      "state": {
       "layout": "IPY_MODEL_b494d053bd7d4ca9aa28d6250641abd3",
       "outputs": [
        {
         "ename": "UnboundLocalError",
         "evalue": "local variable 'ax2' referenced before assignment",
         "output_type": "error",
         "traceback": [
          "\u001b[1;31m---------------------------------------------------------------------------\u001b[0m",
          "\u001b[1;31mUnboundLocalError\u001b[0m                         Traceback (most recent call last)",
          "\u001b[1;32m~\\AppData\\Local\\Programs\\Python\\Python36\\lib\\site-packages\\ipywidgets\\widgets\\interaction.py\u001b[0m in \u001b[0;36mupdate\u001b[1;34m(self, *args)\u001b[0m\n\u001b[0;32m    249\u001b[0m                     \u001b[0mvalue\u001b[0m \u001b[1;33m=\u001b[0m \u001b[0mwidget\u001b[0m\u001b[1;33m.\u001b[0m\u001b[0mget_interact_value\u001b[0m\u001b[1;33m(\u001b[0m\u001b[1;33m)\u001b[0m\u001b[1;33m\u001b[0m\u001b[0m\n\u001b[0;32m    250\u001b[0m                     \u001b[0mself\u001b[0m\u001b[1;33m.\u001b[0m\u001b[0mkwargs\u001b[0m\u001b[1;33m[\u001b[0m\u001b[0mwidget\u001b[0m\u001b[1;33m.\u001b[0m\u001b[0m_kwarg\u001b[0m\u001b[1;33m]\u001b[0m \u001b[1;33m=\u001b[0m \u001b[0mvalue\u001b[0m\u001b[1;33m\u001b[0m\u001b[0m\n\u001b[1;32m--> 251\u001b[1;33m                 \u001b[0mself\u001b[0m\u001b[1;33m.\u001b[0m\u001b[0mresult\u001b[0m \u001b[1;33m=\u001b[0m \u001b[0mself\u001b[0m\u001b[1;33m.\u001b[0m\u001b[0mf\u001b[0m\u001b[1;33m(\u001b[0m\u001b[1;33m**\u001b[0m\u001b[0mself\u001b[0m\u001b[1;33m.\u001b[0m\u001b[0mkwargs\u001b[0m\u001b[1;33m)\u001b[0m\u001b[1;33m\u001b[0m\u001b[0m\n\u001b[0m\u001b[0;32m    252\u001b[0m                 \u001b[0mshow_inline_matplotlib_plots\u001b[0m\u001b[1;33m(\u001b[0m\u001b[1;33m)\u001b[0m\u001b[1;33m\u001b[0m\u001b[0m\n\u001b[0;32m    253\u001b[0m                 \u001b[1;32mif\u001b[0m \u001b[0mself\u001b[0m\u001b[1;33m.\u001b[0m\u001b[0mauto_display\u001b[0m \u001b[1;32mand\u001b[0m \u001b[0mself\u001b[0m\u001b[1;33m.\u001b[0m\u001b[0mresult\u001b[0m \u001b[1;32mis\u001b[0m \u001b[1;32mnot\u001b[0m \u001b[1;32mNone\u001b[0m\u001b[1;33m:\u001b[0m\u001b[1;33m\u001b[0m\u001b[0m\n",
          "\u001b[1;32m<ipython-input-33-2b8a0706eb61>\u001b[0m in \u001b[0;36mplotit\u001b[1;34m(Season)\u001b[0m\n\u001b[0;32m      7\u001b[0m         \u001b[1;32mreturn\u001b[0m \u001b[0max1\u001b[0m\u001b[1;33m;\u001b[0m\u001b[1;33m\u001b[0m\u001b[0m\n\u001b[0;32m      8\u001b[0m     \u001b[1;32melse\u001b[0m\u001b[1;33m:\u001b[0m\u001b[1;33m\u001b[0m\u001b[0m\n\u001b[1;32m----> 9\u001b[1;33m         \u001b[0msns\u001b[0m\u001b[1;33m.\u001b[0m\u001b[0mboxplot\u001b[0m\u001b[1;33m(\u001b[0m\u001b[0mx\u001b[0m\u001b[1;33m=\u001b[0m\u001b[0mdf_height_winter\u001b[0m\u001b[1;33m.\u001b[0m\u001b[0mHeight\u001b[0m\u001b[1;33m,\u001b[0m \u001b[0my\u001b[0m\u001b[1;33m=\u001b[0m\u001b[0mdf_height_winter\u001b[0m\u001b[1;33m.\u001b[0m\u001b[0mSport\u001b[0m\u001b[1;33m,\u001b[0m \u001b[0mdata\u001b[0m\u001b[1;33m=\u001b[0m\u001b[0mdf_height_winter\u001b[0m\u001b[1;33m,\u001b[0m \u001b[0mcolor\u001b[0m\u001b[1;33m=\u001b[0m\u001b[1;34m'dodgerblue'\u001b[0m\u001b[1;33m,\u001b[0m \u001b[0max\u001b[0m\u001b[1;33m=\u001b[0m\u001b[0max2\u001b[0m\u001b[1;33m)\u001b[0m\u001b[1;33m\u001b[0m\u001b[0m\n\u001b[0m\u001b[0;32m     10\u001b[0m         \u001b[0mfig\u001b[0m\u001b[1;33m,\u001b[0m \u001b[0max2\u001b[0m \u001b[1;33m=\u001b[0m \u001b[0mplt\u001b[0m\u001b[1;33m.\u001b[0m\u001b[0msubplots\u001b[0m\u001b[1;33m(\u001b[0m\u001b[0mfigsize\u001b[0m\u001b[1;33m=\u001b[0m\u001b[1;33m(\u001b[0m\u001b[1;36m15\u001b[0m\u001b[1;33m,\u001b[0m \u001b[1;36m12\u001b[0m\u001b[1;33m)\u001b[0m\u001b[1;33m)\u001b[0m\u001b[1;33m\u001b[0m\u001b[0m\n\u001b[0;32m     11\u001b[0m         \u001b[0max2\u001b[0m\u001b[1;33m.\u001b[0m\u001b[0maxes\u001b[0m\u001b[1;33m.\u001b[0m\u001b[0mset_title\u001b[0m\u001b[1;33m(\u001b[0m\u001b[1;34m'Distribution of Height by Sport in Winter Olympics '\u001b[0m\u001b[1;33m,\u001b[0m \u001b[0mfontsize\u001b[0m\u001b[1;33m=\u001b[0m\u001b[1;36m20\u001b[0m\u001b[1;33m,\u001b[0m \u001b[0my\u001b[0m\u001b[1;33m=\u001b[0m\u001b[1;36m1.015\u001b[0m\u001b[1;33m)\u001b[0m\u001b[1;33m\u001b[0m\u001b[0m\n",
          "\u001b[1;31mUnboundLocalError\u001b[0m: local variable 'ax2' referenced before assignment"
         ]
        }
       ]
      }
     },
     "1f86764b98d445df94c6bacd9e4f8c37": {
      "model_module": "@jupyter-widgets/controls",
      "model_module_version": "1.4.0",
      "model_name": "VBoxModel",
      "state": {
       "_dom_classes": [
        "widget-interact"
       ],
       "_model_module_version": "1.4.0",
       "_view_module_version": "1.4.0",
       "children": [
        "IPY_MODEL_ace4e57ec6de46a0be7c6e9e29645ba5",
        "IPY_MODEL_86e81262afb947c29fa9db3b3bcfe814"
       ],
       "layout": "IPY_MODEL_385c914e1ce844bfb49212461ddca7c1"
      }
     },
     "21e748dd8f3b4e4885a7fdb4d0cd4159": {
      "model_module": "@jupyter-widgets/output",
      "model_module_version": "1.0.0",
      "model_name": "OutputModel",
      "state": {
       "layout": "IPY_MODEL_7373574d0159405298db9c754e9ec677",
       "outputs": [
        {
         "ename": "TypeError",
         "evalue": "set() takes 1 positional argument but 2 were given",
         "output_type": "error",
         "traceback": [
          "\u001b[1;31m---------------------------------------------------------------------------\u001b[0m",
          "\u001b[1;31mTypeError\u001b[0m                                 Traceback (most recent call last)",
          "\u001b[1;32m~\\AppData\\Local\\Programs\\Python\\Python36\\lib\\site-packages\\ipywidgets\\widgets\\interaction.py\u001b[0m in \u001b[0;36mupdate\u001b[1;34m(self, *args)\u001b[0m\n\u001b[0;32m    249\u001b[0m                     \u001b[0mvalue\u001b[0m \u001b[1;33m=\u001b[0m \u001b[0mwidget\u001b[0m\u001b[1;33m.\u001b[0m\u001b[0mget_interact_value\u001b[0m\u001b[1;33m(\u001b[0m\u001b[1;33m)\u001b[0m\u001b[1;33m\u001b[0m\u001b[0m\n\u001b[0;32m    250\u001b[0m                     \u001b[0mself\u001b[0m\u001b[1;33m.\u001b[0m\u001b[0mkwargs\u001b[0m\u001b[1;33m[\u001b[0m\u001b[0mwidget\u001b[0m\u001b[1;33m.\u001b[0m\u001b[0m_kwarg\u001b[0m\u001b[1;33m]\u001b[0m \u001b[1;33m=\u001b[0m \u001b[0mvalue\u001b[0m\u001b[1;33m\u001b[0m\u001b[0m\n\u001b[1;32m--> 251\u001b[1;33m                 \u001b[0mself\u001b[0m\u001b[1;33m.\u001b[0m\u001b[0mresult\u001b[0m \u001b[1;33m=\u001b[0m \u001b[0mself\u001b[0m\u001b[1;33m.\u001b[0m\u001b[0mf\u001b[0m\u001b[1;33m(\u001b[0m\u001b[1;33m**\u001b[0m\u001b[0mself\u001b[0m\u001b[1;33m.\u001b[0m\u001b[0mkwargs\u001b[0m\u001b[1;33m)\u001b[0m\u001b[1;33m\u001b[0m\u001b[0m\n\u001b[0m\u001b[0;32m    252\u001b[0m                 \u001b[0mshow_inline_matplotlib_plots\u001b[0m\u001b[1;33m(\u001b[0m\u001b[1;33m)\u001b[0m\u001b[1;33m\u001b[0m\u001b[0m\n\u001b[0;32m    253\u001b[0m                 \u001b[1;32mif\u001b[0m \u001b[0mself\u001b[0m\u001b[1;33m.\u001b[0m\u001b[0mauto_display\u001b[0m \u001b[1;32mand\u001b[0m \u001b[0mself\u001b[0m\u001b[1;33m.\u001b[0m\u001b[0mresult\u001b[0m \u001b[1;32mis\u001b[0m \u001b[1;32mnot\u001b[0m \u001b[1;32mNone\u001b[0m\u001b[1;33m:\u001b[0m\u001b[1;33m\u001b[0m\u001b[0m\n",
          "\u001b[1;32m<ipython-input-32-7fe2ca09080e>\u001b[0m in \u001b[0;36mplotit\u001b[1;34m(Season)\u001b[0m\n\u001b[0;32m     10\u001b[0m         \u001b[0msns\u001b[0m\u001b[1;33m.\u001b[0m\u001b[0mboxplot\u001b[0m\u001b[1;33m(\u001b[0m\u001b[0mx\u001b[0m\u001b[1;33m=\u001b[0m\u001b[0mdf_height_winter\u001b[0m\u001b[1;33m.\u001b[0m\u001b[0mHeight\u001b[0m\u001b[1;33m,\u001b[0m \u001b[0my\u001b[0m\u001b[1;33m=\u001b[0m\u001b[0mdf_height_winter\u001b[0m\u001b[1;33m.\u001b[0m\u001b[0mSport\u001b[0m\u001b[1;33m,\u001b[0m \u001b[0mdata\u001b[0m\u001b[1;33m=\u001b[0m\u001b[0mdf_height_winter\u001b[0m\u001b[1;33m,\u001b[0m \u001b[0mcolor\u001b[0m\u001b[1;33m=\u001b[0m\u001b[1;34m'dodgerblue'\u001b[0m\u001b[1;33m,\u001b[0m \u001b[0max\u001b[0m\u001b[1;33m=\u001b[0m\u001b[0max2\u001b[0m\u001b[1;33m)\u001b[0m\u001b[1;33m\u001b[0m\u001b[0m\n\u001b[0;32m     11\u001b[0m         \u001b[0max2\u001b[0m\u001b[1;33m.\u001b[0m\u001b[0maxes\u001b[0m\u001b[1;33m.\u001b[0m\u001b[0mset_title\u001b[0m\u001b[1;33m(\u001b[0m\u001b[1;34m'Distribution of Height by Sport in Winter Olympics '\u001b[0m\u001b[1;33m,\u001b[0m \u001b[0mfontsize\u001b[0m\u001b[1;33m=\u001b[0m\u001b[1;36m20\u001b[0m\u001b[1;33m,\u001b[0m \u001b[0my\u001b[0m\u001b[1;33m=\u001b[0m\u001b[1;36m1.015\u001b[0m\u001b[1;33m)\u001b[0m\u001b[1;33m\u001b[0m\u001b[0m\n\u001b[1;32m---> 12\u001b[1;33m         \u001b[0max2\u001b[0m\u001b[1;33m.\u001b[0m\u001b[0mset\u001b[0m\u001b[1;33m(\u001b[0m\u001b[1;34m'Distribution of height (cms)'\u001b[0m\u001b[1;33m,\u001b[0m \u001b[0mylabel\u001b[0m\u001b[1;33m=\u001b[0m\u001b[1;34m'Sporting Events'\u001b[0m\u001b[1;33m,\u001b[0m \u001b[0mfontsize\u001b[0m\u001b[1;33m=\u001b[0m\u001b[1;36m18\u001b[0m\u001b[1;33m,\u001b[0m \u001b[0mlabelpad\u001b[0m\u001b[1;33m=\u001b[0m\u001b[1;36m16\u001b[0m\u001b[1;33m)\u001b[0m\u001b[1;33m\u001b[0m\u001b[0m\n\u001b[0m\u001b[0;32m     13\u001b[0m         \u001b[1;32mreturn\u001b[0m \u001b[0max2\u001b[0m\u001b[1;33m;\u001b[0m\u001b[1;33m\u001b[0m\u001b[0m\n\u001b[0;32m     14\u001b[0m \u001b[1;33m\u001b[0m\u001b[0m\n",
          "\u001b[1;31mTypeError\u001b[0m: set() takes 1 positional argument but 2 were given"
         ]
        }
       ]
      }
     },
     "240aafa6aef84e1db3b841f7b6bf87db": {
      "model_module": "@jupyter-widgets/base",
      "model_module_version": "1.1.0",
      "model_name": "LayoutModel",
      "state": {
       "_model_module_version": "1.1.0",
       "_view_module_version": "1.1.0",
       "grid_area": null,
       "grid_auto_columns": null,
       "grid_auto_flow": null,
       "grid_auto_rows": null,
       "grid_column": null,
       "grid_gap": null,
       "grid_row": null,
       "grid_template_areas": null,
       "grid_template_columns": null,
       "grid_template_rows": null
      }
     },
     "2fc08ab781654dc28c98fbaca3c9e3cf": {
      "model_module": "@jupyter-widgets/base",
      "model_module_version": "1.1.0",
      "model_name": "LayoutModel",
      "state": {
       "_model_module_version": "1.1.0",
       "_view_module_version": "1.1.0",
       "grid_area": null,
       "grid_auto_columns": null,
       "grid_auto_flow": null,
       "grid_auto_rows": null,
       "grid_column": null,
       "grid_gap": null,
       "grid_row": null,
       "grid_template_areas": null,
       "grid_template_columns": null,
       "grid_template_rows": null
      }
     },
     "32de54fffb8448cf8a50577070090bae": {
      "model_module": "@jupyter-widgets/controls",
      "model_module_version": "1.4.0",
      "model_name": "DescriptionStyleModel",
      "state": {
       "_model_module_version": "1.4.0",
       "_view_module_version": "1.1.0",
       "description_width": ""
      }
     },
     "3335fe328bdf4b6891c59ac3ee1e149e": {
      "model_module": "@jupyter-widgets/controls",
      "model_module_version": "1.4.0",
      "model_name": "VBoxModel",
      "state": {
       "_dom_classes": [
        "widget-interact"
       ],
       "_model_module_version": "1.4.0",
       "_view_module_version": "1.4.0",
       "children": [
        "IPY_MODEL_f1cce503fbff48e0be4860664e80530c",
        "IPY_MODEL_21e748dd8f3b4e4885a7fdb4d0cd4159"
       ],
       "layout": "IPY_MODEL_c8c9ea12183841b7a2303f96f0936a17"
      }
     },
     "385c914e1ce844bfb49212461ddca7c1": {
      "model_module": "@jupyter-widgets/base",
      "model_module_version": "1.1.0",
      "model_name": "LayoutModel",
      "state": {
       "_model_module_version": "1.1.0",
       "_view_module_version": "1.1.0",
       "grid_area": null,
       "grid_auto_columns": null,
       "grid_auto_flow": null,
       "grid_auto_rows": null,
       "grid_column": null,
       "grid_gap": null,
       "grid_row": null,
       "grid_template_areas": null,
       "grid_template_columns": null,
       "grid_template_rows": null
      }
     },
     "3d22b3dd9bd949d8a5ff875fa3e4b283": {
      "model_module": "@jupyter-widgets/output",
      "model_module_version": "1.0.0",
      "model_name": "OutputModel",
      "state": {
       "layout": "IPY_MODEL_00f256be5ef041a494037c4cd9f42d49",
       "outputs": [
        {
         "ename": "TypeError",
         "evalue": "set() takes 1 positional argument but 2 were given",
         "output_type": "error",
         "traceback": [
          "\u001b[1;31m---------------------------------------------------------------------------\u001b[0m",
          "\u001b[1;31mTypeError\u001b[0m                                 Traceback (most recent call last)",
          "\u001b[1;32m~\\AppData\\Local\\Programs\\Python\\Python36\\lib\\site-packages\\ipywidgets\\widgets\\interaction.py\u001b[0m in \u001b[0;36mupdate\u001b[1;34m(self, *args)\u001b[0m\n\u001b[0;32m    249\u001b[0m                     \u001b[0mvalue\u001b[0m \u001b[1;33m=\u001b[0m \u001b[0mwidget\u001b[0m\u001b[1;33m.\u001b[0m\u001b[0mget_interact_value\u001b[0m\u001b[1;33m(\u001b[0m\u001b[1;33m)\u001b[0m\u001b[1;33m\u001b[0m\u001b[0m\n\u001b[0;32m    250\u001b[0m                     \u001b[0mself\u001b[0m\u001b[1;33m.\u001b[0m\u001b[0mkwargs\u001b[0m\u001b[1;33m[\u001b[0m\u001b[0mwidget\u001b[0m\u001b[1;33m.\u001b[0m\u001b[0m_kwarg\u001b[0m\u001b[1;33m]\u001b[0m \u001b[1;33m=\u001b[0m \u001b[0mvalue\u001b[0m\u001b[1;33m\u001b[0m\u001b[0m\n\u001b[1;32m--> 251\u001b[1;33m                 \u001b[0mself\u001b[0m\u001b[1;33m.\u001b[0m\u001b[0mresult\u001b[0m \u001b[1;33m=\u001b[0m \u001b[0mself\u001b[0m\u001b[1;33m.\u001b[0m\u001b[0mf\u001b[0m\u001b[1;33m(\u001b[0m\u001b[1;33m**\u001b[0m\u001b[0mself\u001b[0m\u001b[1;33m.\u001b[0m\u001b[0mkwargs\u001b[0m\u001b[1;33m)\u001b[0m\u001b[1;33m\u001b[0m\u001b[0m\n\u001b[0m\u001b[0;32m    252\u001b[0m                 \u001b[0mshow_inline_matplotlib_plots\u001b[0m\u001b[1;33m(\u001b[0m\u001b[1;33m)\u001b[0m\u001b[1;33m\u001b[0m\u001b[0m\n\u001b[0;32m    253\u001b[0m                 \u001b[1;32mif\u001b[0m \u001b[0mself\u001b[0m\u001b[1;33m.\u001b[0m\u001b[0mauto_display\u001b[0m \u001b[1;32mand\u001b[0m \u001b[0mself\u001b[0m\u001b[1;33m.\u001b[0m\u001b[0mresult\u001b[0m \u001b[1;32mis\u001b[0m \u001b[1;32mnot\u001b[0m \u001b[1;32mNone\u001b[0m\u001b[1;33m:\u001b[0m\u001b[1;33m\u001b[0m\u001b[0m\n",
          "\u001b[1;32m<ipython-input-36-9d50b707531f>\u001b[0m in \u001b[0;36mplotit\u001b[1;34m(Season)\u001b[0m\n\u001b[0;32m     10\u001b[0m         \u001b[0msns\u001b[0m\u001b[1;33m.\u001b[0m\u001b[0mboxplot\u001b[0m\u001b[1;33m(\u001b[0m\u001b[0mx\u001b[0m\u001b[1;33m=\u001b[0m\u001b[0mdf_height_winter\u001b[0m\u001b[1;33m.\u001b[0m\u001b[0mHeight\u001b[0m\u001b[1;33m,\u001b[0m \u001b[0my\u001b[0m\u001b[1;33m=\u001b[0m\u001b[0mdf_height_winter\u001b[0m\u001b[1;33m.\u001b[0m\u001b[0mSport\u001b[0m\u001b[1;33m,\u001b[0m \u001b[0mdata\u001b[0m\u001b[1;33m=\u001b[0m\u001b[0mdf_height_winter\u001b[0m\u001b[1;33m,\u001b[0m \u001b[0mcolor\u001b[0m\u001b[1;33m=\u001b[0m\u001b[1;34m'dodgerblue'\u001b[0m\u001b[1;33m,\u001b[0m \u001b[0max\u001b[0m\u001b[1;33m=\u001b[0m\u001b[0max\u001b[0m\u001b[1;33m)\u001b[0m\u001b[1;33m\u001b[0m\u001b[0m\n\u001b[0;32m     11\u001b[0m         \u001b[0max\u001b[0m\u001b[1;33m.\u001b[0m\u001b[0maxes\u001b[0m\u001b[1;33m.\u001b[0m\u001b[0mset_title\u001b[0m\u001b[1;33m(\u001b[0m\u001b[1;34m'Distribution of Height by Sport in Winter Olympics '\u001b[0m\u001b[1;33m,\u001b[0m \u001b[0mfontsize\u001b[0m\u001b[1;33m=\u001b[0m\u001b[1;36m20\u001b[0m\u001b[1;33m,\u001b[0m \u001b[0my\u001b[0m\u001b[1;33m=\u001b[0m\u001b[1;36m1.015\u001b[0m\u001b[1;33m)\u001b[0m\u001b[1;33m\u001b[0m\u001b[0m\n\u001b[1;32m---> 12\u001b[1;33m         \u001b[0max\u001b[0m\u001b[1;33m.\u001b[0m\u001b[0mset\u001b[0m\u001b[1;33m(\u001b[0m\u001b[1;34m'Distribution of height (cms)'\u001b[0m\u001b[1;33m,\u001b[0m \u001b[0mylabel\u001b[0m\u001b[1;33m=\u001b[0m\u001b[1;34m'Sporting Events'\u001b[0m\u001b[1;33m)\u001b[0m\u001b[1;33m\u001b[0m\u001b[0m\n\u001b[0m\u001b[0;32m     13\u001b[0m         \u001b[1;32mreturn\u001b[0m \u001b[0max\u001b[0m\u001b[1;33m;\u001b[0m\u001b[1;33m\u001b[0m\u001b[0m\n\u001b[0;32m     14\u001b[0m \u001b[1;33m\u001b[0m\u001b[0m\n",
          "\u001b[1;31mTypeError\u001b[0m: set() takes 1 positional argument but 2 were given"
         ]
        }
       ]
      }
     },
     "441382c37d6c49cc9dbf2d15cd66155d": {
      "model_module": "@jupyter-widgets/controls",
      "model_module_version": "1.4.0",
      "model_name": "DescriptionStyleModel",
      "state": {
       "_model_module_version": "1.4.0",
       "_view_module_version": "1.1.0",
       "description_width": ""
      }
     },
     "4a18b1e8adfe46faa8609fdf64ef5477": {
      "model_module": "@jupyter-widgets/base",
      "model_module_version": "1.1.0",
      "model_name": "LayoutModel",
      "state": {
       "_model_module_version": "1.1.0",
       "_view_module_version": "1.1.0",
       "grid_area": null,
       "grid_auto_columns": null,
       "grid_auto_flow": null,
       "grid_auto_rows": null,
       "grid_column": null,
       "grid_gap": null,
       "grid_row": null,
       "grid_template_areas": null,
       "grid_template_columns": null,
       "grid_template_rows": null
      }
     },
     "4b044cd117e44947a92e6d039f693673": {
      "model_module": "@jupyter-widgets/controls",
      "model_module_version": "1.4.0",
      "model_name": "VBoxModel",
      "state": {
       "_dom_classes": [
        "widget-interact"
       ],
       "_model_module_version": "1.4.0",
       "_view_module_version": "1.4.0",
       "children": [
        "IPY_MODEL_f1cce503fbff48e0be4860664e80530c",
        "IPY_MODEL_5f3c68690d2842859d2a6baf2809a4e0"
       ],
       "layout": "IPY_MODEL_e96e364ab84643dc9dc31d9af92299bf"
      }
     },
     "4eb019589ea74dfe9cf8014546c5dab3": {
      "model_module": "@jupyter-widgets/output",
      "model_module_version": "1.0.0",
      "model_name": "OutputModel",
      "state": {
       "layout": "IPY_MODEL_caeb44e546e148668e3e3b7bad4e9c04",
       "outputs": [
        {
         "ename": "TypeError",
         "evalue": "set() takes 1 positional argument but 2 were given",
         "output_type": "error",
         "traceback": [
          "\u001b[1;31m---------------------------------------------------------------------------\u001b[0m",
          "\u001b[1;31mTypeError\u001b[0m                                 Traceback (most recent call last)",
          "\u001b[1;32m~\\AppData\\Local\\Programs\\Python\\Python36\\lib\\site-packages\\ipywidgets\\widgets\\interaction.py\u001b[0m in \u001b[0;36mupdate\u001b[1;34m(self, *args)\u001b[0m\n\u001b[0;32m    249\u001b[0m                     \u001b[0mvalue\u001b[0m \u001b[1;33m=\u001b[0m \u001b[0mwidget\u001b[0m\u001b[1;33m.\u001b[0m\u001b[0mget_interact_value\u001b[0m\u001b[1;33m(\u001b[0m\u001b[1;33m)\u001b[0m\u001b[1;33m\u001b[0m\u001b[0m\n\u001b[0;32m    250\u001b[0m                     \u001b[0mself\u001b[0m\u001b[1;33m.\u001b[0m\u001b[0mkwargs\u001b[0m\u001b[1;33m[\u001b[0m\u001b[0mwidget\u001b[0m\u001b[1;33m.\u001b[0m\u001b[0m_kwarg\u001b[0m\u001b[1;33m]\u001b[0m \u001b[1;33m=\u001b[0m \u001b[0mvalue\u001b[0m\u001b[1;33m\u001b[0m\u001b[0m\n\u001b[1;32m--> 251\u001b[1;33m                 \u001b[0mself\u001b[0m\u001b[1;33m.\u001b[0m\u001b[0mresult\u001b[0m \u001b[1;33m=\u001b[0m \u001b[0mself\u001b[0m\u001b[1;33m.\u001b[0m\u001b[0mf\u001b[0m\u001b[1;33m(\u001b[0m\u001b[1;33m**\u001b[0m\u001b[0mself\u001b[0m\u001b[1;33m.\u001b[0m\u001b[0mkwargs\u001b[0m\u001b[1;33m)\u001b[0m\u001b[1;33m\u001b[0m\u001b[0m\n\u001b[0m\u001b[0;32m    252\u001b[0m                 \u001b[0mshow_inline_matplotlib_plots\u001b[0m\u001b[1;33m(\u001b[0m\u001b[1;33m)\u001b[0m\u001b[1;33m\u001b[0m\u001b[0m\n\u001b[0;32m    253\u001b[0m                 \u001b[1;32mif\u001b[0m \u001b[0mself\u001b[0m\u001b[1;33m.\u001b[0m\u001b[0mauto_display\u001b[0m \u001b[1;32mand\u001b[0m \u001b[0mself\u001b[0m\u001b[1;33m.\u001b[0m\u001b[0mresult\u001b[0m \u001b[1;32mis\u001b[0m \u001b[1;32mnot\u001b[0m \u001b[1;32mNone\u001b[0m\u001b[1;33m:\u001b[0m\u001b[1;33m\u001b[0m\u001b[0m\n",
          "\u001b[1;32m<ipython-input-35-dd4ed9c638ef>\u001b[0m in \u001b[0;36mplotit\u001b[1;34m(Season)\u001b[0m\n\u001b[0;32m     10\u001b[0m         \u001b[0msns\u001b[0m\u001b[1;33m.\u001b[0m\u001b[0mboxplot\u001b[0m\u001b[1;33m(\u001b[0m\u001b[0mx\u001b[0m\u001b[1;33m=\u001b[0m\u001b[0mdf_height_winter\u001b[0m\u001b[1;33m.\u001b[0m\u001b[0mHeight\u001b[0m\u001b[1;33m,\u001b[0m \u001b[0my\u001b[0m\u001b[1;33m=\u001b[0m\u001b[0mdf_height_winter\u001b[0m\u001b[1;33m.\u001b[0m\u001b[0mSport\u001b[0m\u001b[1;33m,\u001b[0m \u001b[0mdata\u001b[0m\u001b[1;33m=\u001b[0m\u001b[0mdf_height_winter\u001b[0m\u001b[1;33m,\u001b[0m \u001b[0mcolor\u001b[0m\u001b[1;33m=\u001b[0m\u001b[1;34m'dodgerblue'\u001b[0m\u001b[1;33m,\u001b[0m \u001b[0max\u001b[0m\u001b[1;33m=\u001b[0m\u001b[0max\u001b[0m\u001b[1;33m)\u001b[0m\u001b[1;33m\u001b[0m\u001b[0m\n\u001b[0;32m     11\u001b[0m         \u001b[0max\u001b[0m\u001b[1;33m.\u001b[0m\u001b[0maxes\u001b[0m\u001b[1;33m.\u001b[0m\u001b[0mset_title\u001b[0m\u001b[1;33m(\u001b[0m\u001b[1;34m'Distribution of Height by Sport in Winter Olympics '\u001b[0m\u001b[1;33m,\u001b[0m \u001b[0mfontsize\u001b[0m\u001b[1;33m=\u001b[0m\u001b[1;36m20\u001b[0m\u001b[1;33m,\u001b[0m \u001b[0my\u001b[0m\u001b[1;33m=\u001b[0m\u001b[1;36m1.015\u001b[0m\u001b[1;33m)\u001b[0m\u001b[1;33m\u001b[0m\u001b[0m\n\u001b[1;32m---> 12\u001b[1;33m         \u001b[0max\u001b[0m\u001b[1;33m.\u001b[0m\u001b[0mset\u001b[0m\u001b[1;33m(\u001b[0m\u001b[1;34m'Distribution of height (cms)'\u001b[0m\u001b[1;33m,\u001b[0m \u001b[0mylabel\u001b[0m\u001b[1;33m=\u001b[0m\u001b[1;34m'Sporting Events'\u001b[0m\u001b[1;33m,\u001b[0m \u001b[0mfontsize\u001b[0m\u001b[1;33m=\u001b[0m\u001b[1;36m18\u001b[0m\u001b[1;33m,\u001b[0m \u001b[0mlabelpad\u001b[0m\u001b[1;33m=\u001b[0m\u001b[1;36m16\u001b[0m\u001b[1;33m)\u001b[0m\u001b[1;33m\u001b[0m\u001b[0m\n\u001b[0m\u001b[0;32m     13\u001b[0m         \u001b[1;32mreturn\u001b[0m \u001b[0max\u001b[0m\u001b[1;33m;\u001b[0m\u001b[1;33m\u001b[0m\u001b[0m\n\u001b[0;32m     14\u001b[0m \u001b[1;33m\u001b[0m\u001b[0m\n",
          "\u001b[1;31mTypeError\u001b[0m: set() takes 1 positional argument but 2 were given"
         ]
        }
       ]
      }
     },
     "50e5dc055a1a49c6a168a8db185b6e7f": {
      "model_module": "@jupyter-widgets/base",
      "model_module_version": "1.1.0",
      "model_name": "LayoutModel",
      "state": {
       "_model_module_version": "1.1.0",
       "_view_module_version": "1.1.0",
       "grid_area": null,
       "grid_auto_columns": null,
       "grid_auto_flow": null,
       "grid_auto_rows": null,
       "grid_column": null,
       "grid_gap": null,
       "grid_row": null,
       "grid_template_areas": null,
       "grid_template_columns": null,
       "grid_template_rows": null
      }
     },
     "52b56695933c409d8e51f979e9f3d245": {
      "model_module": "@jupyter-widgets/base",
      "model_module_version": "1.1.0",
      "model_name": "LayoutModel",
      "state": {
       "_model_module_version": "1.1.0",
       "_view_module_version": "1.1.0",
       "grid_area": null,
       "grid_auto_columns": null,
       "grid_auto_flow": null,
       "grid_auto_rows": null,
       "grid_column": null,
       "grid_gap": null,
       "grid_row": null,
       "grid_template_areas": null,
       "grid_template_columns": null,
       "grid_template_rows": null
      }
     },
     "592df0b26de149aaad3a80b39655240a": {
      "model_module": "@jupyter-widgets/controls",
      "model_module_version": "1.4.0",
      "model_name": "VBoxModel",
      "state": {
       "_dom_classes": [
        "widget-interact"
       ],
       "_model_module_version": "1.4.0",
       "_view_module_version": "1.4.0",
       "children": [
        "IPY_MODEL_f1cce503fbff48e0be4860664e80530c",
        "IPY_MODEL_f483db4b0ffc4c7bbdc0e3d1af93d5f4"
       ],
       "layout": "IPY_MODEL_e13ce8c5f4af46b5a4d317bdf9190901"
      }
     },
     "5a53875a90bd449abaf61dc62d4e3f75": {
      "model_module": "@jupyter-widgets/output",
      "model_module_version": "1.0.0",
      "model_name": "OutputModel",
      "state": {
       "layout": "IPY_MODEL_4a18b1e8adfe46faa8609fdf64ef5477",
       "outputs": [
        {
         "data": {
          "image/png": "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\n",
          "text/plain": "<Figure size 1080x576 with 1 Axes>"
         },
         "metadata": {},
         "output_type": "display_data"
        }
       ]
      }
     },
     "5f3c68690d2842859d2a6baf2809a4e0": {
      "model_module": "@jupyter-widgets/output",
      "model_module_version": "1.0.0",
      "model_name": "OutputModel",
      "state": {
       "layout": "IPY_MODEL_e218e91617a347d29e24bf0fa4683a47",
       "outputs": [
        {
         "ename": "NameError",
         "evalue": "name 'ax2' is not defined",
         "output_type": "error",
         "traceback": [
          "\u001b[1;31m---------------------------------------------------------------------------\u001b[0m",
          "\u001b[1;31mNameError\u001b[0m                                 Traceback (most recent call last)",
          "\u001b[1;32m~\\AppData\\Local\\Programs\\Python\\Python36\\lib\\site-packages\\ipywidgets\\widgets\\interaction.py\u001b[0m in \u001b[0;36mupdate\u001b[1;34m(self, *args)\u001b[0m\n\u001b[0;32m    249\u001b[0m                     \u001b[0mvalue\u001b[0m \u001b[1;33m=\u001b[0m \u001b[0mwidget\u001b[0m\u001b[1;33m.\u001b[0m\u001b[0mget_interact_value\u001b[0m\u001b[1;33m(\u001b[0m\u001b[1;33m)\u001b[0m\u001b[1;33m\u001b[0m\u001b[0m\n\u001b[0;32m    250\u001b[0m                     \u001b[0mself\u001b[0m\u001b[1;33m.\u001b[0m\u001b[0mkwargs\u001b[0m\u001b[1;33m[\u001b[0m\u001b[0mwidget\u001b[0m\u001b[1;33m.\u001b[0m\u001b[0m_kwarg\u001b[0m\u001b[1;33m]\u001b[0m \u001b[1;33m=\u001b[0m \u001b[0mvalue\u001b[0m\u001b[1;33m\u001b[0m\u001b[0m\n\u001b[1;32m--> 251\u001b[1;33m                 \u001b[0mself\u001b[0m\u001b[1;33m.\u001b[0m\u001b[0mresult\u001b[0m \u001b[1;33m=\u001b[0m \u001b[0mself\u001b[0m\u001b[1;33m.\u001b[0m\u001b[0mf\u001b[0m\u001b[1;33m(\u001b[0m\u001b[1;33m**\u001b[0m\u001b[0mself\u001b[0m\u001b[1;33m.\u001b[0m\u001b[0mkwargs\u001b[0m\u001b[1;33m)\u001b[0m\u001b[1;33m\u001b[0m\u001b[0m\n\u001b[0m\u001b[0;32m    252\u001b[0m                 \u001b[0mshow_inline_matplotlib_plots\u001b[0m\u001b[1;33m(\u001b[0m\u001b[1;33m)\u001b[0m\u001b[1;33m\u001b[0m\u001b[0m\n\u001b[0;32m    253\u001b[0m                 \u001b[1;32mif\u001b[0m \u001b[0mself\u001b[0m\u001b[1;33m.\u001b[0m\u001b[0mauto_display\u001b[0m \u001b[1;32mand\u001b[0m \u001b[0mself\u001b[0m\u001b[1;33m.\u001b[0m\u001b[0mresult\u001b[0m \u001b[1;32mis\u001b[0m \u001b[1;32mnot\u001b[0m \u001b[1;32mNone\u001b[0m\u001b[1;33m:\u001b[0m\u001b[1;33m\u001b[0m\u001b[0m\n",
          "\u001b[1;32m<ipython-input-34-7f811718bd6e>\u001b[0m in \u001b[0;36mplotit\u001b[1;34m(Season)\u001b[0m\n\u001b[0;32m      6\u001b[0m         \u001b[1;32mreturn\u001b[0m \u001b[0max1\u001b[0m\u001b[1;33m;\u001b[0m\u001b[1;33m\u001b[0m\u001b[0m\n\u001b[0;32m      7\u001b[0m     \u001b[1;32melse\u001b[0m\u001b[1;33m:\u001b[0m\u001b[1;33m\u001b[0m\u001b[0m\n\u001b[1;32m----> 8\u001b[1;33m         \u001b[0msns\u001b[0m\u001b[1;33m.\u001b[0m\u001b[0mboxplot\u001b[0m\u001b[1;33m(\u001b[0m\u001b[0mx\u001b[0m\u001b[1;33m=\u001b[0m\u001b[0mdf_height_winter\u001b[0m\u001b[1;33m.\u001b[0m\u001b[0mHeight\u001b[0m\u001b[1;33m,\u001b[0m \u001b[0my\u001b[0m\u001b[1;33m=\u001b[0m\u001b[0mdf_height_winter\u001b[0m\u001b[1;33m.\u001b[0m\u001b[0mSport\u001b[0m\u001b[1;33m,\u001b[0m \u001b[0mdata\u001b[0m\u001b[1;33m=\u001b[0m\u001b[0mdf_height_winter\u001b[0m\u001b[1;33m,\u001b[0m \u001b[0mcolor\u001b[0m\u001b[1;33m=\u001b[0m\u001b[1;34m'dodgerblue'\u001b[0m\u001b[1;33m,\u001b[0m \u001b[0max\u001b[0m\u001b[1;33m=\u001b[0m\u001b[0max2\u001b[0m\u001b[1;33m)\u001b[0m\u001b[1;33m\u001b[0m\u001b[0m\n\u001b[0m\u001b[0;32m      9\u001b[0m         \u001b[0max2\u001b[0m\u001b[1;33m.\u001b[0m\u001b[0maxes\u001b[0m\u001b[1;33m.\u001b[0m\u001b[0mset_title\u001b[0m\u001b[1;33m(\u001b[0m\u001b[1;34m'Distribution of Height by Sport in Winter Olympics '\u001b[0m\u001b[1;33m,\u001b[0m \u001b[0mfontsize\u001b[0m\u001b[1;33m=\u001b[0m\u001b[1;36m20\u001b[0m\u001b[1;33m,\u001b[0m \u001b[0my\u001b[0m\u001b[1;33m=\u001b[0m\u001b[1;36m1.015\u001b[0m\u001b[1;33m)\u001b[0m\u001b[1;33m\u001b[0m\u001b[0m\n\u001b[0;32m     10\u001b[0m         \u001b[0max2\u001b[0m\u001b[1;33m.\u001b[0m\u001b[0mset\u001b[0m\u001b[1;33m(\u001b[0m\u001b[1;34m'Distribution of height (cms)'\u001b[0m\u001b[1;33m,\u001b[0m \u001b[0mylabel\u001b[0m\u001b[1;33m=\u001b[0m\u001b[1;34m'Sporting Events'\u001b[0m\u001b[1;33m,\u001b[0m \u001b[0mfontsize\u001b[0m\u001b[1;33m=\u001b[0m\u001b[1;36m18\u001b[0m\u001b[1;33m,\u001b[0m \u001b[0mlabelpad\u001b[0m\u001b[1;33m=\u001b[0m\u001b[1;36m16\u001b[0m\u001b[1;33m)\u001b[0m\u001b[1;33m\u001b[0m\u001b[0m\n",
          "\u001b[1;31mNameError\u001b[0m: name 'ax2' is not defined"
         ]
        }
       ]
      }
     },
     "624c571d917c4bceaa5401dc3ea2b49c": {
      "model_module": "@jupyter-widgets/controls",
      "model_module_version": "1.4.0",
      "model_name": "VBoxModel",
      "state": {
       "_dom_classes": [
        "widget-interact"
       ],
       "_model_module_version": "1.4.0",
       "_view_module_version": "1.4.0",
       "children": [
        "IPY_MODEL_f1cce503fbff48e0be4860664e80530c",
        "IPY_MODEL_125b6744a3ff43ea94a09bbb96dbb2e1"
       ],
       "layout": "IPY_MODEL_2fc08ab781654dc28c98fbaca3c9e3cf"
      }
     },
     "6ce37e5a9f584dc4bc28f2abbf182a44": {
      "model_module": "@jupyter-widgets/base",
      "model_module_version": "1.1.0",
      "model_name": "LayoutModel",
      "state": {
       "_model_module_version": "1.1.0",
       "_view_module_version": "1.1.0",
       "grid_area": null,
       "grid_auto_columns": null,
       "grid_auto_flow": null,
       "grid_auto_rows": null,
       "grid_column": null,
       "grid_gap": null,
       "grid_row": null,
       "grid_template_areas": null,
       "grid_template_columns": null,
       "grid_template_rows": null
      }
     },
     "7373574d0159405298db9c754e9ec677": {
      "model_module": "@jupyter-widgets/base",
      "model_module_version": "1.1.0",
      "model_name": "LayoutModel",
      "state": {
       "_model_module_version": "1.1.0",
       "_view_module_version": "1.1.0",
       "grid_area": null,
       "grid_auto_columns": null,
       "grid_auto_flow": null,
       "grid_auto_rows": null,
       "grid_column": null,
       "grid_gap": null,
       "grid_row": null,
       "grid_template_areas": null,
       "grid_template_columns": null,
       "grid_template_rows": null
      }
     },
     "7511a42c09ec496a8bb6c3a0d637863f": {
      "model_module": "@jupyter-widgets/controls",
      "model_module_version": "1.4.0",
      "model_name": "DropdownModel",
      "state": {
       "_model_module_version": "1.4.0",
       "_options_labels": [
        "All",
        "Summer",
        "Winter"
       ],
       "_view_module_version": "1.4.0",
       "description": "Season:",
       "description_tooltip": null,
       "index": 0,
       "layout": "IPY_MODEL_c7fa1f33d3ff4d40b518530e607027cc",
       "style": "IPY_MODEL_32de54fffb8448cf8a50577070090bae"
      }
     },
     "7d2a926cc8c746dc9c0da3ccf491cc39": {
      "model_module": "@jupyter-widgets/controls",
      "model_module_version": "1.4.0",
      "model_name": "VBoxModel",
      "state": {
       "_dom_classes": [
        "widget-interact"
       ],
       "_model_module_version": "1.4.0",
       "_view_module_version": "1.4.0",
       "children": [
        "IPY_MODEL_f1cce503fbff48e0be4860664e80530c",
        "IPY_MODEL_5a53875a90bd449abaf61dc62d4e3f75"
       ],
       "layout": "IPY_MODEL_8fb5eb15746a4f62aedc0ecb0b01fd5a"
      }
     },
     "82e5f05262ba4e03a17954f89e01a1ed": {
      "model_module": "@jupyter-widgets/controls",
      "model_module_version": "1.4.0",
      "model_name": "VBoxModel",
      "state": {
       "_dom_classes": [
        "widget-interact"
       ],
       "_model_module_version": "1.4.0",
       "_view_module_version": "1.4.0",
       "children": [
        "IPY_MODEL_f1cce503fbff48e0be4860664e80530c",
        "IPY_MODEL_9ad1b3c15ca248d1b859ccad0f8831c5"
       ],
       "layout": "IPY_MODEL_c77423d8069b4421b1870a7f8a030f60"
      }
     },
     "86e81262afb947c29fa9db3b3bcfe814": {
      "model_module": "@jupyter-widgets/output",
      "model_module_version": "1.0.0",
      "model_name": "OutputModel",
      "state": {
       "layout": "IPY_MODEL_240aafa6aef84e1db3b841f7b6bf87db",
       "outputs": [
        {
         "data": {
          "image/png": "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\n",
          "text/plain": "<Figure size 1080x576 with 1 Axes>"
         },
         "metadata": {},
         "output_type": "display_data"
        }
       ]
      }
     },
     "8769a646eacc47b9af9fb2543c9c4fc5": {
      "model_module": "@jupyter-widgets/base",
      "model_module_version": "1.1.0",
      "model_name": "LayoutModel",
      "state": {
       "_model_module_version": "1.1.0",
       "_view_module_version": "1.1.0",
       "grid_area": null,
       "grid_auto_columns": null,
       "grid_auto_flow": null,
       "grid_auto_rows": null,
       "grid_column": null,
       "grid_gap": null,
       "grid_row": null,
       "grid_template_areas": null,
       "grid_template_columns": null,
       "grid_template_rows": null
      }
     },
     "899c2554fd13414f85ad5d05fe559e79": {
      "model_module": "@jupyter-widgets/controls",
      "model_module_version": "1.4.0",
      "model_name": "VBoxModel",
      "state": {
       "_dom_classes": [
        "widget-interact"
       ],
       "_model_module_version": "1.4.0",
       "_view_module_version": "1.4.0",
       "children": [
        "IPY_MODEL_f1cce503fbff48e0be4860664e80530c",
        "IPY_MODEL_3d22b3dd9bd949d8a5ff875fa3e4b283"
       ],
       "layout": "IPY_MODEL_6ce37e5a9f584dc4bc28f2abbf182a44"
      }
     },
     "8fb5eb15746a4f62aedc0ecb0b01fd5a": {
      "model_module": "@jupyter-widgets/base",
      "model_module_version": "1.1.0",
      "model_name": "LayoutModel",
      "state": {
       "_model_module_version": "1.1.0",
       "_view_module_version": "1.1.0",
       "grid_area": null,
       "grid_auto_columns": null,
       "grid_auto_flow": null,
       "grid_auto_rows": null,
       "grid_column": null,
       "grid_gap": null,
       "grid_row": null,
       "grid_template_areas": null,
       "grid_template_columns": null,
       "grid_template_rows": null
      }
     },
     "9ad1b3c15ca248d1b859ccad0f8831c5": {
      "model_module": "@jupyter-widgets/output",
      "model_module_version": "1.0.0",
      "model_name": "OutputModel",
      "state": {
       "layout": "IPY_MODEL_8769a646eacc47b9af9fb2543c9c4fc5",
       "outputs": [
        {
         "data": {
          "image/png": "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\n",
          "text/plain": "<Figure size 1080x720 with 1 Axes>"
         },
         "metadata": {},
         "output_type": "display_data"
        }
       ]
      }
     },
     "9f30536829094873b8f2cd95c13d09a8": {
      "model_module": "@jupyter-widgets/base",
      "model_module_version": "1.1.0",
      "model_name": "LayoutModel",
      "state": {
       "_model_module_version": "1.1.0",
       "_view_module_version": "1.1.0",
       "grid_area": null,
       "grid_auto_columns": null,
       "grid_auto_flow": null,
       "grid_auto_rows": null,
       "grid_column": null,
       "grid_gap": null,
       "grid_row": null,
       "grid_template_areas": null,
       "grid_template_columns": null,
       "grid_template_rows": null
      }
     },
     "a3422e0613e84a5aa64b2cf38e8f7db0": {
      "model_module": "@jupyter-widgets/controls",
      "model_module_version": "1.4.0",
      "model_name": "DescriptionStyleModel",
      "state": {
       "_model_module_version": "1.4.0",
       "_view_module_version": "1.1.0",
       "description_width": ""
      }
     },
     "a4cce40574f64e1390158b02e5b6ce5b": {
      "model_module": "@jupyter-widgets/base",
      "model_module_version": "1.1.0",
      "model_name": "LayoutModel",
      "state": {
       "_model_module_version": "1.1.0",
       "_view_module_version": "1.1.0",
       "grid_area": null,
       "grid_auto_columns": null,
       "grid_auto_flow": null,
       "grid_auto_rows": null,
       "grid_column": null,
       "grid_gap": null,
       "grid_row": null,
       "grid_template_areas": null,
       "grid_template_columns": null,
       "grid_template_rows": null
      }
     },
     "a525d77fd26c4a4a862cd11d6dff38bb": {
      "model_module": "@jupyter-widgets/base",
      "model_module_version": "1.1.0",
      "model_name": "LayoutModel",
      "state": {
       "_model_module_version": "1.1.0",
       "_view_module_version": "1.1.0",
       "grid_area": null,
       "grid_auto_columns": null,
       "grid_auto_flow": null,
       "grid_auto_rows": null,
       "grid_column": null,
       "grid_gap": null,
       "grid_row": null,
       "grid_template_areas": null,
       "grid_template_columns": null,
       "grid_template_rows": null
      }
     },
     "ace4e57ec6de46a0be7c6e9e29645ba5": {
      "model_module": "@jupyter-widgets/controls",
      "model_module_version": "1.4.0",
      "model_name": "DropdownModel",
      "state": {
       "_model_module_version": "1.4.0",
       "_options_labels": [
        "All",
        "Summer",
        "Winter"
       ],
       "_view_module_version": "1.4.0",
       "description": "Season:",
       "description_tooltip": null,
       "index": 0,
       "layout": "IPY_MODEL_0d8a1cdd4ac7479babbf2730c7f041bf",
       "style": "IPY_MODEL_a3422e0613e84a5aa64b2cf38e8f7db0"
      }
     },
     "b2144751e5664530b59ee5d79cf7553d": {
      "model_module": "@jupyter-widgets/controls",
      "model_module_version": "1.4.0",
      "model_name": "DropdownModel",
      "state": {
       "_model_module_version": "1.4.0",
       "_options_labels": [
        "All",
        "Summer",
        "Winter"
       ],
       "_view_module_version": "1.4.0",
       "description": "Season:",
       "description_tooltip": null,
       "index": 0,
       "layout": "IPY_MODEL_fe41db6b36da48abbdaa1df2bb4d832f",
       "style": "IPY_MODEL_bb3eeb0409a34429afd793ead95d8935"
      }
     },
     "b494d053bd7d4ca9aa28d6250641abd3": {
      "model_module": "@jupyter-widgets/base",
      "model_module_version": "1.1.0",
      "model_name": "LayoutModel",
      "state": {
       "_model_module_version": "1.1.0",
       "_view_module_version": "1.1.0",
       "grid_area": null,
       "grid_auto_columns": null,
       "grid_auto_flow": null,
       "grid_auto_rows": null,
       "grid_column": null,
       "grid_gap": null,
       "grid_row": null,
       "grid_template_areas": null,
       "grid_template_columns": null,
       "grid_template_rows": null
      }
     },
     "b5aeb0663f0946dfa371bdf6ba6d012f": {
      "model_module": "@jupyter-widgets/controls",
      "model_module_version": "1.4.0",
      "model_name": "VBoxModel",
      "state": {
       "_dom_classes": [
        "widget-interact"
       ],
       "_model_module_version": "1.4.0",
       "_view_module_version": "1.4.0",
       "children": [
        "IPY_MODEL_f1cce503fbff48e0be4860664e80530c",
        "IPY_MODEL_4eb019589ea74dfe9cf8014546c5dab3"
       ],
       "layout": "IPY_MODEL_a4cce40574f64e1390158b02e5b6ce5b"
      }
     },
     "bb3eeb0409a34429afd793ead95d8935": {
      "model_module": "@jupyter-widgets/controls",
      "model_module_version": "1.4.0",
      "model_name": "DescriptionStyleModel",
      "state": {
       "_model_module_version": "1.4.0",
       "_view_module_version": "1.1.0",
       "description_width": ""
      }
     },
     "c224f8542f774754853c68dc6156fc2d": {
      "model_module": "@jupyter-widgets/base",
      "model_module_version": "1.1.0",
      "model_name": "LayoutModel",
      "state": {
       "_model_module_version": "1.1.0",
       "_view_module_version": "1.1.0",
       "grid_area": null,
       "grid_auto_columns": null,
       "grid_auto_flow": null,
       "grid_auto_rows": null,
       "grid_column": null,
       "grid_gap": null,
       "grid_row": null,
       "grid_template_areas": null,
       "grid_template_columns": null,
       "grid_template_rows": null
      }
     },
     "c439d7fe438946fdb7c19e7b1c92b91f": {
      "model_module": "@jupyter-widgets/output",
      "model_module_version": "1.0.0",
      "model_name": "OutputModel",
      "state": {
       "layout": "IPY_MODEL_9f30536829094873b8f2cd95c13d09a8",
       "outputs": [
        {
         "data": {
          "image/png": "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\n",
          "text/plain": "<Figure size 1080x720 with 1 Axes>"
         },
         "metadata": {},
         "output_type": "display_data"
        }
       ]
      }
     },
     "c70fd3cfc712497d8e597f290b9e34de": {
      "model_module": "@jupyter-widgets/controls",
      "model_module_version": "1.4.0",
      "model_name": "VBoxModel",
      "state": {
       "_dom_classes": [
        "widget-interact"
       ],
       "_model_module_version": "1.4.0",
       "_view_module_version": "1.4.0",
       "children": [
        "IPY_MODEL_f1cce503fbff48e0be4860664e80530c",
        "IPY_MODEL_fa52bef390474147827e84460d63bd37"
       ],
       "layout": "IPY_MODEL_0d5ed4d947c7448292586f4f2ee79829"
      }
     },
     "c77423d8069b4421b1870a7f8a030f60": {
      "model_module": "@jupyter-widgets/base",
      "model_module_version": "1.1.0",
      "model_name": "LayoutModel",
      "state": {
       "_model_module_version": "1.1.0",
       "_view_module_version": "1.1.0",
       "grid_area": null,
       "grid_auto_columns": null,
       "grid_auto_flow": null,
       "grid_auto_rows": null,
       "grid_column": null,
       "grid_gap": null,
       "grid_row": null,
       "grid_template_areas": null,
       "grid_template_columns": null,
       "grid_template_rows": null
      }
     },
     "c7fa1f33d3ff4d40b518530e607027cc": {
      "model_module": "@jupyter-widgets/base",
      "model_module_version": "1.1.0",
      "model_name": "LayoutModel",
      "state": {
       "_model_module_version": "1.1.0",
       "_view_module_version": "1.1.0",
       "grid_area": null,
       "grid_auto_columns": null,
       "grid_auto_flow": null,
       "grid_auto_rows": null,
       "grid_column": null,
       "grid_gap": null,
       "grid_row": null,
       "grid_template_areas": null,
       "grid_template_columns": null,
       "grid_template_rows": null
      }
     },
     "c82d4882e02347cf810c0c35e69e5699": {
      "model_module": "@jupyter-widgets/controls",
      "model_module_version": "1.4.0",
      "model_name": "VBoxModel",
      "state": {
       "_dom_classes": [
        "widget-interact"
       ],
       "_model_module_version": "1.4.0",
       "_view_module_version": "1.4.0",
       "children": [
        "IPY_MODEL_f1cce503fbff48e0be4860664e80530c",
        "IPY_MODEL_0e11628e411b407bb7a21750f13d5e5d"
       ],
       "layout": "IPY_MODEL_e966ddfa06534807802547b5319110e9"
      }
     },
     "c8c9ea12183841b7a2303f96f0936a17": {
      "model_module": "@jupyter-widgets/base",
      "model_module_version": "1.1.0",
      "model_name": "LayoutModel",
      "state": {
       "_model_module_version": "1.1.0",
       "_view_module_version": "1.1.0",
       "grid_area": null,
       "grid_auto_columns": null,
       "grid_auto_flow": null,
       "grid_auto_rows": null,
       "grid_column": null,
       "grid_gap": null,
       "grid_row": null,
       "grid_template_areas": null,
       "grid_template_columns": null,
       "grid_template_rows": null
      }
     },
     "caeb44e546e148668e3e3b7bad4e9c04": {
      "model_module": "@jupyter-widgets/base",
      "model_module_version": "1.1.0",
      "model_name": "LayoutModel",
      "state": {
       "_model_module_version": "1.1.0",
       "_view_module_version": "1.1.0",
       "grid_area": null,
       "grid_auto_columns": null,
       "grid_auto_flow": null,
       "grid_auto_rows": null,
       "grid_column": null,
       "grid_gap": null,
       "grid_row": null,
       "grid_template_areas": null,
       "grid_template_columns": null,
       "grid_template_rows": null
      }
     },
     "cb2ff1dc297b49f0bf69781eec81808f": {
      "model_module": "@jupyter-widgets/controls",
      "model_module_version": "1.4.0",
      "model_name": "VBoxModel",
      "state": {
       "_dom_classes": [
        "widget-interact"
       ],
       "_model_module_version": "1.4.0",
       "_view_module_version": "1.4.0",
       "children": [
        "IPY_MODEL_b2144751e5664530b59ee5d79cf7553d",
        "IPY_MODEL_0fa814e30fa44426b9f8bda58a903585"
       ],
       "layout": "IPY_MODEL_f4c1c0e2b2ee461595e3022ce0085b4a"
      }
     },
     "e13ce8c5f4af46b5a4d317bdf9190901": {
      "model_module": "@jupyter-widgets/base",
      "model_module_version": "1.1.0",
      "model_name": "LayoutModel",
      "state": {
       "_model_module_version": "1.1.0",
       "_view_module_version": "1.1.0",
       "grid_area": null,
       "grid_auto_columns": null,
       "grid_auto_flow": null,
       "grid_auto_rows": null,
       "grid_column": null,
       "grid_gap": null,
       "grid_row": null,
       "grid_template_areas": null,
       "grid_template_columns": null,
       "grid_template_rows": null
      }
     },
     "e218e91617a347d29e24bf0fa4683a47": {
      "model_module": "@jupyter-widgets/base",
      "model_module_version": "1.1.0",
      "model_name": "LayoutModel",
      "state": {
       "_model_module_version": "1.1.0",
       "_view_module_version": "1.1.0",
       "grid_area": null,
       "grid_auto_columns": null,
       "grid_auto_flow": null,
       "grid_auto_rows": null,
       "grid_column": null,
       "grid_gap": null,
       "grid_row": null,
       "grid_template_areas": null,
       "grid_template_columns": null,
       "grid_template_rows": null
      }
     },
     "e966ddfa06534807802547b5319110e9": {
      "model_module": "@jupyter-widgets/base",
      "model_module_version": "1.1.0",
      "model_name": "LayoutModel",
      "state": {
       "_model_module_version": "1.1.0",
       "_view_module_version": "1.1.0",
       "grid_area": null,
       "grid_auto_columns": null,
       "grid_auto_flow": null,
       "grid_auto_rows": null,
       "grid_column": null,
       "grid_gap": null,
       "grid_row": null,
       "grid_template_areas": null,
       "grid_template_columns": null,
       "grid_template_rows": null
      }
     },
     "e96e364ab84643dc9dc31d9af92299bf": {
      "model_module": "@jupyter-widgets/base",
      "model_module_version": "1.1.0",
      "model_name": "LayoutModel",
      "state": {
       "_model_module_version": "1.1.0",
       "_view_module_version": "1.1.0",
       "grid_area": null,
       "grid_auto_columns": null,
       "grid_auto_flow": null,
       "grid_auto_rows": null,
       "grid_column": null,
       "grid_gap": null,
       "grid_row": null,
       "grid_template_areas": null,
       "grid_template_columns": null,
       "grid_template_rows": null
      }
     },
     "f1cce503fbff48e0be4860664e80530c": {
      "model_module": "@jupyter-widgets/controls",
      "model_module_version": "1.4.0",
      "model_name": "DropdownModel",
      "state": {
       "_model_module_version": "1.4.0",
       "_options_labels": [
        "All",
        "Summer",
        "Winter"
       ],
       "_view_module_version": "1.4.0",
       "description": "Season:",
       "description_tooltip": null,
       "index": 2,
       "layout": "IPY_MODEL_52b56695933c409d8e51f979e9f3d245",
       "style": "IPY_MODEL_441382c37d6c49cc9dbf2d15cd66155d"
      }
     },
     "f483db4b0ffc4c7bbdc0e3d1af93d5f4": {
      "model_module": "@jupyter-widgets/output",
      "model_module_version": "1.0.0",
      "model_name": "OutputModel",
      "state": {
       "layout": "IPY_MODEL_10f81119f1904f1ab16ba5f72311a80a",
       "outputs": [
        {
         "ename": "NameError",
         "evalue": "name 'ax2' is not defined",
         "output_type": "error",
         "traceback": [
          "\u001b[1;31m---------------------------------------------------------------------------\u001b[0m",
          "\u001b[1;31mNameError\u001b[0m                                 Traceback (most recent call last)",
          "\u001b[1;32m~\\AppData\\Local\\Programs\\Python\\Python36\\lib\\site-packages\\ipywidgets\\widgets\\interaction.py\u001b[0m in \u001b[0;36mupdate\u001b[1;34m(self, *args)\u001b[0m\n\u001b[0;32m    249\u001b[0m                     \u001b[0mvalue\u001b[0m \u001b[1;33m=\u001b[0m \u001b[0mwidget\u001b[0m\u001b[1;33m.\u001b[0m\u001b[0mget_interact_value\u001b[0m\u001b[1;33m(\u001b[0m\u001b[1;33m)\u001b[0m\u001b[1;33m\u001b[0m\u001b[0m\n\u001b[0;32m    250\u001b[0m                     \u001b[0mself\u001b[0m\u001b[1;33m.\u001b[0m\u001b[0mkwargs\u001b[0m\u001b[1;33m[\u001b[0m\u001b[0mwidget\u001b[0m\u001b[1;33m.\u001b[0m\u001b[0m_kwarg\u001b[0m\u001b[1;33m]\u001b[0m \u001b[1;33m=\u001b[0m \u001b[0mvalue\u001b[0m\u001b[1;33m\u001b[0m\u001b[0m\n\u001b[1;32m--> 251\u001b[1;33m                 \u001b[0mself\u001b[0m\u001b[1;33m.\u001b[0m\u001b[0mresult\u001b[0m \u001b[1;33m=\u001b[0m \u001b[0mself\u001b[0m\u001b[1;33m.\u001b[0m\u001b[0mf\u001b[0m\u001b[1;33m(\u001b[0m\u001b[1;33m**\u001b[0m\u001b[0mself\u001b[0m\u001b[1;33m.\u001b[0m\u001b[0mkwargs\u001b[0m\u001b[1;33m)\u001b[0m\u001b[1;33m\u001b[0m\u001b[0m\n\u001b[0m\u001b[0;32m    252\u001b[0m                 \u001b[0mshow_inline_matplotlib_plots\u001b[0m\u001b[1;33m(\u001b[0m\u001b[1;33m)\u001b[0m\u001b[1;33m\u001b[0m\u001b[0m\n\u001b[0;32m    253\u001b[0m                 \u001b[1;32mif\u001b[0m \u001b[0mself\u001b[0m\u001b[1;33m.\u001b[0m\u001b[0mauto_display\u001b[0m \u001b[1;32mand\u001b[0m \u001b[0mself\u001b[0m\u001b[1;33m.\u001b[0m\u001b[0mresult\u001b[0m \u001b[1;32mis\u001b[0m \u001b[1;32mnot\u001b[0m \u001b[1;32mNone\u001b[0m\u001b[1;33m:\u001b[0m\u001b[1;33m\u001b[0m\u001b[0m\n",
          "\u001b[1;32m<ipython-input-29-622bbe6487cf>\u001b[0m in \u001b[0;36mplotit\u001b[1;34m(Season)\u001b[0m\n\u001b[0;32m      8\u001b[0m     \u001b[1;32melse\u001b[0m\u001b[1;33m:\u001b[0m\u001b[1;33m\u001b[0m\u001b[0m\n\u001b[0;32m      9\u001b[0m         \u001b[0mplt\u001b[0m\u001b[1;33m.\u001b[0m\u001b[0mfigure\u001b[0m\u001b[1;33m(\u001b[0m\u001b[0mfigsize\u001b[0m\u001b[1;33m=\u001b[0m\u001b[1;33m(\u001b[0m\u001b[1;36m15\u001b[0m\u001b[1;33m,\u001b[0m \u001b[1;36m8\u001b[0m\u001b[1;33m)\u001b[0m\u001b[1;33m)\u001b[0m\u001b[1;33m\u001b[0m\u001b[0m\n\u001b[1;32m---> 10\u001b[1;33m         \u001b[0msns\u001b[0m\u001b[1;33m.\u001b[0m\u001b[0mboxplot\u001b[0m\u001b[1;33m(\u001b[0m\u001b[0mx\u001b[0m\u001b[1;33m=\u001b[0m\u001b[0mdf_height_winter\u001b[0m\u001b[1;33m.\u001b[0m\u001b[0mHeight\u001b[0m\u001b[1;33m,\u001b[0m \u001b[0my\u001b[0m\u001b[1;33m=\u001b[0m\u001b[0mdf_height_winter\u001b[0m\u001b[1;33m.\u001b[0m\u001b[0mSport\u001b[0m\u001b[1;33m,\u001b[0m \u001b[0mdata\u001b[0m\u001b[1;33m=\u001b[0m\u001b[0mdf_height_winter\u001b[0m\u001b[1;33m,\u001b[0m \u001b[0mcolor\u001b[0m\u001b[1;33m=\u001b[0m\u001b[1;34m'dodgerblue'\u001b[0m\u001b[1;33m,\u001b[0m \u001b[0max\u001b[0m\u001b[1;33m=\u001b[0m\u001b[0max2\u001b[0m\u001b[1;33m)\u001b[0m\u001b[1;33m\u001b[0m\u001b[0m\n\u001b[0m\u001b[0;32m     11\u001b[0m         \u001b[0max2\u001b[0m\u001b[1;33m.\u001b[0m\u001b[0maxes\u001b[0m\u001b[1;33m.\u001b[0m\u001b[0mset_title\u001b[0m\u001b[1;33m(\u001b[0m\u001b[1;34m'Distribution of Height by Sport in Winter Olympics '\u001b[0m\u001b[1;33m,\u001b[0m \u001b[0mfontsize\u001b[0m\u001b[1;33m=\u001b[0m\u001b[1;36m20\u001b[0m\u001b[1;33m,\u001b[0m \u001b[0my\u001b[0m\u001b[1;33m=\u001b[0m\u001b[1;36m1.015\u001b[0m\u001b[1;33m)\u001b[0m\u001b[1;33m\u001b[0m\u001b[0m\n\u001b[0;32m     12\u001b[0m         \u001b[0max2\u001b[0m\u001b[1;33m.\u001b[0m\u001b[0mset\u001b[0m\u001b[1;33m(\u001b[0m\u001b[1;34m'Distribution of height (cms)'\u001b[0m\u001b[1;33m,\u001b[0m \u001b[0mylabel\u001b[0m\u001b[1;33m=\u001b[0m\u001b[1;34m'Sporting Events'\u001b[0m\u001b[1;33m,\u001b[0m \u001b[0mfontsize\u001b[0m\u001b[1;33m=\u001b[0m\u001b[1;36m18\u001b[0m\u001b[1;33m,\u001b[0m \u001b[0mlabelpad\u001b[0m\u001b[1;33m=\u001b[0m\u001b[1;36m16\u001b[0m\u001b[1;33m)\u001b[0m\u001b[1;33m\u001b[0m\u001b[0m\n",
          "\u001b[1;31mNameError\u001b[0m: name 'ax2' is not defined"
         ]
        }
       ]
      }
     },
     "f4c1c0e2b2ee461595e3022ce0085b4a": {
      "model_module": "@jupyter-widgets/base",
      "model_module_version": "1.1.0",
      "model_name": "LayoutModel",
      "state": {
       "_model_module_version": "1.1.0",
       "_view_module_version": "1.1.0",
       "grid_area": null,
       "grid_auto_columns": null,
       "grid_auto_flow": null,
       "grid_auto_rows": null,
       "grid_column": null,
       "grid_gap": null,
       "grid_row": null,
       "grid_template_areas": null,
       "grid_template_columns": null,
       "grid_template_rows": null
      }
     },
     "f5f5fbabb35a4d8fb3f06db75fdf6e99": {
      "model_module": "@jupyter-widgets/controls",
      "model_module_version": "1.4.0",
      "model_name": "VBoxModel",
      "state": {
       "_dom_classes": [
        "widget-interact"
       ],
       "_model_module_version": "1.4.0",
       "_view_module_version": "1.4.0",
       "children": [
        "IPY_MODEL_7511a42c09ec496a8bb6c3a0d637863f",
        "IPY_MODEL_c439d7fe438946fdb7c19e7b1c92b91f"
       ],
       "layout": "IPY_MODEL_50e5dc055a1a49c6a168a8db185b6e7f"
      }
     },
     "fa52bef390474147827e84460d63bd37": {
      "model_module": "@jupyter-widgets/output",
      "model_module_version": "1.0.0",
      "model_name": "OutputModel",
      "state": {
       "layout": "IPY_MODEL_c224f8542f774754853c68dc6156fc2d",
       "outputs": [
        {
         "ename": "NameError",
         "evalue": "name 'ax2' is not defined",
         "output_type": "error",
         "traceback": [
          "\u001b[1;31m---------------------------------------------------------------------------\u001b[0m",
          "\u001b[1;31mNameError\u001b[0m                                 Traceback (most recent call last)",
          "\u001b[1;32m~\\AppData\\Local\\Programs\\Python\\Python36\\lib\\site-packages\\ipywidgets\\widgets\\interaction.py\u001b[0m in \u001b[0;36mupdate\u001b[1;34m(self, *args)\u001b[0m\n\u001b[0;32m    249\u001b[0m                     \u001b[0mvalue\u001b[0m \u001b[1;33m=\u001b[0m \u001b[0mwidget\u001b[0m\u001b[1;33m.\u001b[0m\u001b[0mget_interact_value\u001b[0m\u001b[1;33m(\u001b[0m\u001b[1;33m)\u001b[0m\u001b[1;33m\u001b[0m\u001b[0m\n\u001b[0;32m    250\u001b[0m                     \u001b[0mself\u001b[0m\u001b[1;33m.\u001b[0m\u001b[0mkwargs\u001b[0m\u001b[1;33m[\u001b[0m\u001b[0mwidget\u001b[0m\u001b[1;33m.\u001b[0m\u001b[0m_kwarg\u001b[0m\u001b[1;33m]\u001b[0m \u001b[1;33m=\u001b[0m \u001b[0mvalue\u001b[0m\u001b[1;33m\u001b[0m\u001b[0m\n\u001b[1;32m--> 251\u001b[1;33m                 \u001b[0mself\u001b[0m\u001b[1;33m.\u001b[0m\u001b[0mresult\u001b[0m \u001b[1;33m=\u001b[0m \u001b[0mself\u001b[0m\u001b[1;33m.\u001b[0m\u001b[0mf\u001b[0m\u001b[1;33m(\u001b[0m\u001b[1;33m**\u001b[0m\u001b[0mself\u001b[0m\u001b[1;33m.\u001b[0m\u001b[0mkwargs\u001b[0m\u001b[1;33m)\u001b[0m\u001b[1;33m\u001b[0m\u001b[0m\n\u001b[0m\u001b[0;32m    252\u001b[0m                 \u001b[0mshow_inline_matplotlib_plots\u001b[0m\u001b[1;33m(\u001b[0m\u001b[1;33m)\u001b[0m\u001b[1;33m\u001b[0m\u001b[0m\n\u001b[0;32m    253\u001b[0m                 \u001b[1;32mif\u001b[0m \u001b[0mself\u001b[0m\u001b[1;33m.\u001b[0m\u001b[0mauto_display\u001b[0m \u001b[1;32mand\u001b[0m \u001b[0mself\u001b[0m\u001b[1;33m.\u001b[0m\u001b[0mresult\u001b[0m \u001b[1;32mis\u001b[0m \u001b[1;32mnot\u001b[0m \u001b[1;32mNone\u001b[0m\u001b[1;33m:\u001b[0m\u001b[1;33m\u001b[0m\u001b[0m\n",
          "\u001b[1;32m<ipython-input-30-d90e24c65eca>\u001b[0m in \u001b[0;36mplotit\u001b[1;34m(Season)\u001b[0m\n\u001b[0;32m      8\u001b[0m     \u001b[1;32melse\u001b[0m\u001b[1;33m:\u001b[0m\u001b[1;33m\u001b[0m\u001b[0m\n\u001b[0;32m      9\u001b[0m         \u001b[0mplt\u001b[0m\u001b[1;33m.\u001b[0m\u001b[0mfigure\u001b[0m\u001b[1;33m(\u001b[0m\u001b[0mfigsize\u001b[0m\u001b[1;33m=\u001b[0m\u001b[1;33m(\u001b[0m\u001b[1;36m15\u001b[0m\u001b[1;33m,\u001b[0m \u001b[1;36m8\u001b[0m\u001b[1;33m)\u001b[0m\u001b[1;33m)\u001b[0m\u001b[1;33m\u001b[0m\u001b[0m\n\u001b[1;32m---> 10\u001b[1;33m         \u001b[0msns\u001b[0m\u001b[1;33m.\u001b[0m\u001b[0mboxplot\u001b[0m\u001b[1;33m(\u001b[0m\u001b[0mx\u001b[0m\u001b[1;33m=\u001b[0m\u001b[0mdf_height_winter\u001b[0m\u001b[1;33m.\u001b[0m\u001b[0mHeight\u001b[0m\u001b[1;33m,\u001b[0m \u001b[0my\u001b[0m\u001b[1;33m=\u001b[0m\u001b[0mdf_height_winter\u001b[0m\u001b[1;33m.\u001b[0m\u001b[0mSport\u001b[0m\u001b[1;33m,\u001b[0m \u001b[0mdata\u001b[0m\u001b[1;33m=\u001b[0m\u001b[0mdf_height_winter\u001b[0m\u001b[1;33m,\u001b[0m \u001b[0mcolor\u001b[0m\u001b[1;33m=\u001b[0m\u001b[1;34m'dodgerblue'\u001b[0m\u001b[1;33m,\u001b[0m \u001b[0max\u001b[0m\u001b[1;33m=\u001b[0m\u001b[0max2\u001b[0m\u001b[1;33m)\u001b[0m\u001b[1;33m\u001b[0m\u001b[0m\n\u001b[0m\u001b[0;32m     11\u001b[0m         \u001b[0max2\u001b[0m\u001b[1;33m.\u001b[0m\u001b[0maxes\u001b[0m\u001b[1;33m.\u001b[0m\u001b[0mset_title\u001b[0m\u001b[1;33m(\u001b[0m\u001b[1;34m'Distribution of Height by Sport in Winter Olympics '\u001b[0m\u001b[1;33m,\u001b[0m \u001b[0mfontsize\u001b[0m\u001b[1;33m=\u001b[0m\u001b[1;36m20\u001b[0m\u001b[1;33m,\u001b[0m \u001b[0my\u001b[0m\u001b[1;33m=\u001b[0m\u001b[1;36m1.015\u001b[0m\u001b[1;33m)\u001b[0m\u001b[1;33m\u001b[0m\u001b[0m\n\u001b[0;32m     12\u001b[0m         \u001b[0max2\u001b[0m\u001b[1;33m.\u001b[0m\u001b[0mset\u001b[0m\u001b[1;33m(\u001b[0m\u001b[1;34m'Distribution of height (cms)'\u001b[0m\u001b[1;33m,\u001b[0m \u001b[0mylabel\u001b[0m\u001b[1;33m=\u001b[0m\u001b[1;34m'Sporting Events'\u001b[0m\u001b[1;33m,\u001b[0m \u001b[0mfontsize\u001b[0m\u001b[1;33m=\u001b[0m\u001b[1;36m18\u001b[0m\u001b[1;33m,\u001b[0m \u001b[0mlabelpad\u001b[0m\u001b[1;33m=\u001b[0m\u001b[1;36m16\u001b[0m\u001b[1;33m)\u001b[0m\u001b[1;33m\u001b[0m\u001b[0m\n",
          "\u001b[1;31mNameError\u001b[0m: name 'ax2' is not defined"
         ]
        }
       ]
      }
     },
     "fe03a75232164233bd613c6f1c1390ef": {
      "model_module": "@jupyter-widgets/base",
      "model_module_version": "1.1.0",
      "model_name": "LayoutModel",
      "state": {
       "_model_module_version": "1.1.0",
       "_view_module_version": "1.1.0",
       "grid_area": null,
       "grid_auto_columns": null,
       "grid_auto_flow": null,
       "grid_auto_rows": null,
       "grid_column": null,
       "grid_gap": null,
       "grid_row": null,
       "grid_template_areas": null,
       "grid_template_columns": null,
       "grid_template_rows": null
      }
     },
     "fe41db6b36da48abbdaa1df2bb4d832f": {
      "model_module": "@jupyter-widgets/base",
      "model_module_version": "1.1.0",
      "model_name": "LayoutModel",
      "state": {
       "_model_module_version": "1.1.0",
       "_view_module_version": "1.1.0",
       "grid_area": null,
       "grid_auto_columns": null,
       "grid_auto_flow": null,
       "grid_auto_rows": null,
       "grid_column": null,
       "grid_gap": null,
       "grid_row": null,
       "grid_template_areas": null,
       "grid_template_columns": null,
       "grid_template_rows": null
      }
     }
    },
    "version_major": 2,
    "version_minor": 0
   }
  }
 },
 "nbformat": 4,
 "nbformat_minor": 2
}
